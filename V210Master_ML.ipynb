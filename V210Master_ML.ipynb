{
  "nbformat": 4,
  "nbformat_minor": 0,
  "metadata": {
    "colab": {
      "provenance": [],
      "include_colab_link": true
    },
    "kernelspec": {
      "name": "python3",
      "display_name": "Python 3"
    },
    "language_info": {
      "name": "python"
    },
    "widgets": {
      "application/vnd.jupyter.widget-state+json": {
        "f934bc38c9a34f8b8415ee57d8007864": {
          "model_module": "@jupyter-widgets/controls",
          "model_name": "DropdownModel",
          "model_module_version": "1.5.0",
          "state": {
            "_dom_classes": [],
            "_model_module": "@jupyter-widgets/controls",
            "_model_module_version": "1.5.0",
            "_model_name": "DropdownModel",
            "_options_labels": [
              "ALL",
              "User Defined with Index Range",
              "User Defined with Individual Feature",
              "Model Free 1",
              "Model Free 2",
              "Model Free 3",
              "Model Based:KNN"
            ],
            "_view_count": null,
            "_view_module": "@jupyter-widgets/controls",
            "_view_module_version": "1.5.0",
            "_view_name": "DropdownView",
            "description": "Feture Select:",
            "description_tooltip": null,
            "disabled": false,
            "index": 0,
            "layout": "IPY_MODEL_03db0209921c4932a39d420030a0d10e",
            "style": "IPY_MODEL_5afe9b0c9ce8424ab0c7d4b12b03775e"
          }
        },
        "03db0209921c4932a39d420030a0d10e": {
          "model_module": "@jupyter-widgets/base",
          "model_name": "LayoutModel",
          "model_module_version": "1.2.0",
          "state": {
            "_model_module": "@jupyter-widgets/base",
            "_model_module_version": "1.2.0",
            "_model_name": "LayoutModel",
            "_view_count": null,
            "_view_module": "@jupyter-widgets/base",
            "_view_module_version": "1.2.0",
            "_view_name": "LayoutView",
            "align_content": null,
            "align_items": null,
            "align_self": null,
            "border": null,
            "bottom": null,
            "display": null,
            "flex": null,
            "flex_flow": null,
            "grid_area": null,
            "grid_auto_columns": null,
            "grid_auto_flow": null,
            "grid_auto_rows": null,
            "grid_column": null,
            "grid_gap": null,
            "grid_row": null,
            "grid_template_areas": null,
            "grid_template_columns": null,
            "grid_template_rows": null,
            "height": null,
            "justify_content": null,
            "justify_items": null,
            "left": null,
            "margin": null,
            "max_height": null,
            "max_width": null,
            "min_height": null,
            "min_width": null,
            "object_fit": null,
            "object_position": null,
            "order": null,
            "overflow": null,
            "overflow_x": null,
            "overflow_y": null,
            "padding": null,
            "right": null,
            "top": null,
            "visibility": null,
            "width": null
          }
        },
        "5afe9b0c9ce8424ab0c7d4b12b03775e": {
          "model_module": "@jupyter-widgets/controls",
          "model_name": "DescriptionStyleModel",
          "model_module_version": "1.5.0",
          "state": {
            "_model_module": "@jupyter-widgets/controls",
            "_model_module_version": "1.5.0",
            "_model_name": "DescriptionStyleModel",
            "_view_count": null,
            "_view_module": "@jupyter-widgets/base",
            "_view_module_version": "1.2.0",
            "_view_name": "StyleView",
            "description_width": ""
          }
        }
      }
    }
  },
  "cells": [
    {
      "cell_type": "markdown",
      "metadata": {
        "id": "view-in-github",
        "colab_type": "text"
      },
      "source": [
        "<a href=\"https://colab.research.google.com/github/RafsanJany-44/Research-NREM-REM/blob/main/V210Master_ML.ipynb\" target=\"_parent\"><img src=\"https://colab.research.google.com/assets/colab-badge.svg\" alt=\"Open In Colab\"/></a>"
      ]
    },
    {
      "cell_type": "code",
      "execution_count": 94,
      "metadata": {
        "id": "zdFOS9nFlpsU"
      },
      "outputs": [],
      "source": [
        "#from google.colab import drive\n",
        "#drive.mount('/content/drive')"
      ]
    },
    {
      "cell_type": "code",
      "source": [],
      "metadata": {
        "id": "J6ZJsYeU7XEU"
      },
      "execution_count": 94,
      "outputs": []
    },
    {
      "cell_type": "code",
      "source": [
        "import numpy as np\n",
        "import pandas as pd\n",
        "\n",
        "dataset=pd.read_csv(\"https://raw.githubusercontent.com/RafsanJany-44/Research-NREM-REM/main/dataset/REM_NREM.csv\")\n",
        "\n",
        "\n",
        "target=\"Sleep_Stage\"\n",
        "\n",
        "classes = np.array(sorted(list(set(dataset[target]))))\n"
      ],
      "metadata": {
        "id": "M0AmIUwSmLfj"
      },
      "execution_count": 1,
      "outputs": []
    },
    {
      "cell_type": "code",
      "source": [
        "dataset.head()"
      ],
      "metadata": {
        "colab": {
          "base_uri": "https://localhost:8080/",
          "height": 317
        },
        "id": "4YN_C8yxm1ho",
        "outputId": "5c263d43-1841-4438-d292-db1aeeba3dff"
      },
      "execution_count": 2,
      "outputs": [
        {
          "output_type": "execute_result",
          "data": {
            "text/plain": [
              "  Sleep_Stage  MeanP_Alpha_F4  MedianF_Alpha_F4  MeanF_Alpha_F4  \\\n",
              "0        NREM         0.00034          10.11512        17.85756   \n",
              "1        NREM         0.00035          10.73951        17.60780   \n",
              "2        NREM         0.00035           9.36585        17.60780   \n",
              "3        NREM         0.00050          10.36488        16.60878   \n",
              "4        NREM         0.00072           9.36585        15.98439   \n",
              "\n",
              "   Spectral Edge_Alpha_F4  PeakF_Alpha_F4  MeanP_Beta_F4  MedianF_Beta_F4  \\\n",
              "0                17.48293        10.24000        0.00047         17.73268   \n",
              "1                17.10829         9.11610        0.00048         16.85854   \n",
              "2                16.98341         9.24098        0.00042         17.35805   \n",
              "3                15.85951         7.99220        0.00053         15.48488   \n",
              "4                15.48488         7.99220        0.00067         15.11024   \n",
              "\n",
              "   MeanF_Beta_F4  Spectral Edge_Beta_F4  ...  MeanP_Delta_O2  \\\n",
              "0       25.35024               27.47317  ...         0.00112   \n",
              "1       25.22537               26.97366  ...         0.00070   \n",
              "2       26.09951               28.47220  ...         0.00077   \n",
              "3       24.10146               25.72488  ...         0.00130   \n",
              "4       22.22829               23.22732  ...         0.00123   \n",
              "\n",
              "   MedianF_Delta_O2  MeanF_Delta_O2  Spectral Edge_Delta_O2  PeakF_Delta_O2  \\\n",
              "0           0.74927         6.36878                 2.87220         0.62439   \n",
              "1           0.99902         6.86829                 3.62146         0.74927   \n",
              "2           1.49854         6.49366                 4.12098         0.74927   \n",
              "3           1.87317         6.11902                 3.74634         0.37463   \n",
              "4           1.49854         6.61854                 3.74634         0.74927   \n",
              "\n",
              "   MeanP_Gamma_O2  MedianF_Gamma_O2  MeanF_Gamma_O2  Spectral Edge_Gamma_O2  \\\n",
              "0        0.000076          32.71805        43.83220                49.95122   \n",
              "1        0.000072          32.09366        44.33171                49.95122   \n",
              "2        0.000069          33.09268        43.95707                49.95122   \n",
              "3        0.000070          31.59415        42.83317                49.95122   \n",
              "4        0.000060          29.47122        45.08098                49.95122   \n",
              "\n",
              "   PeakF_Gamma_O2  \n",
              "0        49.95122  \n",
              "1        49.95122  \n",
              "2        49.95122  \n",
              "3        49.95122  \n",
              "4        49.95122  \n",
              "\n",
              "[5 rows x 76 columns]"
            ],
            "text/html": [
              "\n",
              "  <div id=\"df-cb80ecc9-ed4f-45af-8eb7-65c399b77815\">\n",
              "    <div class=\"colab-df-container\">\n",
              "      <div>\n",
              "<style scoped>\n",
              "    .dataframe tbody tr th:only-of-type {\n",
              "        vertical-align: middle;\n",
              "    }\n",
              "\n",
              "    .dataframe tbody tr th {\n",
              "        vertical-align: top;\n",
              "    }\n",
              "\n",
              "    .dataframe thead th {\n",
              "        text-align: right;\n",
              "    }\n",
              "</style>\n",
              "<table border=\"1\" class=\"dataframe\">\n",
              "  <thead>\n",
              "    <tr style=\"text-align: right;\">\n",
              "      <th></th>\n",
              "      <th>Sleep_Stage</th>\n",
              "      <th>MeanP_Alpha_F4</th>\n",
              "      <th>MedianF_Alpha_F4</th>\n",
              "      <th>MeanF_Alpha_F4</th>\n",
              "      <th>Spectral Edge_Alpha_F4</th>\n",
              "      <th>PeakF_Alpha_F4</th>\n",
              "      <th>MeanP_Beta_F4</th>\n",
              "      <th>MedianF_Beta_F4</th>\n",
              "      <th>MeanF_Beta_F4</th>\n",
              "      <th>Spectral Edge_Beta_F4</th>\n",
              "      <th>...</th>\n",
              "      <th>MeanP_Delta_O2</th>\n",
              "      <th>MedianF_Delta_O2</th>\n",
              "      <th>MeanF_Delta_O2</th>\n",
              "      <th>Spectral Edge_Delta_O2</th>\n",
              "      <th>PeakF_Delta_O2</th>\n",
              "      <th>MeanP_Gamma_O2</th>\n",
              "      <th>MedianF_Gamma_O2</th>\n",
              "      <th>MeanF_Gamma_O2</th>\n",
              "      <th>Spectral Edge_Gamma_O2</th>\n",
              "      <th>PeakF_Gamma_O2</th>\n",
              "    </tr>\n",
              "  </thead>\n",
              "  <tbody>\n",
              "    <tr>\n",
              "      <th>0</th>\n",
              "      <td>NREM</td>\n",
              "      <td>0.00034</td>\n",
              "      <td>10.11512</td>\n",
              "      <td>17.85756</td>\n",
              "      <td>17.48293</td>\n",
              "      <td>10.24000</td>\n",
              "      <td>0.00047</td>\n",
              "      <td>17.73268</td>\n",
              "      <td>25.35024</td>\n",
              "      <td>27.47317</td>\n",
              "      <td>...</td>\n",
              "      <td>0.00112</td>\n",
              "      <td>0.74927</td>\n",
              "      <td>6.36878</td>\n",
              "      <td>2.87220</td>\n",
              "      <td>0.62439</td>\n",
              "      <td>0.000076</td>\n",
              "      <td>32.71805</td>\n",
              "      <td>43.83220</td>\n",
              "      <td>49.95122</td>\n",
              "      <td>49.95122</td>\n",
              "    </tr>\n",
              "    <tr>\n",
              "      <th>1</th>\n",
              "      <td>NREM</td>\n",
              "      <td>0.00035</td>\n",
              "      <td>10.73951</td>\n",
              "      <td>17.60780</td>\n",
              "      <td>17.10829</td>\n",
              "      <td>9.11610</td>\n",
              "      <td>0.00048</td>\n",
              "      <td>16.85854</td>\n",
              "      <td>25.22537</td>\n",
              "      <td>26.97366</td>\n",
              "      <td>...</td>\n",
              "      <td>0.00070</td>\n",
              "      <td>0.99902</td>\n",
              "      <td>6.86829</td>\n",
              "      <td>3.62146</td>\n",
              "      <td>0.74927</td>\n",
              "      <td>0.000072</td>\n",
              "      <td>32.09366</td>\n",
              "      <td>44.33171</td>\n",
              "      <td>49.95122</td>\n",
              "      <td>49.95122</td>\n",
              "    </tr>\n",
              "    <tr>\n",
              "      <th>2</th>\n",
              "      <td>NREM</td>\n",
              "      <td>0.00035</td>\n",
              "      <td>9.36585</td>\n",
              "      <td>17.60780</td>\n",
              "      <td>16.98341</td>\n",
              "      <td>9.24098</td>\n",
              "      <td>0.00042</td>\n",
              "      <td>17.35805</td>\n",
              "      <td>26.09951</td>\n",
              "      <td>28.47220</td>\n",
              "      <td>...</td>\n",
              "      <td>0.00077</td>\n",
              "      <td>1.49854</td>\n",
              "      <td>6.49366</td>\n",
              "      <td>4.12098</td>\n",
              "      <td>0.74927</td>\n",
              "      <td>0.000069</td>\n",
              "      <td>33.09268</td>\n",
              "      <td>43.95707</td>\n",
              "      <td>49.95122</td>\n",
              "      <td>49.95122</td>\n",
              "    </tr>\n",
              "    <tr>\n",
              "      <th>3</th>\n",
              "      <td>NREM</td>\n",
              "      <td>0.00050</td>\n",
              "      <td>10.36488</td>\n",
              "      <td>16.60878</td>\n",
              "      <td>15.85951</td>\n",
              "      <td>7.99220</td>\n",
              "      <td>0.00053</td>\n",
              "      <td>15.48488</td>\n",
              "      <td>24.10146</td>\n",
              "      <td>25.72488</td>\n",
              "      <td>...</td>\n",
              "      <td>0.00130</td>\n",
              "      <td>1.87317</td>\n",
              "      <td>6.11902</td>\n",
              "      <td>3.74634</td>\n",
              "      <td>0.37463</td>\n",
              "      <td>0.000070</td>\n",
              "      <td>31.59415</td>\n",
              "      <td>42.83317</td>\n",
              "      <td>49.95122</td>\n",
              "      <td>49.95122</td>\n",
              "    </tr>\n",
              "    <tr>\n",
              "      <th>4</th>\n",
              "      <td>NREM</td>\n",
              "      <td>0.00072</td>\n",
              "      <td>9.36585</td>\n",
              "      <td>15.98439</td>\n",
              "      <td>15.48488</td>\n",
              "      <td>7.99220</td>\n",
              "      <td>0.00067</td>\n",
              "      <td>15.11024</td>\n",
              "      <td>22.22829</td>\n",
              "      <td>23.22732</td>\n",
              "      <td>...</td>\n",
              "      <td>0.00123</td>\n",
              "      <td>1.49854</td>\n",
              "      <td>6.61854</td>\n",
              "      <td>3.74634</td>\n",
              "      <td>0.74927</td>\n",
              "      <td>0.000060</td>\n",
              "      <td>29.47122</td>\n",
              "      <td>45.08098</td>\n",
              "      <td>49.95122</td>\n",
              "      <td>49.95122</td>\n",
              "    </tr>\n",
              "  </tbody>\n",
              "</table>\n",
              "<p>5 rows × 76 columns</p>\n",
              "</div>\n",
              "      <button class=\"colab-df-convert\" onclick=\"convertToInteractive('df-cb80ecc9-ed4f-45af-8eb7-65c399b77815')\"\n",
              "              title=\"Convert this dataframe to an interactive table.\"\n",
              "              style=\"display:none;\">\n",
              "        \n",
              "  <svg xmlns=\"http://www.w3.org/2000/svg\" height=\"24px\"viewBox=\"0 0 24 24\"\n",
              "       width=\"24px\">\n",
              "    <path d=\"M0 0h24v24H0V0z\" fill=\"none\"/>\n",
              "    <path d=\"M18.56 5.44l.94 2.06.94-2.06 2.06-.94-2.06-.94-.94-2.06-.94 2.06-2.06.94zm-11 1L8.5 8.5l.94-2.06 2.06-.94-2.06-.94L8.5 2.5l-.94 2.06-2.06.94zm10 10l.94 2.06.94-2.06 2.06-.94-2.06-.94-.94-2.06-.94 2.06-2.06.94z\"/><path d=\"M17.41 7.96l-1.37-1.37c-.4-.4-.92-.59-1.43-.59-.52 0-1.04.2-1.43.59L10.3 9.45l-7.72 7.72c-.78.78-.78 2.05 0 2.83L4 21.41c.39.39.9.59 1.41.59.51 0 1.02-.2 1.41-.59l7.78-7.78 2.81-2.81c.8-.78.8-2.07 0-2.86zM5.41 20L4 18.59l7.72-7.72 1.47 1.35L5.41 20z\"/>\n",
              "  </svg>\n",
              "      </button>\n",
              "      \n",
              "  <style>\n",
              "    .colab-df-container {\n",
              "      display:flex;\n",
              "      flex-wrap:wrap;\n",
              "      gap: 12px;\n",
              "    }\n",
              "\n",
              "    .colab-df-convert {\n",
              "      background-color: #E8F0FE;\n",
              "      border: none;\n",
              "      border-radius: 50%;\n",
              "      cursor: pointer;\n",
              "      display: none;\n",
              "      fill: #1967D2;\n",
              "      height: 32px;\n",
              "      padding: 0 0 0 0;\n",
              "      width: 32px;\n",
              "    }\n",
              "\n",
              "    .colab-df-convert:hover {\n",
              "      background-color: #E2EBFA;\n",
              "      box-shadow: 0px 1px 2px rgba(60, 64, 67, 0.3), 0px 1px 3px 1px rgba(60, 64, 67, 0.15);\n",
              "      fill: #174EA6;\n",
              "    }\n",
              "\n",
              "    [theme=dark] .colab-df-convert {\n",
              "      background-color: #3B4455;\n",
              "      fill: #D2E3FC;\n",
              "    }\n",
              "\n",
              "    [theme=dark] .colab-df-convert:hover {\n",
              "      background-color: #434B5C;\n",
              "      box-shadow: 0px 1px 3px 1px rgba(0, 0, 0, 0.15);\n",
              "      filter: drop-shadow(0px 1px 2px rgba(0, 0, 0, 0.3));\n",
              "      fill: #FFFFFF;\n",
              "    }\n",
              "  </style>\n",
              "\n",
              "      <script>\n",
              "        const buttonEl =\n",
              "          document.querySelector('#df-cb80ecc9-ed4f-45af-8eb7-65c399b77815 button.colab-df-convert');\n",
              "        buttonEl.style.display =\n",
              "          google.colab.kernel.accessAllowed ? 'block' : 'none';\n",
              "\n",
              "        async function convertToInteractive(key) {\n",
              "          const element = document.querySelector('#df-cb80ecc9-ed4f-45af-8eb7-65c399b77815');\n",
              "          const dataTable =\n",
              "            await google.colab.kernel.invokeFunction('convertToInteractive',\n",
              "                                                     [key], {});\n",
              "          if (!dataTable) return;\n",
              "\n",
              "          const docLinkHtml = 'Like what you see? Visit the ' +\n",
              "            '<a target=\"_blank\" href=https://colab.research.google.com/notebooks/data_table.ipynb>data table notebook</a>'\n",
              "            + ' to learn more about interactive tables.';\n",
              "          element.innerHTML = '';\n",
              "          dataTable['output_type'] = 'display_data';\n",
              "          await google.colab.output.renderOutput(dataTable, element);\n",
              "          const docLink = document.createElement('div');\n",
              "          docLink.innerHTML = docLinkHtml;\n",
              "          element.appendChild(docLink);\n",
              "        }\n",
              "      </script>\n",
              "    </div>\n",
              "  </div>\n",
              "  "
            ]
          },
          "metadata": {},
          "execution_count": 2
        }
      ]
    },
    {
      "cell_type": "code",
      "source": [
        "set(list(dataset[target]))"
      ],
      "metadata": {
        "colab": {
          "base_uri": "https://localhost:8080/"
        },
        "id": "VS4iUbnyYaDH",
        "outputId": "fe041c1e-6242-4b4a-a884-be7d622fb89f"
      },
      "execution_count": 3,
      "outputs": [
        {
          "output_type": "execute_result",
          "data": {
            "text/plain": [
              "{'NREM', 'REM'}"
            ]
          },
          "metadata": {},
          "execution_count": 3
        }
      ]
    },
    {
      "cell_type": "code",
      "source": [
        "\n",
        "from sklearn.preprocessing import LabelEncoder\n",
        "encoder=LabelEncoder()\n",
        "dataset[target]=encoder.fit_transform(dataset[target])"
      ],
      "metadata": {
        "id": "Ljyj9yuIf-tX"
      },
      "execution_count": 4,
      "outputs": []
    },
    {
      "cell_type": "code",
      "source": [
        "set(list(dataset[target]))"
      ],
      "metadata": {
        "colab": {
          "base_uri": "https://localhost:8080/"
        },
        "id": "42si00q3SLh5",
        "outputId": "ad9234a4-1ad3-4ba0-d8aa-74508e04cf4b"
      },
      "execution_count": 5,
      "outputs": [
        {
          "output_type": "execute_result",
          "data": {
            "text/plain": [
              "{0, 1}"
            ]
          },
          "metadata": {},
          "execution_count": 5
        }
      ]
    },
    {
      "cell_type": "markdown",
      "source": [
        "#Feature Selection"
      ],
      "metadata": {
        "id": "yxU3_uTmPNdH"
      }
    },
    {
      "cell_type": "code",
      "source": [
        "X_ = dataset.loc[:, dataset.columns!=target]\n",
        "y_ = dataset[target]"
      ],
      "metadata": {
        "id": "qLOjEw-uPWuR"
      },
      "execution_count": 6,
      "outputs": []
    },
    {
      "cell_type": "markdown",
      "source": [
        "###Feature Selection (User Defined with Index Range)"
      ],
      "metadata": {
        "id": "FBLG5DCEWqcm"
      }
    },
    {
      "cell_type": "markdown",
      "source": [
        "\n",
        "*   Index- [245]  to  [274] -> EEG Features\n",
        "*   Index- [4]    to  [243] -> Normal Features\n",
        "\n"
      ],
      "metadata": {
        "id": "xHRiRL0dY_zS"
      }
    },
    {
      "cell_type": "code",
      "source": [
        "def FS_UD_index(dataset):\n",
        "  list_of_feat=[]\n",
        "  norm_start=int(input(\"Normal Features Start Index:\"))\n",
        "  norm_end=int(input(\"Normal Features End Index:\"))\n",
        "  eeg_start=int(input(\"EEG Features Start Index:\"))\n",
        "  eeg_end=int(input(\"EEG Features End Index:\"))\n",
        "\n",
        "\n",
        "\n",
        "  list_of_feat=list_of_feat+list(dataset.iloc[:0,norm_start:norm_end])+list(dataset.iloc[:0,eeg_start:eeg_end])\n",
        "  return list_of_feat\n"
      ],
      "metadata": {
        "id": "wYwH4fT-WqDN"
      },
      "execution_count": 7,
      "outputs": []
    },
    {
      "cell_type": "markdown",
      "source": [
        "###Feature Selection (User Defined with Individual Feature)"
      ],
      "metadata": {
        "id": "lEdeidn9cEd0"
      }
    },
    {
      "cell_type": "markdown",
      "source": [
        "**Please Input 'Subject' colunm name first**"
      ],
      "metadata": {
        "id": "KLkoTSe3fzZ8"
      }
    },
    {
      "cell_type": "code",
      "source": [
        "\n",
        "def FS_UD_feat():\n",
        "  list_of_feat=[]\n",
        "  num=int(input(\"Input number of features: \"))\n",
        "\n",
        "  for i in range(num):\n",
        "    print(i+1,\".\")\n",
        "    list_of_feat.append(input(\"Feature Name: \"))\n",
        "  return list_of_feat\n"
      ],
      "metadata": {
        "id": "1iykvLX8cHku"
      },
      "execution_count": 8,
      "outputs": []
    },
    {
      "cell_type": "markdown",
      "source": [
        "###Feature Selection (Model Free)"
      ],
      "metadata": {
        "id": "UaMqQtc8z1dc"
      }
    },
    {
      "cell_type": "markdown",
      "source": [
        "**Type-1**"
      ],
      "metadata": {
        "id": "AjBrNIkMTJaA"
      }
    },
    {
      "cell_type": "code",
      "source": [
        "\n",
        "\n",
        "def FS_bestfeatures_1(X_,y_):\n",
        "  from sklearn.feature_selection import SelectKBest\n",
        "  bestfeatures_1 = SelectKBest(k=10)\n",
        "  fit = bestfeatures_1.fit(X_,y_)\n",
        "  dfscores = pd.DataFrame(fit.scores_)\n",
        "  dfcolumns = pd.DataFrame(X_.columns)\n",
        "  featureScores = pd.concat([dfcolumns,dfscores],axis=1)\n",
        "  featureScores.columns = ['Specs','Score']\n",
        "\n",
        "\n",
        "  number_of_feat=int(input(\"Number Of Best Features: \"))\n",
        "\n",
        "  imp=featureScores.nlargest(number_of_feat,'Score')\n",
        "\n",
        "  print(imp)\n",
        "  list_of_feat=[]\n",
        "\n",
        "  for i in range(number_of_feat):\n",
        "    list_of_feat.append(imp.iloc[:,0:1].values[i][0])\n",
        "\n",
        "\n",
        "  return list_of_feat"
      ],
      "metadata": {
        "id": "PAG90MeI0S7O"
      },
      "execution_count": 9,
      "outputs": []
    },
    {
      "cell_type": "markdown",
      "source": [
        "**Type-2**"
      ],
      "metadata": {
        "id": "Ftetc2yrTV6F"
      }
    },
    {
      "cell_type": "code",
      "source": [
        "\n",
        "\n",
        "def FS_bestfeatures_2(X_,y_):\n",
        "  from sklearn.feature_selection import SelectKBest,f_classif\n",
        "  bestfeatures_2=SelectKBest(f_classif, k=10)\n",
        "  fit = bestfeatures_2.fit(X_,y_)\n",
        "  dfscores = pd.DataFrame(fit.scores_)\n",
        "  dfcolumns = pd.DataFrame(X_.columns)\n",
        "  featureScores = pd.concat([dfcolumns,dfscores],axis=1)\n",
        "  featureScores.columns = ['Specs','Score']\n",
        "\n",
        "\n",
        "  number_of_feat=int(input(\"Number Of Best Features: \"))\n",
        "\n",
        "  imp=featureScores.nlargest(number_of_feat,'Score')\n",
        "\n",
        "  print(imp)\n",
        "  list_of_feat=[]\n",
        "\n",
        "  for i in range(number_of_feat):\n",
        "    list_of_feat.append(imp.iloc[:,0:1].values[i][0])\n",
        "\n",
        "  return list_of_feat"
      ],
      "metadata": {
        "id": "2u0_C3phPo4J"
      },
      "execution_count": 10,
      "outputs": []
    },
    {
      "cell_type": "markdown",
      "source": [
        "**Type-3**"
      ],
      "metadata": {
        "id": "ftYkiPhdTYrB"
      }
    },
    {
      "cell_type": "code",
      "source": [
        "\n",
        "\n",
        "def FS_bestfeatures_3(X_,y_):\n",
        "  from sklearn.feature_selection import SelectFpr, f_classif\n",
        "\n",
        "  bestfeatures_3=SelectFpr(f_classif, alpha=0.1)\n",
        "  fit = bestfeatures_3.fit(X_,y_)\n",
        "  dfscores = pd.DataFrame(fit.scores_)\n",
        "  dfcolumns = pd.DataFrame(X_.columns)\n",
        "  featureScores = pd.concat([dfcolumns,dfscores],axis=1)\n",
        "  featureScores.columns = ['Specs','Score']\n",
        "\n",
        "  number_of_feat=int(input(\"Number Of Best Features: \"))\n",
        "\n",
        "  imp=featureScores.nlargest(number_of_feat,'Score')\n",
        "  \n",
        "  print(imp)\n",
        "  list_of_feat=[]\n",
        "\n",
        "  for i in range(number_of_feat):\n",
        "    list_of_feat.append(imp.iloc[:,0:1].values[i][0])\n",
        "\n",
        "  return list_of_feat"
      ],
      "metadata": {
        "id": "UCT592TwR7VO"
      },
      "execution_count": 11,
      "outputs": []
    },
    {
      "cell_type": "markdown",
      "source": [
        "###Feature Selection (Model Based)"
      ],
      "metadata": {
        "id": "TwYIOctDZBnz"
      }
    },
    {
      "cell_type": "code",
      "source": [
        "\n",
        "def FS_model(X_, y_):\n",
        "  number_of_feat=int(input(\"Number Of Best Features: \"))\n",
        "\n",
        "  from sklearn.feature_selection import SequentialFeatureSelector\n",
        "  from sklearn.neighbors import KNeighborsClassifier\n",
        "  knn = KNeighborsClassifier(n_neighbors=3)\n",
        "  sfs = SequentialFeatureSelector(knn, n_features_to_select=number_of_feat)\n",
        "  sfs.fit(X_, y_)\n",
        "  list_of_feat=[]\n",
        "  list_of_feat=list(sfs.get_feature_names_out(list(dataset.iloc[:0,3:])))\n",
        "\n",
        "  return list_of_feat"
      ],
      "metadata": {
        "id": "Bes4X8B7ZIf5"
      },
      "execution_count": 12,
      "outputs": []
    },
    {
      "cell_type": "markdown",
      "source": [
        "###Combine in a def"
      ],
      "metadata": {
        "id": "wjNu-Wmqar1_"
      }
    },
    {
      "cell_type": "code",
      "source": [
        "def Feat_Select(num,dataset,X_,y_):\n",
        "  if num==0:\n",
        "    return list(X_.columns)\n",
        "  if num==1:\n",
        "    return FS_UD_index(dataset)\n",
        "  elif num==2:\n",
        "    return FS_UD_feat()\n",
        "  elif num==3:\n",
        "    return FS_bestfeatures_1(X_,y_)\n",
        "  elif num==4:\n",
        "    return FS_bestfeatures_2(X_,y_)\n",
        "  elif num==5:\n",
        "    return FS_bestfeatures_3(X_,y_)\n",
        "  elif num==6:\n",
        "    return FS_model(X_, y_)"
      ],
      "metadata": {
        "id": "9Xfunb7iaqZH"
      },
      "execution_count": 13,
      "outputs": []
    },
    {
      "cell_type": "markdown",
      "source": [
        "#Feature Selection Drop Down"
      ],
      "metadata": {
        "id": "PHDzzzurPBeQ"
      }
    },
    {
      "cell_type": "code",
      "source": [
        "import ipywidgets as widgets\n",
        "from IPython.display import display\n",
        "\n",
        "key=widgets.Dropdown(\n",
        "    options=[('ALL', 0),('User Defined with Index Range', 1), ('User Defined with Individual Feature', 2),\n",
        "             ('Model Free 1', 3),('Model Free 2',4),('Model Free 3',5),('Model Based:KNN',6)],\n",
        "    value=0,\n",
        "    description='Feture Select:',\n",
        ")\n",
        "display(key)\n"
      ],
      "metadata": {
        "colab": {
          "base_uri": "https://localhost:8080/",
          "height": 0,
          "referenced_widgets": [
            "f934bc38c9a34f8b8415ee57d8007864",
            "03db0209921c4932a39d420030a0d10e",
            "5afe9b0c9ce8424ab0c7d4b12b03775e"
          ]
        },
        "id": "J50mMNq7PAU-",
        "outputId": "586e19fd-da01-422f-e5ee-b864ed1588e1"
      },
      "execution_count": 14,
      "outputs": [
        {
          "output_type": "display_data",
          "data": {
            "text/plain": [
              "Dropdown(description='Feture Select:', options=(('ALL', 0), ('User Defined with Index Range', 1), ('User Defin…"
            ],
            "application/vnd.jupyter.widget-view+json": {
              "version_major": 2,
              "version_minor": 0,
              "model_id": "f934bc38c9a34f8b8415ee57d8007864"
            }
          },
          "metadata": {}
        }
      ]
    },
    {
      "cell_type": "code",
      "source": [
        "list_of_feat=Feat_Select(key.value,dataset,X_,y_)"
      ],
      "metadata": {
        "id": "DJ5FxzZuU-5r"
      },
      "execution_count": 15,
      "outputs": []
    },
    {
      "cell_type": "code",
      "source": [
        "print(len(list_of_feat))"
      ],
      "metadata": {
        "colab": {
          "base_uri": "https://localhost:8080/"
        },
        "id": "rDVg9k74BKKa",
        "outputId": "81f1e972-c36b-4cb7-9002-3413375a7769"
      },
      "execution_count": 16,
      "outputs": [
        {
          "output_type": "stream",
          "name": "stdout",
          "text": [
            "75\n"
          ]
        }
      ]
    },
    {
      "cell_type": "markdown",
      "source": [
        "#Data Spliting"
      ],
      "metadata": {
        "id": "C0Akgb_na7NU"
      }
    },
    {
      "cell_type": "code",
      "source": [
        "print(*list_of_feat,sep=\"\\n\")"
      ],
      "metadata": {
        "colab": {
          "base_uri": "https://localhost:8080/"
        },
        "id": "z21RHPOcZQgP",
        "outputId": "e5b1e85a-032b-42d4-d748-d8d3c202d818"
      },
      "execution_count": 17,
      "outputs": [
        {
          "output_type": "stream",
          "name": "stdout",
          "text": [
            "MeanP_Alpha_F4\n",
            "MedianF_Alpha_F4\n",
            "MeanF_Alpha_F4\n",
            "Spectral Edge_Alpha_F4\n",
            "PeakF_Alpha_F4\n",
            "MeanP_Beta_F4\n",
            "MedianF_Beta_F4\n",
            "MeanF_Beta_F4\n",
            "Spectral Edge_Beta_F4\n",
            "PeakF_Beta_F4\n",
            "MeanP_Theta_F4\n",
            "MedianF_Theta_F4\n",
            "MeanF_Theta_F4\n",
            "Spectral Edge_Theta_F4\n",
            "PeakF_Theta_F4\n",
            "MeanP_Delta_F4\n",
            "MedianF_Delta_F4\n",
            "MeanF_Delta_F4\n",
            "Spectral Edge_Delta_F4\n",
            "PeakF_Delta_F4\n",
            "MeanP_Gamma_F4\n",
            "MedianF_Gamma_F4\n",
            "MeanF_Gamma_F4\n",
            "Spectral Edge_Gamma_F4\n",
            "PeakF_Gamma_F4\n",
            "MeanP_Alpha_C4\n",
            "MedianF_Alpha_C4\n",
            "MeanF_Alpha_C4\n",
            "Spectral Edge_Alpha_C4\n",
            "PeakF_Alpha_C4\n",
            "MeanP_Beta_C4\n",
            "MedianF_Beta_C4\n",
            "MeanF_Beta_C4\n",
            "Spectral Edge_Beta_C4\n",
            "PeakF_Beta_C4\n",
            "MeanP_Theta_C4\n",
            "MedianF_Theta_C4\n",
            "MeanF_Theta_C4\n",
            "Spectral Edge_Theta_C4\n",
            "PeakF_Theta_C4\n",
            "MeanP_Delta_C4\n",
            "MedianF_Delta_C4\n",
            "MeanF_Delta_C4\n",
            "Spectral Edge_Delta_C4\n",
            "PeakF_Delta_C4\n",
            "MeanP_Gamma_C4\n",
            "MedianF_Gamma_C4\n",
            "MeanF_Gamma_C4\n",
            "Spectral Edge_Gamma_C4\n",
            "PeakF_Gamma_C4\n",
            "MeanP_Alpha_O2\n",
            "MedianF_Alpha_O2\n",
            "MeanF_Alpha_O2\n",
            "Spectral Edge_Alpha_O2\n",
            "PeakF_Alpha_O2\n",
            "MeanP_Beta_O2\n",
            "MedianF_Beta_O2\n",
            "MeanF_Beta_O2\n",
            "Spectral Edge_Beta_O2\n",
            "PeakF_Beta_O2\n",
            "MeanP_Theta_O2\n",
            "MedianF_Theta_O2\n",
            "MeanF_Theta_O2\n",
            "Spectral Edge_Theta_O2\n",
            "PeakF_Theta_O2\n",
            "MeanP_Delta_O2\n",
            "MedianF_Delta_O2\n",
            "MeanF_Delta_O2\n",
            "Spectral Edge_Delta_O2\n",
            "PeakF_Delta_O2\n",
            "MeanP_Gamma_O2\n",
            "MedianF_Gamma_O2\n",
            "MeanF_Gamma_O2\n",
            "Spectral Edge_Gamma_O2\n",
            "PeakF_Gamma_O2\n"
          ]
        }
      ]
    },
    {
      "cell_type": "code",
      "source": [
        "X_new = dataset[list_of_feat]\n",
        "y_new = dataset.iloc[:, 1]\n",
        "\n",
        "print(type(X_new))\n",
        "print(type(y_new))"
      ],
      "metadata": {
        "colab": {
          "base_uri": "https://localhost:8080/"
        },
        "id": "auO_-EoE4pro",
        "outputId": "fc5fddab-d764-406d-edad-a96ca17d0ae9"
      },
      "execution_count": 18,
      "outputs": [
        {
          "output_type": "stream",
          "name": "stdout",
          "text": [
            "<class 'pandas.core.frame.DataFrame'>\n",
            "<class 'pandas.core.series.Series'>\n"
          ]
        }
      ]
    },
    {
      "cell_type": "code",
      "source": [
        "X_new = dataset[list_of_feat]\n",
        "y_new = dataset[target]\n",
        "\n",
        "from sklearn.model_selection import train_test_split\n",
        "X_train, X_test, y_train, y_test = train_test_split(X_new, y_new, test_size = 0.2, random_state = 0)\n",
        "result={}"
      ],
      "metadata": {
        "id": "MKgy4THrq4v8"
      },
      "execution_count": 19,
      "outputs": []
    },
    {
      "cell_type": "markdown",
      "source": [
        "\n",
        "\n",
        "---\n",
        "\n"
      ],
      "metadata": {
        "id": "bqYsoblRogp2"
      }
    },
    {
      "cell_type": "markdown",
      "source": [
        "\n",
        "\n",
        "---\n",
        "\n"
      ],
      "metadata": {
        "id": "BydV84Diooxp"
      }
    },
    {
      "cell_type": "markdown",
      "source": [
        "#ADABOOST"
      ],
      "metadata": {
        "id": "jEe2R0yAoifa"
      }
    },
    {
      "cell_type": "code",
      "source": [
        "from sklearn.ensemble import AdaBoostClassifier\n",
        "\n",
        "ada_defult = AdaBoostClassifier(random_state=0)\n",
        "ada_defult.fit(X_train, y_train)\n",
        "y_pred = ada_defult.predict(X_test)\n",
        "\n",
        "from sklearn.metrics import classification_report, confusion_matrix, accuracy_score\n",
        "print(confusion_matrix(y_test, y_pred))\n",
        "print(classification_report(y_test,y_pred))\n",
        "print(\"Accurecy: \",accuracy_score(y_test, y_pred))\n",
        "result[(ada_defult,1,'AdaBoostClassifier')]=accuracy_score(y_test, y_pred)\n"
      ],
      "metadata": {
        "colab": {
          "base_uri": "https://localhost:8080/"
        },
        "id": "Bz_yVJaXod8O",
        "outputId": "0ce63253-e4bc-44e2-fb93-0a2ad3d1f96b"
      },
      "execution_count": 114,
      "outputs": [
        {
          "output_type": "stream",
          "name": "stdout",
          "text": [
            "[[13646   814]\n",
            " [ 1523  1837]]\n",
            "              precision    recall  f1-score   support\n",
            "\n",
            "           0       0.90      0.94      0.92     14460\n",
            "           1       0.69      0.55      0.61      3360\n",
            "\n",
            "    accuracy                           0.87     17820\n",
            "   macro avg       0.80      0.75      0.77     17820\n",
            "weighted avg       0.86      0.87      0.86     17820\n",
            "\n",
            "Accurecy:  0.8688552188552189\n"
          ]
        }
      ]
    },
    {
      "cell_type": "code",
      "source": [
        "from sklearn.ensemble import AdaBoostClassifier\n",
        "N=100\n",
        "k_range = range (1,N+1)\n",
        "scores={}\n",
        "scores_list = []\n",
        "for k in k_range:\n",
        "  classifier = AdaBoostClassifier(n_estimators=k,random_state=0)\n",
        "  classifier.fit(X_train, y_train)\n",
        "  y_pred=classifier.predict(X_test)\n",
        "  scores[k] = accuracy_score(y_test,y_pred)\n",
        "  scores_list.append(accuracy_score(y_test,y_pred))\n",
        "  print(str(k)+\"/\"+str(N)+\" round completed......................... Accurecy: \"+str(accuracy_score(y_test,y_pred)))\n",
        "\n",
        "\n",
        "\n",
        "%matplotlib inline\n",
        "import matplotlib.pyplot as plt\n",
        "#plot the relationship between K and the testing accuracy\n",
        "plt.figure(figsize = (25,10))\n",
        "plt.plot(k_range,scores_list)\n",
        "plt.xlabel('Value of n_estimators')\n",
        "plt.ylabel ('Testing Accuracy')\n",
        "\n",
        "\n",
        "\n",
        "print(\"The best n_estimators:\")\n",
        "best_estimator=list(scores.keys())[scores_list.index(max(scores_list))]\n",
        "print(best_estimator)"
      ],
      "metadata": {
        "colab": {
          "base_uri": "https://localhost:8080/",
          "height": 1000
        },
        "id": "_3wRG3rxotzH",
        "outputId": "5bdf10f6-06ff-4a36-d617-d1b322ede607"
      },
      "execution_count": 115,
      "outputs": [
        {
          "output_type": "stream",
          "name": "stdout",
          "text": [
            "1/100 round completed......................... Accurecy: 0.8114478114478114\n",
            "2/100 round completed......................... Accurecy: 0.7918069584736251\n",
            "3/100 round completed......................... Accurecy: 0.8333333333333334\n",
            "4/100 round completed......................... Accurecy: 0.8333333333333334\n",
            "5/100 round completed......................... Accurecy: 0.8333333333333334\n",
            "6/100 round completed......................... Accurecy: 0.8354657687991022\n",
            "7/100 round completed......................... Accurecy: 0.826936026936027\n",
            "8/100 round completed......................... Accurecy: 0.8359708193041526\n",
            "9/100 round completed......................... Accurecy: 0.8425925925925926\n",
            "10/100 round completed......................... Accurecy: 0.8408529741863076\n",
            "11/100 round completed......................... Accurecy: 0.8455106621773288\n",
            "12/100 round completed......................... Accurecy: 0.8452300785634119\n",
            "13/100 round completed......................... Accurecy: 0.8465768799102132\n",
            "14/100 round completed......................... Accurecy: 0.8432098765432099\n",
            "15/100 round completed......................... Accurecy: 0.8531425364758698\n",
            "16/100 round completed......................... Accurecy: 0.8537598204264871\n",
            "17/100 round completed......................... Accurecy: 0.855331088664422\n",
            "18/100 round completed......................... Accurecy: 0.8546015712682379\n",
            "19/100 round completed......................... Accurecy: 0.858361391694725\n",
            "20/100 round completed......................... Accurecy: 0.8580808080808081\n",
            "21/100 round completed......................... Accurecy: 0.8594837261503928\n",
            "22/100 round completed......................... Accurecy: 0.858361391694725\n",
            "23/100 round completed......................... Accurecy: 0.8603254769921437\n",
            "24/100 round completed......................... Accurecy: 0.8590909090909091\n",
            "25/100 round completed......................... Accurecy: 0.8602132435465769\n",
            "26/100 round completed......................... Accurecy: 0.8611672278338945\n",
            "27/100 round completed......................... Accurecy: 0.8615039281705948\n",
            "28/100 round completed......................... Accurecy: 0.8621773288439956\n",
            "29/100 round completed......................... Accurecy: 0.8623456790123457\n",
            "30/100 round completed......................... Accurecy: 0.8616161616161616\n",
            "31/100 round completed......................... Accurecy: 0.8635802469135803\n",
            "32/100 round completed......................... Accurecy: 0.8628507295173962\n",
            "33/100 round completed......................... Accurecy: 0.8653198653198653\n",
            "34/100 round completed......................... Accurecy: 0.863692480359147\n",
            "35/100 round completed......................... Accurecy: 0.8640291806958473\n",
            "36/100 round completed......................... Accurecy: 0.8650953984287317\n",
            "37/100 round completed......................... Accurecy: 0.8659371492704826\n",
            "38/100 round completed......................... Accurecy: 0.8679573512906846\n",
            "39/100 round completed......................... Accurecy: 0.8667227833894501\n",
            "40/100 round completed......................... Accurecy: 0.8686868686868687\n",
            "41/100 round completed......................... Accurecy: 0.8687429854096521\n",
            "42/100 round completed......................... Accurecy: 0.8680695847362514\n",
            "43/100 round completed......................... Accurecy: 0.868013468013468\n",
            "44/100 round completed......................... Accurecy: 0.868574635241302\n",
            "45/100 round completed......................... Accurecy: 0.8682940516273849\n",
            "46/100 round completed......................... Accurecy: 0.8688552188552189\n",
            "47/100 round completed......................... Accurecy: 0.8685185185185185\n",
            "48/100 round completed......................... Accurecy: 0.868574635241302\n",
            "49/100 round completed......................... Accurecy: 0.8687991021324355\n",
            "50/100 round completed......................... Accurecy: 0.8688552188552189\n",
            "51/100 round completed......................... Accurecy: 0.8689674523007856\n",
            "52/100 round completed......................... Accurecy: 0.8683501683501683\n",
            "53/100 round completed......................... Accurecy: 0.8692480359147026\n",
            "54/100 round completed......................... Accurecy: 0.8693602693602693\n",
            "55/100 round completed......................... Accurecy: 0.8699214365881033\n",
            "56/100 round completed......................... Accurecy: 0.8704826038159371\n",
            "57/100 round completed......................... Accurecy: 0.8701459034792368\n",
            "58/100 round completed......................... Accurecy: 0.8704264870931537\n",
            "59/100 round completed......................... Accurecy: 0.8702581369248036\n",
            "60/100 round completed......................... Accurecy: 0.8706509539842873\n",
            "61/100 round completed......................... Accurecy: 0.8721099887766555\n",
            "62/100 round completed......................... Accurecy: 0.872334455667789\n",
            "63/100 round completed......................... Accurecy: 0.8725589225589225\n",
            "64/100 round completed......................... Accurecy: 0.8724466891133558\n",
            "65/100 round completed......................... Accurecy: 0.8726150392817059\n",
            "66/100 round completed......................... Accurecy: 0.8734567901234568\n",
            "67/100 round completed......................... Accurecy: 0.8742985409652076\n",
            "68/100 round completed......................... Accurecy: 0.8730078563411897\n",
            "69/100 round completed......................... Accurecy: 0.8741863075196409\n",
            "70/100 round completed......................... Accurecy: 0.8736812570145903\n",
            "71/100 round completed......................... Accurecy: 0.8742985409652076\n",
            "72/100 round completed......................... Accurecy: 0.8746913580246913\n",
            "73/100 round completed......................... Accurecy: 0.8740740740740741\n",
            "74/100 round completed......................... Accurecy: 0.8749158249158249\n",
            "75/100 round completed......................... Accurecy: 0.8741301907968575\n",
            "76/100 round completed......................... Accurecy: 0.8750280583613917\n",
            "77/100 round completed......................... Accurecy: 0.8751402918069585\n",
            "78/100 round completed......................... Accurecy: 0.8753086419753087\n",
            "79/100 round completed......................... Accurecy: 0.8767676767676768\n",
            "80/100 round completed......................... Accurecy: 0.8764309764309764\n",
            "81/100 round completed......................... Accurecy: 0.8763187429854097\n",
            "82/100 round completed......................... Accurecy: 0.8761503928170595\n",
            "83/100 round completed......................... Accurecy: 0.8759820426487093\n",
            "84/100 round completed......................... Accurecy: 0.8764870931537598\n",
            "85/100 round completed......................... Accurecy: 0.8759820426487093\n",
            "86/100 round completed......................... Accurecy: 0.8760942760942761\n",
            "87/100 round completed......................... Accurecy: 0.8763748597081931\n",
            "88/100 round completed......................... Accurecy: 0.8759820426487093\n",
            "89/100 round completed......................... Accurecy: 0.8769921436588103\n",
            "90/100 round completed......................... Accurecy: 0.8769921436588103\n",
            "91/100 round completed......................... Accurecy: 0.8774971941638608\n",
            "92/100 round completed......................... Accurecy: 0.8774971941638608\n",
            "93/100 round completed......................... Accurecy: 0.8772727272727273\n",
            "94/100 round completed......................... Accurecy: 0.8777216610549944\n",
            "95/100 round completed......................... Accurecy: 0.877665544332211\n",
            "96/100 round completed......................... Accurecy: 0.8774971941638608\n",
            "97/100 round completed......................... Accurecy: 0.8774410774410775\n",
            "98/100 round completed......................... Accurecy: 0.8769921436588103\n",
            "99/100 round completed......................... Accurecy: 0.8772166105499439\n",
            "100/100 round completed......................... Accurecy: 0.8777216610549944\n",
            "The best n_estimators:\n",
            "94\n"
          ]
        },
        {
          "output_type": "display_data",
          "data": {
            "text/plain": [
              "<Figure size 1800x720 with 1 Axes>"
            ],
            "image/png": "[encoded data removed]"
          },
          "metadata": {
            "needs_background": "light"
          }
        }
      ]
    },
    {
      "cell_type": "code",
      "source": [
        "from sklearn.ensemble import AdaBoostClassifier\n",
        "\n",
        "ada_best_estimator = AdaBoostClassifier(n_estimators=best_estimator,random_state=0)\n",
        "ada_best_estimator.fit(X_train, y_train)\n",
        "y_pred = ada_best_estimator.predict(X_test)\n",
        "\n",
        "from sklearn.metrics import classification_report, confusion_matrix, accuracy_score\n",
        "print(confusion_matrix(y_test, y_pred))\n",
        "print(classification_report(y_test,y_pred))\n",
        "print(\"Accurecy: \",accuracy_score(y_test, y_pred))\n",
        "result[(ada_best_estimator,1,'AdaBoostClassifier')]=accuracy_score(y_test, y_pred)"
      ],
      "metadata": {
        "colab": {
          "base_uri": "https://localhost:8080/"
        },
        "id": "ctzoGCmFo0In",
        "outputId": "553aea85-2ae2-4303-8d88-fcf85a9f9581"
      },
      "execution_count": 116,
      "outputs": [
        {
          "output_type": "stream",
          "name": "stdout",
          "text": [
            "[[13648   812]\n",
            " [ 1367  1993]]\n",
            "              precision    recall  f1-score   support\n",
            "\n",
            "           0       0.91      0.94      0.93     14460\n",
            "           1       0.71      0.59      0.65      3360\n",
            "\n",
            "    accuracy                           0.88     17820\n",
            "   macro avg       0.81      0.77      0.79     17820\n",
            "weighted avg       0.87      0.88      0.87     17820\n",
            "\n",
            "Accurecy:  0.8777216610549944\n"
          ]
        }
      ]
    },
    {
      "cell_type": "markdown",
      "source": [
        "\n",
        "\n",
        "---\n",
        "\n",
        "\n",
        "\n",
        "---\n",
        "\n"
      ],
      "metadata": {
        "id": "JQhATacCo1AD"
      }
    },
    {
      "cell_type": "markdown",
      "source": [
        "#Graddient Boosting"
      ],
      "metadata": {
        "id": "FJybpt_UvCU0"
      }
    },
    {
      "cell_type": "code",
      "source": [
        "from sklearn.ensemble import GradientBoostingClassifier\n",
        "from sklearn.model_selection import RepeatedStratifiedKFold\n",
        "\n",
        "gradBoost_default = GradientBoostingClassifier(random_state=0)\n",
        "gradBoost_default.fit(X_train, y_train)\n",
        "y_pred = gradBoost_default.predict(X_test)\n",
        "\n",
        "from sklearn.metrics import classification_report, confusion_matrix, accuracy_score\n",
        "print(confusion_matrix(y_test, y_pred))\n",
        "print(classification_report(y_test,y_pred))\n",
        "print(\"Accurecy: \",accuracy_score(y_test, y_pred))\n",
        "result[(gradBoost_default,2,'GradientBoostingClassifier')]=accuracy_score(y_test, y_pred)"
      ],
      "metadata": {
        "colab": {
          "base_uri": "https://localhost:8080/"
        },
        "id": "sgmvc8A_o18j",
        "outputId": "36c7b97b-ffe4-48ec-a6ee-bb759bf81d96"
      },
      "execution_count": 117,
      "outputs": [
        {
          "output_type": "stream",
          "name": "stdout",
          "text": [
            "[[13882   578]\n",
            " [ 1373  1987]]\n",
            "              precision    recall  f1-score   support\n",
            "\n",
            "           0       0.91      0.96      0.93     14460\n",
            "           1       0.77      0.59      0.67      3360\n",
            "\n",
            "    accuracy                           0.89     17820\n",
            "   macro avg       0.84      0.78      0.80     17820\n",
            "weighted avg       0.88      0.89      0.88     17820\n",
            "\n",
            "Accurecy:  0.8905162738496072\n"
          ]
        }
      ]
    },
    {
      "cell_type": "code",
      "source": [
        "from sklearn.ensemble import GradientBoostingClassifier\n",
        "from sklearn.metrics import accuracy_score\n",
        "N=75\n",
        "k_range = range (1,N+1)\n",
        "scores={}\n",
        "scores_list = []\n",
        "for k in k_range:\n",
        "  classifier = GradientBoostingClassifier(n_estimators=k,random_state=0)\n",
        "  classifier.fit(X_train, y_train)\n",
        "  y_pred=classifier.predict(X_test)\n",
        "  scores[k] = accuracy_score(y_test,y_pred)\n",
        "  scores_list.append(accuracy_score(y_test,y_pred))\n",
        "  print(str(k)+\"/\"+str(N)+\" round completed......................... Accurecy: \"+str(accuracy_score(y_test,y_pred)))\n",
        "\n",
        "\n",
        "\n",
        "%matplotlib inline\n",
        "import matplotlib.pyplot as plt\n",
        "\n",
        "plt.figure(figsize = (25,10))\n",
        "plt.plot(k_range,scores_list)\n",
        "plt.xlabel('Value of n_estimators')\n",
        "plt.ylabel ('Testing Accuracy')\n",
        "\n",
        "\n",
        "\n",
        "print(\"The best n_estimators:\")\n",
        "best_estimator=list(scores.keys())[scores_list.index(max(scores_list))]\n",
        "print(best_estimator)"
      ],
      "metadata": {
        "colab": {
          "base_uri": "https://localhost:8080/",
          "height": 1000
        },
        "id": "9brp-qNgo-tX",
        "outputId": "bb69d15b-1421-43c4-e6fb-e1648a45f0af"
      },
      "execution_count": 118,
      "outputs": [
        {
          "output_type": "stream",
          "name": "stdout",
          "text": [
            "1/75 round completed......................... Accurecy: 0.8114478114478114\n",
            "2/75 round completed......................... Accurecy: 0.8114478114478114\n",
            "3/75 round completed......................... Accurecy: 0.8114478114478114\n",
            "4/75 round completed......................... Accurecy: 0.8114478114478114\n",
            "5/75 round completed......................... Accurecy: 0.8114478114478114\n",
            "6/75 round completed......................... Accurecy: 0.8114478114478114\n",
            "7/75 round completed......................... Accurecy: 0.8114478114478114\n",
            "8/75 round completed......................... Accurecy: 0.8199775533108866\n",
            "9/75 round completed......................... Accurecy: 0.8268237934904602\n",
            "10/75 round completed......................... Accurecy: 0.8305836139169472\n",
            "11/75 round completed......................... Accurecy: 0.8337261503928171\n",
            "12/75 round completed......................... Accurecy: 0.8355780022446689\n",
            "13/75 round completed......................... Accurecy: 0.8383838383838383\n",
            "14/75 round completed......................... Accurecy: 0.8411335578002245\n",
            "15/75 round completed......................... Accurecy: 0.8438271604938271\n",
            "16/75 round completed......................... Accurecy: 0.8460157126823793\n",
            "17/75 round completed......................... Accurecy: 0.8493265993265994\n",
            "18/75 round completed......................... Accurecy: 0.8517396184062851\n",
            "19/75 round completed......................... Accurecy: 0.8541526374859708\n",
            "20/75 round completed......................... Accurecy: 0.8559483726150393\n",
            "21/75 round completed......................... Accurecy: 0.8571829405162739\n",
            "22/75 round completed......................... Accurecy: 0.858922558922559\n",
            "23/75 round completed......................... Accurecy: 0.8599326599326599\n",
            "24/75 round completed......................... Accurecy: 0.860662177328844\n",
            "25/75 round completed......................... Accurecy: 0.8615600448933782\n",
            "26/75 round completed......................... Accurecy: 0.8629068462401795\n",
            "27/75 round completed......................... Accurecy: 0.8641975308641975\n",
            "28/75 round completed......................... Accurecy: 0.8656004489337823\n",
            "29/75 round completed......................... Accurecy: 0.8661054994388327\n",
            "30/75 round completed......................... Accurecy: 0.8673400673400673\n",
            "31/75 round completed......................... Accurecy: 0.8677890011223345\n",
            "32/75 round completed......................... Accurecy: 0.8683501683501683\n",
            "33/75 round completed......................... Accurecy: 0.8698092031425365\n",
            "34/75 round completed......................... Accurecy: 0.8702581369248036\n",
            "35/75 round completed......................... Accurecy: 0.8710998877665544\n",
            "36/75 round completed......................... Accurecy: 0.871773288439955\n",
            "37/75 round completed......................... Accurecy: 0.8717171717171717\n",
            "38/75 round completed......................... Accurecy: 0.8721661054994388\n",
            "39/75 round completed......................... Accurecy: 0.8732323232323232\n",
            "40/75 round completed......................... Accurecy: 0.8731762065095399\n",
            "41/75 round completed......................... Accurecy: 0.8740179573512907\n",
            "42/75 round completed......................... Accurecy: 0.8744107744107744\n",
            "43/75 round completed......................... Accurecy: 0.8757014590347924\n",
            "44/75 round completed......................... Accurecy: 0.8758136924803591\n",
            "45/75 round completed......................... Accurecy: 0.8761503928170595\n",
            "46/75 round completed......................... Accurecy: 0.8772727272727273\n",
            "47/75 round completed......................... Accurecy: 0.877665544332211\n",
            "48/75 round completed......................... Accurecy: 0.8779461279461279\n",
            "49/75 round completed......................... Accurecy: 0.8776094276094276\n",
            "50/75 round completed......................... Accurecy: 0.8785634118967452\n",
            "51/75 round completed......................... Accurecy: 0.8785072951739619\n",
            "52/75 round completed......................... Accurecy: 0.8790123456790123\n",
            "53/75 round completed......................... Accurecy: 0.8792368125701459\n",
            "54/75 round completed......................... Accurecy: 0.8800785634118967\n",
            "55/75 round completed......................... Accurecy: 0.8795735129068463\n",
            "56/75 round completed......................... Accurecy: 0.8801346801346801\n",
            "57/75 round completed......................... Accurecy: 0.8802469135802469\n",
            "58/75 round completed......................... Accurecy: 0.8812008978675645\n",
            "59/75 round completed......................... Accurecy: 0.8810886644219977\n",
            "60/75 round completed......................... Accurecy: 0.8814814814814815\n",
            "61/75 round completed......................... Accurecy: 0.8826038159371493\n",
            "62/75 round completed......................... Accurecy: 0.8827721661054995\n",
            "63/75 round completed......................... Accurecy: 0.8831088664421998\n",
            "64/75 round completed......................... Accurecy: 0.8833894500561167\n",
            "65/75 round completed......................... Accurecy: 0.8832210998877665\n",
            "66/75 round completed......................... Accurecy: 0.8833333333333333\n",
            "67/75 round completed......................... Accurecy: 0.8835578002244668\n",
            "68/75 round completed......................... Accurecy: 0.8838945005611673\n",
            "69/75 round completed......................... Accurecy: 0.8845679012345679\n",
            "70/75 round completed......................... Accurecy: 0.8843995510662177\n",
            "71/75 round completed......................... Accurecy: 0.8845679012345679\n",
            "72/75 round completed......................... Accurecy: 0.8848484848484849\n",
            "73/75 round completed......................... Accurecy: 0.8848484848484849\n",
            "74/75 round completed......................... Accurecy: 0.885016835016835\n",
            "75/75 round completed......................... Accurecy: 0.8861952861952862\n",
            "The best n_estimators:\n",
            "75\n"
          ]
        },
        {
          "output_type": "display_data",
          "data": {
            "text/plain": [
              "<Figure size 1800x720 with 1 Axes>"
            ],
            "image/png": "[encoded data removed]"
          },
          "metadata": {
            "needs_background": "light"
          }
        }
      ]
    },
    {
      "cell_type": "code",
      "source": [
        "from sklearn.ensemble import GradientBoostingClassifier\n",
        "from sklearn.metrics import accuracy_score\n",
        "N=30\n",
        "k_range = range (1,N+1)\n",
        "scores={}\n",
        "scores_list = []\n",
        "for k in k_range:\n",
        "  classifier = GradientBoostingClassifier(max_depth=k,random_state=0)\n",
        "  classifier.fit(X_train, y_train)\n",
        "  y_pred=classifier.predict(X_test)\n",
        "  scores[k] = accuracy_score(y_test,y_pred)\n",
        "  scores_list.append(accuracy_score(y_test,y_pred))\n",
        "  print(str(k)+\"/\"+str(N)+\" round completed......................... Accurecy: \"+str(accuracy_score(y_test,y_pred)))\n",
        "\n",
        "\n",
        "\n",
        "%matplotlib inline\n",
        "import matplotlib.pyplot as plt\n",
        "\n",
        "plt.figure(figsize = (25,10))\n",
        "plt.plot(k_range,scores_list)\n",
        "plt.xlabel('Value of n_estimators')\n",
        "plt.ylabel ('Testing Accuracy')\n",
        "\n",
        "\n",
        "\n",
        "print(\"The best Depth:\")\n",
        "best_depth=list(scores.keys())[scores_list.index(max(scores_list))]\n",
        "print(best_depth)"
      ],
      "metadata": {
        "colab": {
          "base_uri": "https://localhost:8080/",
          "height": 1000
        },
        "id": "JtO5QAkHpDAy",
        "outputId": "4e371a01-7bc6-4e65-ed5c-58aff027a5cb"
      },
      "execution_count": 119,
      "outputs": [
        {
          "output_type": "stream",
          "name": "stdout",
          "text": [
            "1/30 round completed......................... Accurecy: 0.8538720538720539\n",
            "2/30 round completed......................... Accurecy: 0.8754208754208754\n",
            "3/30 round completed......................... Accurecy: 0.8905162738496072\n",
            "4/30 round completed......................... Accurecy: 0.9012345679012346\n",
            "5/30 round completed......................... Accurecy: 0.9132435465768799\n",
            "6/30 round completed......................... Accurecy: 0.9217171717171717\n",
            "7/30 round completed......................... Accurecy: 0.926936026936027\n",
            "8/30 round completed......................... Accurecy: 0.9312570145903479\n",
            "9/30 round completed......................... Accurecy: 0.9333333333333333\n",
            "10/30 round completed......................... Accurecy: 0.9357463524130191\n",
            "11/30 round completed......................... Accurecy: 0.935297418630752\n",
            "12/30 round completed......................... Accurecy: 0.9358024691358025\n",
            "13/30 round completed......................... Accurecy: 0.9351290684624018\n",
            "14/30 round completed......................... Accurecy: 0.9356902356902357\n",
            "15/30 round completed......................... Accurecy: 0.9343995510662177\n",
            "16/30 round completed......................... Accurecy: 0.9317620650953984\n",
            "17/30 round completed......................... Accurecy: 0.9292929292929293\n",
            "18/30 round completed......................... Accurecy: 0.9254769921436589\n",
            "19/30 round completed......................... Accurecy: 0.9172278338945006\n",
            "20/30 round completed......................... Accurecy: 0.9070145903479236\n",
            "21/30 round completed......................... Accurecy: 0.8941077441077441\n",
            "22/30 round completed......................... Accurecy: 0.8915824915824916\n",
            "23/30 round completed......................... Accurecy: 0.888327721661055\n",
            "24/30 round completed......................... Accurecy: 0.8835578002244668\n",
            "25/30 round completed......................... Accurecy: 0.8817620650953985\n",
            "26/30 round completed......................... Accurecy: 0.8820426487093154\n",
            "27/30 round completed......................... Accurecy: 0.8811447811447811\n",
            "28/30 round completed......................... Accurecy: 0.8810325476992144\n",
            "29/30 round completed......................... Accurecy: 0.8803591470258136\n",
            "30/30 round completed......................... Accurecy: 0.8791806958473625\n",
            "The best Depth:\n",
            "12\n"
          ]
        },
        {
          "output_type": "display_data",
          "data": {
            "text/plain": [
              "<Figure size 1800x720 with 1 Axes>"
            ],
            "image/png": "[encoded data removed]"
          },
          "metadata": {
            "needs_background": "light"
          }
        }
      ]
    },
    {
      "cell_type": "code",
      "source": [
        "from sklearn.ensemble import GradientBoostingClassifier\n",
        "\n",
        "gradBoost_estimator = GradientBoostingClassifier(n_estimators=best_estimator,random_state=0)\n",
        "gradBoost_estimator.fit(X_train, y_train)\n",
        "y_pred = gradBoost_estimator.predict(X_test)\n",
        "\n",
        "from sklearn.metrics import classification_report, confusion_matrix, accuracy_score\n",
        "print(confusion_matrix(y_test, y_pred))\n",
        "print(classification_report(y_test,y_pred))\n",
        "print(\"Accurecy: \",accuracy_score(y_test, y_pred))\n",
        "result[(gradBoost_estimator,2,'GradientBoostingClassifier')]=accuracy_score(y_test, y_pred)"
      ],
      "metadata": {
        "colab": {
          "base_uri": "https://localhost:8080/"
        },
        "id": "EFg4mMYepGXx",
        "outputId": "5303d527-c0c0-461b-b9b4-8c3a5422fdd7"
      },
      "execution_count": 120,
      "outputs": [
        {
          "output_type": "stream",
          "name": "stdout",
          "text": [
            "[[13912   548]\n",
            " [ 1480  1880]]\n",
            "              precision    recall  f1-score   support\n",
            "\n",
            "           0       0.90      0.96      0.93     14460\n",
            "           1       0.77      0.56      0.65      3360\n",
            "\n",
            "    accuracy                           0.89     17820\n",
            "   macro avg       0.84      0.76      0.79     17820\n",
            "weighted avg       0.88      0.89      0.88     17820\n",
            "\n",
            "Accurecy:  0.8861952861952862\n"
          ]
        }
      ]
    },
    {
      "cell_type": "code",
      "source": [
        "from sklearn.ensemble import GradientBoostingClassifier\n",
        "\n",
        "gradBoost_depth = GradientBoostingClassifier(max_depth=best_depth,random_state=0)\n",
        "gradBoost_depth.fit(X_train, y_train)\n",
        "y_pred = gradBoost_depth.predict(X_test)\n",
        "\n",
        "from sklearn.metrics import classification_report, confusion_matrix, accuracy_score\n",
        "print(confusion_matrix(y_test, y_pred))\n",
        "print(classification_report(y_test,y_pred))\n",
        "print(\"Accurecy: \",accuracy_score(y_test, y_pred))\n",
        "\n",
        "result[(gradBoost_depth,2,'GradientBoostingClassifier')]=accuracy_score(y_test, y_pred)"
      ],
      "metadata": {
        "colab": {
          "base_uri": "https://localhost:8080/"
        },
        "id": "oS_ycrCQpI09",
        "outputId": "12a0cbee-3439-46c2-e24b-df9cf24a6ebe"
      },
      "execution_count": 121,
      "outputs": [
        {
          "output_type": "stream",
          "name": "stdout",
          "text": [
            "[[14094   366]\n",
            " [  778  2582]]\n",
            "              precision    recall  f1-score   support\n",
            "\n",
            "           0       0.95      0.97      0.96     14460\n",
            "           1       0.88      0.77      0.82      3360\n",
            "\n",
            "    accuracy                           0.94     17820\n",
            "   macro avg       0.91      0.87      0.89     17820\n",
            "weighted avg       0.93      0.94      0.93     17820\n",
            "\n",
            "Accurecy:  0.9358024691358025\n"
          ]
        }
      ]
    },
    {
      "cell_type": "code",
      "source": [
        "from sklearn.ensemble import GradientBoostingClassifier\n",
        "\n",
        "gradBoost_all = GradientBoostingClassifier(n_estimators=best_estimator,max_depth=best_depth,random_state=0)\n",
        "gradBoost_all.fit(X_train, y_train)\n",
        "y_pred = gradBoost_all.predict(X_test)\n",
        "\n",
        "from sklearn.metrics import classification_report, confusion_matrix, accuracy_score\n",
        "print(confusion_matrix(y_test, y_pred))\n",
        "print(classification_report(y_test,y_pred))\n",
        "print(\"Accurecy: \",accuracy_score(y_test, y_pred))\n",
        "\n",
        "result[(gradBoost_all,2,'GradientBoostingClassifier')]=accuracy_score(y_test, y_pred)"
      ],
      "metadata": {
        "colab": {
          "base_uri": "https://localhost:8080/"
        },
        "id": "GU8wNje3pJjR",
        "outputId": "1001188b-a1d0-43d5-c752-933001e54649"
      },
      "execution_count": 122,
      "outputs": [
        {
          "output_type": "stream",
          "name": "stdout",
          "text": [
            "[[14071   389]\n",
            " [  822  2538]]\n",
            "              precision    recall  f1-score   support\n",
            "\n",
            "           0       0.94      0.97      0.96     14460\n",
            "           1       0.87      0.76      0.81      3360\n",
            "\n",
            "    accuracy                           0.93     17820\n",
            "   macro avg       0.91      0.86      0.88     17820\n",
            "weighted avg       0.93      0.93      0.93     17820\n",
            "\n",
            "Accurecy:  0.9320426487093154\n"
          ]
        }
      ]
    },
    {
      "cell_type": "markdown",
      "source": [
        "\n",
        "\n",
        "---\n",
        "\n",
        "\n",
        "\n",
        "---\n",
        "\n"
      ],
      "metadata": {
        "id": "ThoTlhc4pRJT"
      }
    },
    {
      "cell_type": "markdown",
      "source": [
        "#Random Forest"
      ],
      "metadata": {
        "id": "AgMT_U8gvM7F"
      }
    },
    {
      "cell_type": "code",
      "source": [
        "from sklearn.ensemble import RandomForestClassifier\n",
        "rf_default = RandomForestClassifier(random_state=0)\n",
        "rf_default.fit(X_train, y_train)\n",
        "y_pred=rf_default.predict(X_test)\n",
        "\n",
        "\n",
        "from sklearn.metrics import classification_report, confusion_matrix, accuracy_score\n",
        "print(confusion_matrix(y_test, y_pred))\n",
        "print(classification_report(y_test,y_pred))\n",
        "print(\"Accurecy: \",accuracy_score(y_test, y_pred))\n",
        "result[(rf_default,3,'RandomForestClassifier')]=accuracy_score(y_test, y_pred)"
      ],
      "metadata": {
        "colab": {
          "base_uri": "https://localhost:8080/"
        },
        "id": "-4GMunEvtWk2",
        "outputId": "c9e3e95b-7c51-4345-86f3-dd0c23db29cc"
      },
      "execution_count": 20,
      "outputs": [
        {
          "output_type": "stream",
          "name": "stdout",
          "text": [
            "[[14149   311]\n",
            " [  922  2438]]\n",
            "              precision    recall  f1-score   support\n",
            "\n",
            "           0       0.94      0.98      0.96     14460\n",
            "           1       0.89      0.73      0.80      3360\n",
            "\n",
            "    accuracy                           0.93     17820\n",
            "   macro avg       0.91      0.85      0.88     17820\n",
            "weighted avg       0.93      0.93      0.93     17820\n",
            "\n",
            "Accurecy:  0.9308080808080809\n"
          ]
        }
      ]
    },
    {
      "cell_type": "code",
      "source": [
        "from sklearn.ensemble import RandomForestClassifier\n",
        "from sklearn.metrics import accuracy_score\n",
        "N=75\n",
        "k_range = range (1,N+1)\n",
        "scores={}\n",
        "scores_list = []\n",
        "for k in k_range:\n",
        "  classifier = RandomForestClassifier(n_estimators=k,random_state=0)\n",
        "  classifier.fit(X_train, y_train)\n",
        "  y_pred=classifier.predict(X_test)\n",
        "  scores[k] = accuracy_score(y_test,y_pred)\n",
        "  scores_list.append(accuracy_score(y_test,y_pred))\n",
        "  print(str(k)+\"/\"+str(N)+\" round completed......................... Accurecy: \"+str(accuracy_score(y_test,y_pred)))\n",
        "\n",
        "\n",
        "\n",
        "%matplotlib inline\n",
        "import matplotlib.pyplot as plt\n",
        "\n",
        "plt.figure(figsize = (25,10))\n",
        "plt.plot(k_range,scores_list)\n",
        "plt.xlabel('Value of n_estimators')\n",
        "plt.ylabel ('Testing Accuracy')\n",
        "\n",
        "\n",
        "\n",
        "print(\"The best n_estimators:\")\n",
        "best_estimator=list(scores.keys())[scores_list.index(max(scores_list))]\n",
        "print(best_estimator)"
      ],
      "metadata": {
        "colab": {
          "base_uri": "https://localhost:8080/",
          "height": 1000
        },
        "id": "ve34YgestieE",
        "outputId": "59470113-6027-429c-c408-05c132a72182"
      },
      "execution_count": 21,
      "outputs": [
        {
          "output_type": "stream",
          "name": "stdout",
          "text": [
            "1/75 round completed......................... Accurecy: 0.849270482603816\n",
            "2/75 round completed......................... Accurecy: 0.8708193041526375\n",
            "3/75 round completed......................... Accurecy: 0.8915824915824916\n",
            "4/75 round completed......................... Accurecy: 0.8927048260381594\n",
            "5/75 round completed......................... Accurecy: 0.9038159371492704\n",
            "6/75 round completed......................... Accurecy: 0.9037598204264871\n",
            "7/75 round completed......................... Accurecy: 0.9118967452300786\n",
            "8/75 round completed......................... Accurecy: 0.9086980920314254\n",
            "9/75 round completed......................... Accurecy: 0.9139169472502806\n",
            "10/75 round completed......................... Accurecy: 0.912401795735129\n",
            "11/75 round completed......................... Accurecy: 0.9162738496071829\n",
            "12/75 round completed......................... Accurecy: 0.9152076318742985\n",
            "13/75 round completed......................... Accurecy: 0.9185185185185185\n",
            "14/75 round completed......................... Accurecy: 0.9170594837261504\n",
            "15/75 round completed......................... Accurecy: 0.92003367003367\n",
            "16/75 round completed......................... Accurecy: 0.9180134680134681\n",
            "17/75 round completed......................... Accurecy: 0.9219416386083052\n",
            "18/75 round completed......................... Accurecy: 0.9195847362514029\n",
            "19/75 round completed......................... Accurecy: 0.9237934904601571\n",
            "20/75 round completed......................... Accurecy: 0.9221661054994388\n",
            "21/75 round completed......................... Accurecy: 0.9237373737373737\n",
            "22/75 round completed......................... Accurecy: 0.9227833894500561\n",
            "23/75 round completed......................... Accurecy: 0.9251402918069584\n",
            "24/75 round completed......................... Accurecy: 0.9239618406285073\n",
            "25/75 round completed......................... Accurecy: 0.9260381593714927\n",
            "26/75 round completed......................... Accurecy: 0.9249719416386083\n",
            "27/75 round completed......................... Accurecy: 0.9259259259259259\n",
            "28/75 round completed......................... Accurecy: 0.9250841750841751\n",
            "29/75 round completed......................... Accurecy: 0.9263187429854096\n",
            "30/75 round completed......................... Accurecy: 0.9250841750841751\n",
            "31/75 round completed......................... Accurecy: 0.9265993265993266\n",
            "32/75 round completed......................... Accurecy: 0.9251402918069584\n",
            "33/75 round completed......................... Accurecy: 0.9273288439955106\n",
            "34/75 round completed......................... Accurecy: 0.9257575757575758\n",
            "35/75 round completed......................... Accurecy: 0.9274410774410774\n",
            "36/75 round completed......................... Accurecy: 0.9261503928170595\n",
            "37/75 round completed......................... Accurecy: 0.9276094276094277\n",
            "38/75 round completed......................... Accurecy: 0.9258698092031425\n",
            "39/75 round completed......................... Accurecy: 0.927946127946128\n",
            "40/75 round completed......................... Accurecy: 0.9269921436588103\n",
            "41/75 round completed......................... Accurecy: 0.9280022446689113\n",
            "42/75 round completed......................... Accurecy: 0.9273288439955106\n",
            "43/75 round completed......................... Accurecy: 0.9285634118967452\n",
            "44/75 round completed......................... Accurecy: 0.9274410774410774\n",
            "45/75 round completed......................... Accurecy: 0.928956228956229\n",
            "46/75 round completed......................... Accurecy: 0.9274971941638608\n",
            "47/75 round completed......................... Accurecy: 0.9287878787878788\n",
            "48/75 round completed......................... Accurecy: 0.9278900112233446\n",
            "49/75 round completed......................... Accurecy: 0.9284511784511784\n",
            "50/75 round completed......................... Accurecy: 0.927665544332211\n",
            "51/75 round completed......................... Accurecy: 0.928956228956229\n",
            "52/75 round completed......................... Accurecy: 0.9282828282828283\n",
            "53/75 round completed......................... Accurecy: 0.9289001122334456\n",
            "54/75 round completed......................... Accurecy: 0.9277777777777778\n",
            "55/75 round completed......................... Accurecy: 0.9287878787878788\n",
            "56/75 round completed......................... Accurecy: 0.9284511784511784\n",
            "57/75 round completed......................... Accurecy: 0.9291245791245791\n",
            "58/75 round completed......................... Accurecy: 0.9288439955106622\n",
            "59/75 round completed......................... Accurecy: 0.9295735129068462\n",
            "60/75 round completed......................... Accurecy: 0.9290684624017957\n",
            "61/75 round completed......................... Accurecy: 0.9300785634118968\n",
            "62/75 round completed......................... Accurecy: 0.9295173961840628\n",
            "63/75 round completed......................... Accurecy: 0.9291245791245791\n",
            "64/75 round completed......................... Accurecy: 0.9285072951739618\n",
            "65/75 round completed......................... Accurecy: 0.929685746352413\n",
            "66/75 round completed......................... Accurecy: 0.9290123456790124\n",
            "67/75 round completed......................... Accurecy: 0.9296296296296296\n",
            "68/75 round completed......................... Accurecy: 0.9286195286195286\n",
            "69/75 round completed......................... Accurecy: 0.9299102132435466\n",
            "70/75 round completed......................... Accurecy: 0.9290684624017957\n",
            "71/75 round completed......................... Accurecy: 0.9297979797979798\n",
            "72/75 round completed......................... Accurecy: 0.9291245791245791\n",
            "73/75 round completed......................... Accurecy: 0.9299102132435466\n",
            "74/75 round completed......................... Accurecy: 0.9291806958473625\n",
            "75/75 round completed......................... Accurecy: 0.9301907968574635\n",
            "The best n_estimators:\n",
            "75\n"
          ]
        },
        {
          "output_type": "display_data",
          "data": {
            "text/plain": [
              "<Figure size 1800x720 with 1 Axes>"
            ],
            "image/png": "[encoded data removed]"
          },
          "metadata": {
            "needs_background": "light"
          }
        }
      ]
    },
    {
      "cell_type": "code",
      "source": [
        "from sklearn.ensemble import RandomForestClassifier\n",
        "from sklearn.metrics import accuracy_score\n",
        "N=30\n",
        "k_range = range (1,N+1)\n",
        "scores={}\n",
        "scores_list = []\n",
        "for k in k_range:\n",
        "  classifier = RandomForestClassifier(max_depth=k,random_state=0)\n",
        "  classifier.fit(X_train, y_train)\n",
        "  y_pred=classifier.predict(X_test)\n",
        "  scores[k] = accuracy_score(y_test,y_pred)\n",
        "  scores_list.append(accuracy_score(y_test,y_pred))\n",
        "  print(str(k)+\"/\"+str(N)+\" round completed......................... Accurecy: \"+str(accuracy_score(y_test,y_pred)))\n",
        "\n",
        "\n",
        "\n",
        "%matplotlib inline\n",
        "import matplotlib.pyplot as plt\n",
        "\n",
        "plt.figure(figsize = (25,10))\n",
        "plt.plot(k_range,scores_list)\n",
        "plt.xlabel('Value of n_estimators')\n",
        "plt.ylabel ('Testing Accuracy')\n",
        "\n",
        "\n",
        "\n",
        "print(\"The best Depth:\")\n",
        "best_depth=list(scores.keys())[scores_list.index(max(scores_list))]\n",
        "print(best_depth)"
      ],
      "metadata": {
        "colab": {
          "base_uri": "https://localhost:8080/",
          "height": 1000
        },
        "id": "eVfKbSTWtnny",
        "outputId": "6ce47d36-d759-4d1d-e751-5d0867fc4160"
      },
      "execution_count": 22,
      "outputs": [
        {
          "output_type": "stream",
          "name": "stdout",
          "text": [
            "1/30 round completed......................... Accurecy: 0.8114478114478114\n",
            "2/30 round completed......................... Accurecy: 0.8114478114478114\n",
            "3/30 round completed......................... Accurecy: 0.8208193041526375\n",
            "4/30 round completed......................... Accurecy: 0.8427048260381593\n",
            "5/30 round completed......................... Accurecy: 0.8549943883277217\n",
            "6/30 round completed......................... Accurecy: 0.8658810325476992\n",
            "7/30 round completed......................... Accurecy: 0.8755892255892256\n",
            "8/30 round completed......................... Accurecy: 0.8870370370370371\n",
            "9/30 round completed......................... Accurecy: 0.8962401795735129\n",
            "10/30 round completed......................... Accurecy: 0.9037037037037037\n",
            "11/30 round completed......................... Accurecy: 0.9101010101010101\n",
            "12/30 round completed......................... Accurecy: 0.9156565656565656\n",
            "13/30 round completed......................... Accurecy: 0.9194163860830528\n",
            "14/30 round completed......................... Accurecy: 0.9230078563411896\n",
            "15/30 round completed......................... Accurecy: 0.925364758698092\n",
            "16/30 round completed......................... Accurecy: 0.9265432098765433\n",
            "17/30 round completed......................... Accurecy: 0.927665544332211\n",
            "18/30 round completed......................... Accurecy: 0.9282828282828283\n",
            "19/30 round completed......................... Accurecy: 0.9274410774410774\n",
            "20/30 round completed......................... Accurecy: 0.9291245791245791\n",
            "21/30 round completed......................... Accurecy: 0.9295173961840628\n",
            "22/30 round completed......................... Accurecy: 0.9305274971941638\n",
            "23/30 round completed......................... Accurecy: 0.9291806958473625\n",
            "24/30 round completed......................... Accurecy: 0.9298540965207632\n",
            "25/30 round completed......................... Accurecy: 0.9291806958473625\n",
            "26/30 round completed......................... Accurecy: 0.92996632996633\n",
            "27/30 round completed......................... Accurecy: 0.9311447811447812\n",
            "28/30 round completed......................... Accurecy: 0.9315375982042648\n",
            "29/30 round completed......................... Accurecy: 0.9305274971941638\n",
            "30/30 round completed......................... Accurecy: 0.929685746352413\n",
            "The best Depth:\n",
            "28\n"
          ]
        },
        {
          "output_type": "display_data",
          "data": {
            "text/plain": [
              "<Figure size 1800x720 with 1 Axes>"
            ],
            "image/png": "[encoded data removed]"
          },
          "metadata": {
            "needs_background": "light"
          }
        }
      ]
    },
    {
      "cell_type": "code",
      "source": [
        "from sklearn.ensemble import RandomForestClassifier\n",
        "rf_estimator = RandomForestClassifier(n_estimators=best_estimator,random_state=0)\n",
        "rf_estimator.fit(X_train, y_train)\n",
        "y_pred=rf_estimator.predict(X_test)\n",
        "\n",
        "\n",
        "from sklearn.metrics import classification_report, confusion_matrix, accuracy_score\n",
        "print(confusion_matrix(y_test, y_pred))\n",
        "print(classification_report(y_test,y_pred))\n",
        "print(\"Accurecy: \",accuracy_score(y_test, y_pred))\n",
        "result[(rf_estimator,3,'RandomForestClassifier')]=accuracy_score(y_test, y_pred)"
      ],
      "metadata": {
        "colab": {
          "base_uri": "https://localhost:8080/"
        },
        "id": "LMUwwEqUt2-T",
        "outputId": "0cfebad5-f6ca-4bb4-c047-b47b0ded4715"
      },
      "execution_count": 23,
      "outputs": [
        {
          "output_type": "stream",
          "name": "stdout",
          "text": [
            "[[14125   335]\n",
            " [  909  2451]]\n",
            "              precision    recall  f1-score   support\n",
            "\n",
            "           0       0.94      0.98      0.96     14460\n",
            "           1       0.88      0.73      0.80      3360\n",
            "\n",
            "    accuracy                           0.93     17820\n",
            "   macro avg       0.91      0.85      0.88     17820\n",
            "weighted avg       0.93      0.93      0.93     17820\n",
            "\n",
            "Accurecy:  0.9301907968574635\n"
          ]
        }
      ]
    },
    {
      "cell_type": "code",
      "source": [
        "from sklearn.ensemble import RandomForestClassifier\n",
        "rf_depth = RandomForestClassifier(max_depth=best_depth,random_state=0)\n",
        "rf_depth.fit(X_train, y_train)\n",
        "y_pred=rf_depth.predict(X_test)\n",
        "\n",
        "\n",
        "from sklearn.metrics import classification_report, confusion_matrix, accuracy_score\n",
        "print(confusion_matrix(y_test, y_pred))\n",
        "print(classification_report(y_test,y_pred))\n",
        "print(\"Accurecy: \",accuracy_score(y_test, y_pred))\n",
        "result[(rf_depth,3,'RandomForestClassifier')]=accuracy_score(y_test, y_pred)"
      ],
      "metadata": {
        "colab": {
          "base_uri": "https://localhost:8080/"
        },
        "id": "NRybS4-nt_vO",
        "outputId": "14cd3df3-5980-4c22-e949-5a61d2f2c06a"
      },
      "execution_count": 24,
      "outputs": [
        {
          "output_type": "stream",
          "name": "stdout",
          "text": [
            "[[14150   310]\n",
            " [  910  2450]]\n",
            "              precision    recall  f1-score   support\n",
            "\n",
            "           0       0.94      0.98      0.96     14460\n",
            "           1       0.89      0.73      0.80      3360\n",
            "\n",
            "    accuracy                           0.93     17820\n",
            "   macro avg       0.91      0.85      0.88     17820\n",
            "weighted avg       0.93      0.93      0.93     17820\n",
            "\n",
            "Accurecy:  0.9315375982042648\n"
          ]
        }
      ]
    },
    {
      "cell_type": "code",
      "source": [
        "from sklearn.ensemble import RandomForestClassifier\n",
        "rf_all = RandomForestClassifier(n_estimators=best_estimator,max_depth=best_depth,random_state=0)\n",
        "rf_all.fit(X_train, y_train)\n",
        "y_pred=rf_all.predict(X_test)\n",
        "\n",
        "\n",
        "from sklearn.metrics import classification_report, confusion_matrix, accuracy_score\n",
        "print(confusion_matrix(y_test, y_pred))\n",
        "print(classification_report(y_test,y_pred))\n",
        "print(\"Accurecy: \",accuracy_score(y_test, y_pred))\n",
        "result[(rf_all,3,'RandomForestClassifier')]=accuracy_score(y_test, y_pred)"
      ],
      "metadata": {
        "colab": {
          "base_uri": "https://localhost:8080/"
        },
        "id": "G9p0fJyBtrdZ",
        "outputId": "aa36905f-28a4-4a7c-a862-c3510000d6f8"
      },
      "execution_count": 25,
      "outputs": [
        {
          "output_type": "stream",
          "name": "stdout",
          "text": [
            "[[14131   329]\n",
            " [  898  2462]]\n",
            "              precision    recall  f1-score   support\n",
            "\n",
            "           0       0.94      0.98      0.96     14460\n",
            "           1       0.88      0.73      0.80      3360\n",
            "\n",
            "    accuracy                           0.93     17820\n",
            "   macro avg       0.91      0.85      0.88     17820\n",
            "weighted avg       0.93      0.93      0.93     17820\n",
            "\n",
            "Accurecy:  0.9311447811447812\n"
          ]
        }
      ]
    },
    {
      "cell_type": "markdown",
      "source": [
        "\n",
        "\n",
        "---\n",
        "\n",
        "\n",
        "\n",
        "---\n",
        "\n"
      ],
      "metadata": {
        "id": "G_DChNuquB92"
      }
    },
    {
      "cell_type": "markdown",
      "source": [
        "#XGB"
      ],
      "metadata": {
        "id": "jRG4cBnKvZU2"
      }
    },
    {
      "cell_type": "code",
      "source": [
        "\n",
        "\n",
        "import xgboost as xgb\n",
        "xgb_deafult = xgb.XGBClassifier(random_state=0)\n",
        "xgb_deafult.fit(X_train,y_train)\n",
        "y_pred = xgb_deafult.predict(X_test)\n",
        "\n",
        "\n",
        "from sklearn.metrics import classification_report, confusion_matrix, accuracy_score\n",
        "print(confusion_matrix(y_test, y_pred))\n",
        "print(classification_report(y_test,y_pred))\n",
        "print(\"Accurecy: \",accuracy_score(y_test, y_pred))\n",
        "result[(xgb_deafult,4,'xgboost')]=accuracy_score(y_test, y_pred)"
      ],
      "metadata": {
        "colab": {
          "base_uri": "https://localhost:8080/"
        },
        "id": "sC1lAZeeuCw8",
        "outputId": "164f8e99-c37b-4099-bc32-139f1d9e8c1b"
      },
      "execution_count": 26,
      "outputs": [
        {
          "output_type": "stream",
          "name": "stdout",
          "text": [
            "[[13894   566]\n",
            " [ 1387  1973]]\n",
            "              precision    recall  f1-score   support\n",
            "\n",
            "           0       0.91      0.96      0.93     14460\n",
            "           1       0.78      0.59      0.67      3360\n",
            "\n",
            "    accuracy                           0.89     17820\n",
            "   macro avg       0.84      0.77      0.80     17820\n",
            "weighted avg       0.88      0.89      0.88     17820\n",
            "\n",
            "Accurecy:  0.8904040404040404\n"
          ]
        }
      ]
    },
    {
      "cell_type": "code",
      "source": [
        "import xgboost as xgb\n",
        "from sklearn.metrics import accuracy_score\n",
        "N=175\n",
        "k_range = range (1,N+1)\n",
        "scores={}\n",
        "scores_list = []\n",
        "for k in k_range:\n",
        "  xgb_classifier = xgb.XGBClassifier(n_estimators=k,random_state=0)\n",
        "  xgb_classifier.fit(X_train, y_train)\n",
        "  y_pred=xgb_classifier.predict(X_test)\n",
        "  scores[k] = accuracy_score(y_test,y_pred)\n",
        "  scores_list.append(accuracy_score(y_test,y_pred))\n",
        "  print(str(k)+\"/\"+str(N)+\" round completed......................... Accurecy: \"+str(accuracy_score(y_test,y_pred)))\n",
        "\n",
        "\n",
        "%matplotlib inline\n",
        "import matplotlib.pyplot as plt\n",
        "\n",
        "plt.figure(figsize = (25,10))\n",
        "plt.plot(k_range,scores_list)\n",
        "plt.xlabel('Value of n_estimators')\n",
        "plt.ylabel ('Testing Accuracy')\n",
        "\n",
        "\n",
        "\n",
        "print(\"The best n_estimators:\")\n",
        "best_estimator=list(scores.keys())[scores_list.index(max(scores_list))]\n",
        "print(best_estimator)"
      ],
      "metadata": {
        "colab": {
          "base_uri": "https://localhost:8080/",
          "height": 1000
        },
        "id": "YQYsfVO0uPMA",
        "outputId": "bb9ac097-9d15-4a54-d731-f1738bf7baef"
      },
      "execution_count": 27,
      "outputs": [
        {
          "output_type": "stream",
          "name": "stdout",
          "text": [
            "1/175 round completed......................... Accurecy: 0.8357463524130191\n",
            "2/175 round completed......................... Accurecy: 0.8365319865319866\n",
            "3/175 round completed......................... Accurecy: 0.8369248035914703\n",
            "4/175 round completed......................... Accurecy: 0.8410213243546577\n",
            "5/175 round completed......................... Accurecy: 0.842368125701459\n",
            "6/175 round completed......................... Accurecy: 0.8449494949494949\n",
            "7/175 round completed......................... Accurecy: 0.8463524130190797\n",
            "8/175 round completed......................... Accurecy: 0.8460157126823793\n",
            "9/175 round completed......................... Accurecy: 0.8456228956228956\n",
            "10/175 round completed......................... Accurecy: 0.8500561167227834\n",
            "11/175 round completed......................... Accurecy: 0.8505611672278339\n",
            "12/175 round completed......................... Accurecy: 0.851010101010101\n",
            "13/175 round completed......................... Accurecy: 0.8528619528619529\n",
            "14/175 round completed......................... Accurecy: 0.8529741863075196\n",
            "15/175 round completed......................... Accurecy: 0.8530864197530864\n",
            "16/175 round completed......................... Accurecy: 0.853591470258137\n",
            "17/175 round completed......................... Accurecy: 0.8544893378226711\n",
            "18/175 round completed......................... Accurecy: 0.855331088664422\n",
            "19/175 round completed......................... Accurecy: 0.8560606060606061\n",
            "20/175 round completed......................... Accurecy: 0.8568462401795736\n",
            "21/175 round completed......................... Accurecy: 0.8580246913580247\n",
            "22/175 round completed......................... Accurecy: 0.8590909090909091\n",
            "23/175 round completed......................... Accurecy: 0.8599887766554434\n",
            "24/175 round completed......................... Accurecy: 0.8607182940516274\n",
            "25/175 round completed......................... Accurecy: 0.860662177328844\n",
            "26/175 round completed......................... Accurecy: 0.8616161616161616\n",
            "27/175 round completed......................... Accurecy: 0.8630190796857463\n",
            "28/175 round completed......................... Accurecy: 0.8635241301907969\n",
            "29/175 round completed......................... Accurecy: 0.8646464646464647\n",
            "30/175 round completed......................... Accurecy: 0.8652076318742985\n",
            "31/175 round completed......................... Accurecy: 0.8652076318742985\n",
            "32/175 round completed......................... Accurecy: 0.8662738496071829\n",
            "33/175 round completed......................... Accurecy: 0.8662738496071829\n",
            "34/175 round completed......................... Accurecy: 0.8671156004489338\n",
            "35/175 round completed......................... Accurecy: 0.8679573512906846\n",
            "36/175 round completed......................... Accurecy: 0.8688552188552189\n",
            "37/175 round completed......................... Accurecy: 0.87003367003367\n",
            "38/175 round completed......................... Accurecy: 0.8702581369248036\n",
            "39/175 round completed......................... Accurecy: 0.8706509539842873\n",
            "40/175 round completed......................... Accurecy: 0.8711560044893378\n",
            "41/175 round completed......................... Accurecy: 0.8721099887766555\n",
            "42/175 round completed......................... Accurecy: 0.8719977553310887\n",
            "43/175 round completed......................... Accurecy: 0.8726711560044893\n",
            "44/175 round completed......................... Accurecy: 0.8731200897867565\n",
            "45/175 round completed......................... Accurecy: 0.8739057239057239\n",
            "46/175 round completed......................... Accurecy: 0.8739057239057239\n",
            "47/175 round completed......................... Accurecy: 0.8744668911335578\n",
            "48/175 round completed......................... Accurecy: 0.8751402918069585\n",
            "49/175 round completed......................... Accurecy: 0.8750841750841751\n",
            "50/175 round completed......................... Accurecy: 0.8754769921436588\n",
            "51/175 round completed......................... Accurecy: 0.875645342312009\n",
            "52/175 round completed......................... Accurecy: 0.8763748597081931\n",
            "53/175 round completed......................... Accurecy: 0.8770482603815937\n",
            "54/175 round completed......................... Accurecy: 0.877104377104377\n",
            "55/175 round completed......................... Accurecy: 0.8777216610549944\n",
            "56/175 round completed......................... Accurecy: 0.8780583613916947\n",
            "57/175 round completed......................... Accurecy: 0.8788439955106622\n",
            "58/175 round completed......................... Accurecy: 0.8781705948372615\n",
            "59/175 round completed......................... Accurecy: 0.8785072951739619\n",
            "60/175 round completed......................... Accurecy: 0.8783389450056117\n",
            "61/175 round completed......................... Accurecy: 0.8795735129068463\n",
            "62/175 round completed......................... Accurecy: 0.8798540965207632\n",
            "63/175 round completed......................... Accurecy: 0.8801907968574635\n",
            "64/175 round completed......................... Accurecy: 0.8808080808080808\n",
            "65/175 round completed......................... Accurecy: 0.880695847362514\n",
            "66/175 round completed......................... Accurecy: 0.8812570145903479\n",
            "67/175 round completed......................... Accurecy: 0.8811447811447811\n",
            "68/175 round completed......................... Accurecy: 0.8813692480359147\n",
            "69/175 round completed......................... Accurecy: 0.8815937149270483\n",
            "70/175 round completed......................... Accurecy: 0.8814814814814815\n",
            "71/175 round completed......................... Accurecy: 0.8822671156004489\n",
            "72/175 round completed......................... Accurecy: 0.8827721661054995\n",
            "73/175 round completed......................... Accurecy: 0.8832772166105499\n",
            "74/175 round completed......................... Accurecy: 0.8833894500561167\n",
            "75/175 round completed......................... Accurecy: 0.8837261503928171\n",
            "76/175 round completed......................... Accurecy: 0.8843995510662177\n",
            "77/175 round completed......................... Accurecy: 0.8848484848484849\n",
            "78/175 round completed......................... Accurecy: 0.8857463524130191\n",
            "79/175 round completed......................... Accurecy: 0.8859708193041527\n",
            "80/175 round completed......................... Accurecy: 0.8867003367003367\n",
            "81/175 round completed......................... Accurecy: 0.8865319865319865\n",
            "82/175 round completed......................... Accurecy: 0.8865881032547699\n",
            "83/175 round completed......................... Accurecy: 0.8872053872053872\n",
            "84/175 round completed......................... Accurecy: 0.8868686868686869\n",
            "85/175 round completed......................... Accurecy: 0.8869248035914703\n",
            "86/175 round completed......................... Accurecy: 0.8872053872053872\n",
            "87/175 round completed......................... Accurecy: 0.8870931537598205\n",
            "88/175 round completed......................... Accurecy: 0.8872615039281706\n",
            "89/175 round completed......................... Accurecy: 0.8878787878787879\n",
            "90/175 round completed......................... Accurecy: 0.8879349046015713\n",
            "91/175 round completed......................... Accurecy: 0.8878226711560044\n",
            "92/175 round completed......................... Accurecy: 0.8881593714927049\n",
            "93/175 round completed......................... Accurecy: 0.8888327721661055\n",
            "94/175 round completed......................... Accurecy: 0.8886644219977553\n",
            "95/175 round completed......................... Accurecy: 0.8893939393939394\n",
            "96/175 round completed......................... Accurecy: 0.8897867564534231\n",
            "97/175 round completed......................... Accurecy: 0.8901234567901235\n",
            "98/175 round completed......................... Accurecy: 0.8901795735129069\n",
            "99/175 round completed......................... Accurecy: 0.8901234567901235\n",
            "100/175 round completed......................... Accurecy: 0.8904040404040404\n",
            "101/175 round completed......................... Accurecy: 0.8915263748597082\n",
            "102/175 round completed......................... Accurecy: 0.8922558922558923\n",
            "103/175 round completed......................... Accurecy: 0.892087542087542\n",
            "104/175 round completed......................... Accurecy: 0.8925364758698092\n",
            "105/175 round completed......................... Accurecy: 0.8921436588103254\n",
            "106/175 round completed......................... Accurecy: 0.8919753086419753\n",
            "107/175 round completed......................... Accurecy: 0.8922558922558923\n",
            "108/175 round completed......................... Accurecy: 0.8923120089786757\n",
            "109/175 round completed......................... Accurecy: 0.8927048260381594\n",
            "110/175 round completed......................... Accurecy: 0.8929292929292929\n",
            "111/175 round completed......................... Accurecy: 0.8928731762065095\n",
            "112/175 round completed......................... Accurecy: 0.8933221099887767\n",
            "113/175 round completed......................... Accurecy: 0.8933221099887767\n",
            "114/175 round completed......................... Accurecy: 0.893658810325477\n",
            "115/175 round completed......................... Accurecy: 0.8934343434343435\n",
            "116/175 round completed......................... Accurecy: 0.8936026936026936\n",
            "117/175 round completed......................... Accurecy: 0.8938832772166105\n",
            "118/175 round completed......................... Accurecy: 0.8939393939393939\n",
            "119/175 round completed......................... Accurecy: 0.8940516273849607\n",
            "120/175 round completed......................... Accurecy: 0.8939955106621773\n",
            "121/175 round completed......................... Accurecy: 0.8942199775533108\n",
            "122/175 round completed......................... Accurecy: 0.8942199775533108\n",
            "123/175 round completed......................... Accurecy: 0.8943322109988777\n",
            "124/175 round completed......................... Accurecy: 0.8943883277216611\n",
            "125/175 round completed......................... Accurecy: 0.8945566778900113\n",
            "126/175 round completed......................... Accurecy: 0.8945566778900113\n",
            "127/175 round completed......................... Accurecy: 0.8947250280583614\n",
            "128/175 round completed......................... Accurecy: 0.8950056116722783\n",
            "129/175 round completed......................... Accurecy: 0.8952300785634119\n",
            "130/175 round completed......................... Accurecy: 0.8952861952861952\n",
            "131/175 round completed......................... Accurecy: 0.8954545454545455\n",
            "132/175 round completed......................... Accurecy: 0.8956228956228957\n",
            "133/175 round completed......................... Accurecy: 0.8960157126823793\n",
            "134/175 round completed......................... Accurecy: 0.8962401795735129\n",
            "135/175 round completed......................... Accurecy: 0.8966329966329967\n",
            "136/175 round completed......................... Accurecy: 0.8962962962962963\n",
            "137/175 round completed......................... Accurecy: 0.8967452300785634\n",
            "138/175 round completed......................... Accurecy: 0.8972502805836139\n",
            "139/175 round completed......................... Accurecy: 0.8978114478114478\n",
            "140/175 round completed......................... Accurecy: 0.897979797979798\n",
            "141/175 round completed......................... Accurecy: 0.8982603815937149\n",
            "142/175 round completed......................... Accurecy: 0.8982042648709315\n",
            "143/175 round completed......................... Accurecy: 0.8982603815937149\n",
            "144/175 round completed......................... Accurecy: 0.8982042648709315\n",
            "145/175 round completed......................... Accurecy: 0.8980920314253648\n",
            "146/175 round completed......................... Accurecy: 0.8979236812570146\n",
            "147/175 round completed......................... Accurecy: 0.8982603815937149\n",
            "148/175 round completed......................... Accurecy: 0.8986531986531987\n",
            "149/175 round completed......................... Accurecy: 0.8988776655443322\n",
            "150/175 round completed......................... Accurecy: 0.8993827160493827\n",
            "151/175 round completed......................... Accurecy: 0.8994949494949495\n",
            "152/175 round completed......................... Accurecy: 0.8991021324354658\n",
            "153/175 round completed......................... Accurecy: 0.8992143658810325\n",
            "154/175 round completed......................... Accurecy: 0.898989898989899\n",
            "155/175 round completed......................... Accurecy: 0.8991021324354658\n",
            "156/175 round completed......................... Accurecy: 0.8996071829405162\n",
            "157/175 round completed......................... Accurecy: 0.8997755331088665\n",
            "158/175 round completed......................... Accurecy: 0.8994388327721661\n",
            "159/175 round completed......................... Accurecy: 0.8997194163860831\n",
            "160/175 round completed......................... Accurecy: 0.9001122334455668\n",
            "161/175 round completed......................... Accurecy: 0.9005050505050505\n",
            "162/175 round completed......................... Accurecy: 0.9002805836139169\n",
            "163/175 round completed......................... Accurecy: 0.900729517396184\n",
            "164/175 round completed......................... Accurecy: 0.901010101010101\n",
            "165/175 round completed......................... Accurecy: 0.9014029180695847\n",
            "166/175 round completed......................... Accurecy: 0.9014029180695847\n",
            "167/175 round completed......................... Accurecy: 0.9015712682379349\n",
            "168/175 round completed......................... Accurecy: 0.9019640852974187\n",
            "169/175 round completed......................... Accurecy: 0.9022446689113356\n",
            "170/175 round completed......................... Accurecy: 0.902300785634119\n",
            "171/175 round completed......................... Accurecy: 0.9021324354657688\n",
            "172/175 round completed......................... Accurecy: 0.9028058361391694\n",
            "173/175 round completed......................... Accurecy: 0.902749719416386\n",
            "174/175 round completed......................... Accurecy: 0.9029180695847363\n",
            "175/175 round completed......................... Accurecy: 0.902749719416386\n",
            "The best n_estimators:\n",
            "174\n"
          ]
        },
        {
          "output_type": "display_data",
          "data": {
            "text/plain": [
              "<Figure size 1800x720 with 1 Axes>"
            ],
            "image/png": "[encoded data removed]"
          },
          "metadata": {
            "needs_background": "light"
          }
        }
      ]
    },
    {
      "cell_type": "code",
      "source": [
        "import xgboost as xgb\n",
        "from sklearn.metrics import accuracy_score\n",
        "N=30\n",
        "k_range = range (1,N+1)\n",
        "scores={}\n",
        "scores_list = []\n",
        "for k in k_range:\n",
        "  xgb_classifier = xgb.XGBClassifier(max_depth=k,random_state=0)\n",
        "  xgb_classifier.fit(X_train, y_train)\n",
        "  y_pred=xgb_classifier.predict(X_test)\n",
        "  scores[k] = accuracy_score(y_test,y_pred)\n",
        "  scores_list.append(accuracy_score(y_test,y_pred))\n",
        "  print(str(k)+\"/\"+str(N)+\" round completed......................... Accurecy: \"+str(accuracy_score(y_test,y_pred)))\n",
        "\n",
        "\n",
        "%matplotlib inline\n",
        "import matplotlib.pyplot as plt\n",
        "\n",
        "plt.figure(figsize = (25,10))\n",
        "plt.plot(k_range,scores_list)\n",
        "plt.xlabel('Value of n_estimators')\n",
        "plt.ylabel ('Testing Accuracy')\n",
        "\n",
        "\n",
        "\n",
        "print(\"The best depth:\")\n",
        "best_depth=list(scores.keys())[scores_list.index(max(scores_list))]\n",
        "print(best_depth)"
      ],
      "metadata": {
        "colab": {
          "base_uri": "https://localhost:8080/",
          "height": 1000
        },
        "id": "ABex6e-3kxuX",
        "outputId": "ecdad7f3-531d-43ea-bd5e-97d485b06b44"
      },
      "execution_count": 28,
      "outputs": [
        {
          "output_type": "stream",
          "name": "stdout",
          "text": [
            "1/30 round completed......................... Accurecy: 0.8512906846240179\n",
            "2/30 round completed......................... Accurecy: 0.8761503928170595\n",
            "3/30 round completed......................... Accurecy: 0.8904040404040404\n",
            "4/30 round completed......................... Accurecy: 0.9012345679012346\n",
            "5/30 round completed......................... Accurecy: 0.9136924803591471\n",
            "6/30 round completed......................... Accurecy: 0.9208754208754208\n",
            "7/30 round completed......................... Accurecy: 0.9285072951739618\n",
            "8/30 round completed......................... Accurecy: 0.932267115600449\n",
            "9/30 round completed......................... Accurecy: 0.9328843995510662\n",
            "10/30 round completed......................... Accurecy: 0.9365319865319865\n",
            "11/30 round completed......................... Accurecy: 0.9361391694725028\n",
            "12/30 round completed......................... Accurecy: 0.9375420875420876\n",
            "13/30 round completed......................... Accurecy: 0.938047138047138\n",
            "14/30 round completed......................... Accurecy: 0.9379910213243546\n",
            "15/30 round completed......................... Accurecy: 0.9370931537598204\n",
            "16/30 round completed......................... Accurecy: 0.9364197530864198\n",
            "17/30 round completed......................... Accurecy: 0.9369248035914702\n",
            "18/30 round completed......................... Accurecy: 0.936026936026936\n",
            "19/30 round completed......................... Accurecy: 0.936026936026936\n",
            "20/30 round completed......................... Accurecy: 0.9359147025813692\n",
            "21/30 round completed......................... Accurecy: 0.9361952861952862\n",
            "22/30 round completed......................... Accurecy: 0.9378787878787879\n",
            "23/30 round completed......................... Accurecy: 0.9372053872053872\n",
            "24/30 round completed......................... Accurecy: 0.9365881032547699\n",
            "25/30 round completed......................... Accurecy: 0.9369809203142536\n",
            "26/30 round completed......................... Accurecy: 0.9377104377104377\n",
            "27/30 round completed......................... Accurecy: 0.9365881032547699\n",
            "28/30 round completed......................... Accurecy: 0.9361952861952862\n",
            "29/30 round completed......................... Accurecy: 0.9387766554433221\n",
            "30/30 round completed......................... Accurecy: 0.9372053872053872\n",
            "The best depth:\n",
            "29\n"
          ]
        },
        {
          "output_type": "display_data",
          "data": {
            "text/plain": [
              "<Figure size 1800x720 with 1 Axes>"
            ],
            "image/png": "[encoded data removed]"
          },
          "metadata": {
            "needs_background": "light"
          }
        }
      ]
    },
    {
      "cell_type": "code",
      "source": [
        "import xgboost as xgb\n",
        "xgb_depth = xgb.XGBClassifier(max_depth=best_depth,random_state=0)\n",
        "xgb_depth.fit(X_train,y_train)\n",
        "y_pred = xgb_depth.predict(X_test)\n",
        "\n",
        "\n",
        "from sklearn.metrics import classification_report, confusion_matrix, accuracy_score\n",
        "print(confusion_matrix(y_test, y_pred))\n",
        "print(classification_report(y_test,y_pred))\n",
        "print(\"Accurecy: \",accuracy_score(y_test, y_pred))\n",
        "result[(xgb_depth,4,'xgboost')]=accuracy_score(y_test, y_pred)\n",
        "print(xgb_depth)"
      ],
      "metadata": {
        "colab": {
          "base_uri": "https://localhost:8080/"
        },
        "id": "lfBp-uGXuaKY",
        "outputId": "bc368c8e-9a37-4634-9686-d000ffdf6a19"
      },
      "execution_count": 29,
      "outputs": [
        {
          "output_type": "stream",
          "name": "stdout",
          "text": [
            "[[14099   361]\n",
            " [  730  2630]]\n",
            "              precision    recall  f1-score   support\n",
            "\n",
            "           0       0.95      0.98      0.96     14460\n",
            "           1       0.88      0.78      0.83      3360\n",
            "\n",
            "    accuracy                           0.94     17820\n",
            "   macro avg       0.92      0.88      0.90     17820\n",
            "weighted avg       0.94      0.94      0.94     17820\n",
            "\n",
            "Accurecy:  0.9387766554433221\n",
            "XGBClassifier(max_depth=29)\n"
          ]
        }
      ]
    },
    {
      "cell_type": "code",
      "source": [
        "import xgboost as xgb\n",
        "xgb_estimator = xgb.XGBClassifier(n_estimators=best_estimator,random_state=0)\n",
        "xgb_estimator.fit(X_train,y_train)\n",
        "y_pred = xgb_estimator.predict(X_test)\n",
        "\n",
        "\n",
        "from sklearn.metrics import classification_report, confusion_matrix, accuracy_score\n",
        "print(confusion_matrix(y_test, y_pred))\n",
        "print(classification_report(y_test,y_pred))\n",
        "print(\"Accurecy: \",accuracy_score(y_test, y_pred))\n",
        "result[(xgb_estimator,4,'xgboost')]=accuracy_score(y_test, y_pred)\n",
        "print(xgb_estimator)"
      ],
      "metadata": {
        "colab": {
          "base_uri": "https://localhost:8080/"
        },
        "id": "_qBm-yTqzOsi",
        "outputId": "04138c1b-9d4f-48a2-a315-1fe8e3a3362f"
      },
      "execution_count": 30,
      "outputs": [
        {
          "output_type": "stream",
          "name": "stdout",
          "text": [
            "[[13886   574]\n",
            " [ 1156  2204]]\n",
            "              precision    recall  f1-score   support\n",
            "\n",
            "           0       0.92      0.96      0.94     14460\n",
            "           1       0.79      0.66      0.72      3360\n",
            "\n",
            "    accuracy                           0.90     17820\n",
            "   macro avg       0.86      0.81      0.83     17820\n",
            "weighted avg       0.90      0.90      0.90     17820\n",
            "\n",
            "Accurecy:  0.9029180695847363\n",
            "XGBClassifier(n_estimators=174)\n"
          ]
        }
      ]
    },
    {
      "cell_type": "code",
      "source": [
        "import xgboost as xgb\n",
        "xgb_all = xgb.XGBClassifier(n_estimators=best_estimator,max_depth=best_depth,random_state=0)\n",
        "xgb_all.fit(X_train,y_train)\n",
        "y_pred = xgb_all.predict(X_test)\n",
        "\n",
        "\n",
        "from sklearn.metrics import classification_report, confusion_matrix, accuracy_score\n",
        "print(confusion_matrix(y_test, y_pred))\n",
        "print(classification_report(y_test,y_pred))\n",
        "print(\"Accurecy: \",accuracy_score(y_test, y_pred))\n",
        "result[(xgb_all,4,'xgboost')]=accuracy_score(y_test, y_pred)"
      ],
      "metadata": {
        "colab": {
          "base_uri": "https://localhost:8080/"
        },
        "id": "zW-0PfT-zX3C",
        "outputId": "ecc7f952-3a66-4e05-b9d9-abf6133f2a61"
      },
      "execution_count": 31,
      "outputs": [
        {
          "output_type": "stream",
          "name": "stdout",
          "text": [
            "[[14103   357]\n",
            " [  697  2663]]\n",
            "              precision    recall  f1-score   support\n",
            "\n",
            "           0       0.95      0.98      0.96     14460\n",
            "           1       0.88      0.79      0.83      3360\n",
            "\n",
            "    accuracy                           0.94     17820\n",
            "   macro avg       0.92      0.88      0.90     17820\n",
            "weighted avg       0.94      0.94      0.94     17820\n",
            "\n",
            "Accurecy:  0.9408529741863075\n"
          ]
        }
      ]
    },
    {
      "cell_type": "markdown",
      "source": [
        "#KNN"
      ],
      "metadata": {
        "id": "K6_icFWdauSI"
      }
    },
    {
      "cell_type": "code",
      "source": [
        "from sklearn.neighbors import KNeighborsClassifier\n",
        "knn_default = KNeighborsClassifier()\n",
        "knn_default.fit(X_train, y_train)\n",
        "y_pred=knn_default.predict(X_test)\n",
        "\n",
        "\n",
        "from sklearn.metrics import classification_report, confusion_matrix, accuracy_score\n",
        "print(confusion_matrix(y_test, y_pred))\n",
        "print(classification_report(y_test,y_pred))\n",
        "print(\"Accurecy: \",accuracy_score(y_test, y_pred))\n",
        "result[(knn_default,5,'KNeighborsClassifier')]=accuracy_score(y_test, y_pred)"
      ],
      "metadata": {
        "id": "6GALUBYbaz1z"
      },
      "execution_count": null,
      "outputs": []
    },
    {
      "cell_type": "code",
      "source": [
        "from sklearn.neighbors import KNeighborsClassifier\n",
        "from sklearn.metrics import accuracy_score\n",
        "Neighbors=75\n",
        "k_range = range (1,Neighbors+1)\n",
        "scores={}\n",
        "scores_list = []\n",
        "for k in k_range:\n",
        "  knn = KNeighborsClassifier(n_neighbors=k)\n",
        "  knn.fit(X_train, y_train)\n",
        "  y_pred=knn.predict(X_test)\n",
        "  scores[k] = accuracy_score(y_test,y_pred)\n",
        "  scores_list.append(accuracy_score(y_test,y_pred))\n",
        "  print(str(k)+\"/\"+str(Neighbors)+\" round completed......................... Accurecy: \"+str(accuracy_score(y_test,y_pred)))\n",
        "\n",
        "\n",
        "%matplotlib inline\n",
        "import matplotlib.pyplot as plt\n",
        "\n",
        "plt.figure(figsize = (25,10))\n",
        "plt.plot(k_range,scores_list)\n",
        "plt.xlabel('Value of n_estimators')\n",
        "plt.ylabel ('Testing Accuracy')\n",
        "\n",
        "\n",
        "\n",
        "print(\"The best Depth:\")\n",
        "best=list(scores.keys())[scores_list.index(max(scores_list))]\n",
        "print(best)"
      ],
      "metadata": {
        "id": "CpSsmYDHa-VF"
      },
      "execution_count": null,
      "outputs": []
    },
    {
      "cell_type": "code",
      "source": [
        "from sklearn.neighbors import KNeighborsClassifier\n",
        "knn_neighbors = KNeighborsClassifier(n_neighbors=best)\n",
        "knn_neighbors.fit(X_train, y_train)\n",
        "y_pred=knn_neighbors.predict(X_test)\n",
        "\n",
        "\n",
        "from sklearn.metrics import classification_report, confusion_matrix, accuracy_score\n",
        "print(confusion_matrix(y_test, y_pred))\n",
        "print(classification_report(y_test,y_pred))\n",
        "print(\"Accurecy: \",accuracy_score(y_test, y_pred))\n",
        "result[(knn_neighbors,5,'KNeighborsClassifier')]=accuracy_score(y_test, y_pred)"
      ],
      "metadata": {
        "id": "MIVJZYV8bCjo"
      },
      "execution_count": null,
      "outputs": []
    },
    {
      "cell_type": "markdown",
      "source": [
        "#NB"
      ],
      "metadata": {
        "id": "_Btki9jRvc1Y"
      }
    },
    {
      "cell_type": "code",
      "source": [
        "from sklearn.naive_bayes import GaussianNB\n",
        "\n",
        "nb_deafult = GaussianNB()\n",
        "nb_deafult.fit(X_train, y_train)\n",
        "y_pred = nb_deafult.predict(X_test)\n",
        "\n",
        "\n",
        "from sklearn.metrics import classification_report, confusion_matrix, accuracy_score\n",
        "print(confusion_matrix(y_test, y_pred))\n",
        "print(classification_report(y_test,y_pred))\n",
        "print(\"Accurecy: \",accuracy_score(y_test, y_pred))\n",
        "result[(nb_deafult,6,'GaussianNB')]=accuracy_score(y_test, y_pred)"
      ],
      "metadata": {
        "id": "iRmd7ve-ubcd"
      },
      "execution_count": null,
      "outputs": []
    },
    {
      "cell_type": "markdown",
      "source": [
        "\n",
        "\n",
        "---\n",
        "\n",
        "\n",
        "\n",
        "---\n",
        "\n"
      ],
      "metadata": {
        "id": "qqsWPAB3uv72"
      }
    },
    {
      "cell_type": "markdown",
      "source": [
        "#ANN"
      ],
      "metadata": {
        "id": "jgr08kP5-hNQ"
      }
    },
    {
      "cell_type": "code",
      "source": [],
      "metadata": {
        "id": "9Hi_Hr8Xe3q6"
      },
      "execution_count": null,
      "outputs": []
    },
    {
      "cell_type": "code",
      "source": [
        "'''import tensorflow as tf\n",
        "from tensorflow import keras\n",
        "\n",
        "model = keras.Sequential([\n",
        "    keras.layers.Dense(250, input_shape=(X_test.shape[1],), activation='relu'), # input laye\n",
        "    keras.layers.Dense(150, activation='sigmoid'),\n",
        "    keras.layers.Dense(75, activation='softmax')                    # output layer\n",
        "])\n",
        "\n",
        "\n",
        "model.compile(optimizer='adam',\n",
        "              loss='sparse_categorical_crossentropy',\n",
        "              metrics=['accuracy'])\n",
        "\n",
        "model.fit(X_train, y_train, epochs=200)\n",
        "\n",
        "model.evaluate(X_test, y_test)'''"
      ],
      "metadata": {
        "id": "gfSpx9u4-i3s"
      },
      "execution_count": null,
      "outputs": []
    },
    {
      "cell_type": "code",
      "source": [
        "'''y_predicted = model.predict(X_test)\n",
        "y_predicted_labels = [np.argmax(i) for i in y_predicted]\n",
        "\n",
        "from sklearn.metrics import classification_report, confusion_matrix, accuracy_score\n",
        "print(confusion_matrix(y_test, y_predicted_labels))\n",
        "print(classification_report(y_test,y_predicted_labels))\n",
        "print(\"Accurecy: \",accuracy_score(y_test, y_predicted_labels))'''"
      ],
      "metadata": {
        "id": "oBAHhjDf--9o"
      },
      "execution_count": null,
      "outputs": []
    },
    {
      "cell_type": "markdown",
      "source": [
        "#Result"
      ],
      "metadata": {
        "id": "6FEsxCdvkg2D"
      }
    },
    {
      "cell_type": "code",
      "source": [
        "\n",
        "models=[]\n",
        "\n",
        "for i in result:\n",
        "  models.append(i[0])\n",
        "  print(i[0],i[1],\" : \",result[i])\n",
        "  print(\"---------------------------------------------------------------\")\n",
        "  print()\n"
      ],
      "metadata": {
        "id": "rx7qCLU14Aim"
      },
      "execution_count": null,
      "outputs": []
    },
    {
      "cell_type": "code",
      "source": [
        "sorted_list=[]\n",
        "sorted_list = sorted(result, key=result.get,reverse=True)\n",
        "\n",
        "for i in sorted_list:\n",
        "  print(i,\"  : \",result[i])\n",
        "  print(\"-------------------------------------------------------------------------------------------------\")\n",
        "\n",
        "print(sorted_list)\n",
        "\n",
        "\n",
        "flage=[]\n",
        "best_models=[]\n",
        "it=0\n",
        "\n",
        "for i in sorted_list:\n",
        "  if it==4:\n",
        "    break\n",
        "\n",
        "  if i[1] not in flage:\n",
        "    best_models.append((i[0],i[2]))\n",
        "    flage.append(i[1])\n",
        "    it+=1\n"
      ],
      "metadata": {
        "id": "slItYG8uLOFi"
      },
      "execution_count": null,
      "outputs": []
    },
    {
      "cell_type": "code",
      "source": [
        "print(\"best_models:\")\n",
        "for i in best_models:\n",
        "  print(i)\n"
      ],
      "metadata": {
        "id": "SR0XBsJDMi_1"
      },
      "execution_count": null,
      "outputs": []
    },
    {
      "cell_type": "code",
      "source": [
        "len(best_models)"
      ],
      "metadata": {
        "id": "VQCaVYKA5acD"
      },
      "execution_count": null,
      "outputs": []
    },
    {
      "cell_type": "markdown",
      "source": [
        "#Testing Accuracy For Best 4 Models"
      ],
      "metadata": {
        "id": "znXNx2bgUvtd"
      }
    },
    {
      "cell_type": "code",
      "source": [
        "\n",
        "for i in best_models:\n",
        "  print(\"--------------------------------------------------\")\n",
        "  print(i[0])\n",
        "  y_pred=i[0].predict(X_train)\n",
        "  print(confusion_matrix(y_train, y_pred))\n",
        "  print(classification_report(y_train,y_pred))\n",
        "  print(\"Accurecy: \",accuracy_score(y_train, y_pred))"
      ],
      "metadata": {
        "id": "2j9CXuBkUuiR"
      },
      "execution_count": null,
      "outputs": []
    },
    {
      "cell_type": "markdown",
      "source": [
        "#Model Check Box"
      ],
      "metadata": {
        "id": "yxj7OCKlnfcK"
      }
    },
    {
      "cell_type": "code",
      "source": [
        "def models_check_box(models):\n",
        "  import ipywidgets as widgets\n",
        "  from IPython.display import display\n",
        "  new_keys=[]\n",
        "  for i in models:\n",
        "    i=widgets.Checkbox(\n",
        "      value=False,\n",
        "      description=str(i),\n",
        "      disabled=False,\n",
        "      indent=False\n",
        "      )\n",
        "    display(i)\n",
        "    new_keys.append(i)\n",
        "  return new_keys"
      ],
      "metadata": {
        "id": "WmxLp5H6nebe"
      },
      "execution_count": null,
      "outputs": []
    },
    {
      "cell_type": "markdown",
      "source": [
        "#SHAP"
      ],
      "metadata": {
        "id": "zxxWSX26jsGT"
      }
    },
    {
      "cell_type": "code",
      "source": [
        "!pip install shap\n",
        "import shap"
      ],
      "metadata": {
        "id": "YUhJ7dWajur-"
      },
      "execution_count": null,
      "outputs": []
    },
    {
      "cell_type": "code",
      "source": [
        "\n",
        "def SHAP_EXP(model,graph_feat):\n",
        "  print(\"Models: \",model)\n",
        "\n",
        "  explainer = shap.Explainer(model.predict, X_test)\n",
        "\n",
        "  shap_values1 = explainer(X_test)\n",
        "  features_names=list_of_feat\n",
        "\n",
        "  if 'Subjects' in features_names:\n",
        "    features_names.pop(0)\n",
        "\n",
        "\n",
        "  shap.plots.bar(shap_values1,max_display=graph_feat[\"max_display\"])\n",
        "\n",
        "  print(\"---------------------\")\n",
        "\n",
        "  shap.summary_plot(shap_values1,max_display=graph_feat[\"max_display\"],feature_names=features_names)\n",
        "\n",
        "  print(\"---------------------\")\n",
        "\n",
        "  print(\"Local Explaination\")\n",
        "  shap.plots.waterfall(shap_values1[graph_feat[\"shap_values Index\"]],max_display=graph_feat[\"max_display\"])\n",
        "\n",
        "\n",
        "  print(\"---------------------\")\n",
        "\n",
        "  shap.plots.bar(shap_values1[graph_feat[\"shap_values Index\"]],max_display=graph_feat[\"max_display\"])"
      ],
      "metadata": {
        "id": "POk0kUrdB-Y4"
      },
      "execution_count": null,
      "outputs": []
    },
    {
      "cell_type": "code",
      "source": [
        "new_keys_7=models_check_box(models)"
      ],
      "metadata": {
        "id": "V-G5szfQDiz1"
      },
      "execution_count": null,
      "outputs": []
    },
    {
      "cell_type": "code",
      "source": [
        "graph_feat={\n",
        "    \"max_display\":20,\n",
        "    \"shap_values Index\":2\n",
        "}\n",
        "\n",
        "for i in range(len(new_keys_7)):\n",
        "  if new_keys_7[i].value ==True:\n",
        "    SHAP_EXP(models[i],graph_feat)\n",
        "    print(\"---------------------------------------------------------\")\n",
        "    print(\"---------------------------------------------------------\")\n",
        "    print(\"---------------------------------------------------------\")\n",
        "    print(\"---------------------------------------------------------\")"
      ],
      "metadata": {
        "id": "JeD8HT_iDodb"
      },
      "execution_count": null,
      "outputs": []
    },
    {
      "cell_type": "markdown",
      "source": [
        "#Confusion Matrix For Training"
      ],
      "metadata": {
        "id": "57cQ8dzJX0Lp"
      }
    },
    {
      "cell_type": "code",
      "source": [
        "new_keys_5=models_check_box(models)"
      ],
      "metadata": {
        "id": "tDrF5oTkBcZ_"
      },
      "execution_count": null,
      "outputs": []
    },
    {
      "cell_type": "code",
      "source": [
        "\n",
        "for i in range(len(new_keys_5)):\n",
        "  if new_keys_5[i].value ==True:\n",
        "    cm = ConfusionMatrix(models[i], classes=classes)\n",
        "\n",
        "    cm.fit(X_train, y_train)\n",
        "    cm.score(X_train, y_train)\n",
        "    cm.show()\n",
        "    print(\"-------------------------------\")\n",
        "    print(\"-------------------------------\")"
      ],
      "metadata": {
        "id": "jhzRUmq9X4CZ"
      },
      "execution_count": null,
      "outputs": []
    },
    {
      "cell_type": "markdown",
      "source": [
        "#Confusion Matrix For Testing"
      ],
      "metadata": {
        "id": "23z3A3f1ol6d"
      }
    },
    {
      "cell_type": "code",
      "source": [
        "new_keys_6=models_check_box(models)"
      ],
      "metadata": {
        "id": "b3tHiraMBr_C"
      },
      "execution_count": null,
      "outputs": []
    },
    {
      "cell_type": "code",
      "source": [
        "\n",
        "from yellowbrick.classifier import ConfusionMatrix\n",
        "\n",
        "\n",
        "for i in range(len(new_keys_6)):\n",
        "  if new_keys_6[i].value ==True:\n",
        "    cm = ConfusionMatrix(models[i], classes=classes)\n",
        "\n",
        "    cm.fit(X_train, y_train)\n",
        "    cm.score(X_test, y_test)\n",
        "    cm.show()"
      ],
      "metadata": {
        "id": "5vsqEYhponhI"
      },
      "execution_count": null,
      "outputs": []
    },
    {
      "cell_type": "markdown",
      "source": [],
      "metadata": {
        "id": "EwT5yAeqols7"
      }
    },
    {
      "cell_type": "markdown",
      "source": [
        "#ROC Comparaing Machine Learning Models"
      ],
      "metadata": {
        "id": "bwOJ36hchWiN"
      }
    },
    {
      "cell_type": "code",
      "source": [
        "\n",
        "def ROC(mod,X_t,y_t,graph_feat):\n",
        "  r_probs = [0 for _ in range(len(y_t))]\n",
        "\n",
        "  model_probs = []\n",
        "\n",
        "\n",
        "  for i in mod:\n",
        "    model_probs.append(i.predict_proba(X_t))\n",
        "\n",
        "\n",
        "  model_probs2=[]\n",
        "\n",
        "  for i in model_probs:\n",
        "    model_probs2.append(i[:,1])\n",
        "\n",
        "\n",
        "  from sklearn.metrics import roc_curve, roc_auc_score\n",
        "\n",
        "  model_auc=[]\n",
        "  r_auc = roc_auc_score(y_t, r_probs)\n",
        "\n",
        "  for i in model_probs2:\n",
        "    model_auc.append(roc_auc_score(y_t,i))\n",
        "\n",
        "\n",
        "  fpr_tpr=[]\n",
        "  r_fpr, r_tpr, _ = roc_curve(y_t, r_probs)\n",
        "\n",
        "  for i in model_probs2:\n",
        "    fpr, tpr, _ = roc_curve(y_t, i)\n",
        "    fpr_tpr.append((fpr,tpr))\n",
        "\n",
        "  import matplotlib.pyplot as plt\n",
        "  plt.plot(r_fpr, r_tpr, linestyle='--', label='Random prediction (AUROC = %0.3f)' % r_auc)\n",
        "\n",
        "  for i in range(len(model_auc)):\n",
        "    plt.plot(fpr_tpr[i][0], fpr_tpr[i][1], marker='.', label=str(mod[i])+' (AUROC = %0.3f)' % model_auc[i])\n",
        "\n",
        "  # Title\n",
        "  plt.title(graph_feat[\"Title\"],fontsize= graph_feat[\"Title Size\"], fontweight=graph_feat[\"Title Fontweight\"])\n",
        "  plt.xlabel('False Positive Rate',fontweight=graph_feat[\"X axis Label Fontweight\"],fontsize=graph_feat[\"X axis Label Font Size\"])\n",
        "  plt.ylabel('True Positive Rate',fontweight=graph_feat[\"Y axis Label Fontweight\"],fontsize=graph_feat[\"Y axis Label Font Size\"])\n",
        "  \n",
        "  plt.legend( \n",
        "           prop = {'size' : graph_feat[\"legend Font Size\"]}, \n",
        "           loc = graph_feat[\"legend Position\"])\n",
        "  \n",
        "  fig = plt.gcf()\n",
        "  fig.set_size_inches(graph_feat[\"Fig Width (inches)\"], graph_feat[\"Fig Height (inches)\"])\n",
        "  fig.savefig(graph_feat[\"Fig Saving Name\"], dpi=graph_feat[\"dpi\"])\n",
        "  plt.show()"
      ],
      "metadata": {
        "id": "5XCVUOkc23oX"
      },
      "execution_count": null,
      "outputs": []
    },
    {
      "cell_type": "markdown",
      "source": [
        "***Training ROC***<br>\n",
        "Chosse the Models"
      ],
      "metadata": {
        "id": "zDbik7Nf6vq0"
      }
    },
    {
      "cell_type": "code",
      "source": [
        "new_keys_2=models_check_box(models)"
      ],
      "metadata": {
        "id": "Co9nhyU864CC"
      },
      "execution_count": null,
      "outputs": []
    },
    {
      "cell_type": "markdown",
      "source": [
        "\n",
        "Change  the given dictionary of graph feature for desire graph."
      ],
      "metadata": {
        "id": "Xz5G8tcr6Ulx"
      }
    },
    {
      "cell_type": "code",
      "source": [
        "graph_feat={\n",
        "    \"Title\" : \"ROC Plot Training\",\n",
        "    \"Title Size\":18,\n",
        "    \"Title Fontweight\":'bold',\n",
        "\n",
        "    \"legend Font Size\": 14,\n",
        "    \"legend Position\": \"lower right\",\n",
        "\n",
        "    \"X axis Label Font Size\":16,\n",
        "    \"X axis Label Fontweight\":'bold',\n",
        "\n",
        "    \"Y axis Label Font Size\":16,\n",
        "    \"Y axis Label Fontweight\":'bold',\n",
        "\n",
        "    \"Fig Height (inches)\":10.8,\n",
        "    \"Fig Width (inches)\":18.8,\n",
        "\n",
        "    \"Fig Saving Name\": \"ROC_training.png\",\n",
        "    \"dpi\":100\n",
        "    \n",
        "\n",
        "}\n",
        "\n",
        "mod=[]\n",
        "for i in range(len(new_keys_2)):\n",
        "  if new_keys_2[i].value ==True:\n",
        "    mod.append(models[i])\n",
        "\n",
        "ROC(mod,X_train,y_train,graph_feat)"
      ],
      "metadata": {
        "id": "6VAJMmn-97p3"
      },
      "execution_count": null,
      "outputs": []
    },
    {
      "cell_type": "markdown",
      "source": [
        "\n",
        "\n",
        "---\n",
        "\n"
      ],
      "metadata": {
        "id": "I_zBmlgG9x-q"
      }
    },
    {
      "cell_type": "markdown",
      "source": [
        "***Testing ROC***<br>\n",
        "Chosse the Models"
      ],
      "metadata": {
        "id": "fGFXoWwH9SX6"
      }
    },
    {
      "cell_type": "code",
      "source": [
        "new_keys_3=models_check_box(models)"
      ],
      "metadata": {
        "id": "XuGVSd3M9hEI"
      },
      "execution_count": null,
      "outputs": []
    },
    {
      "cell_type": "markdown",
      "source": [
        "\n",
        "Change  the given dictionary of graph feature for desire graph."
      ],
      "metadata": {
        "id": "whZYw0Q-9gke"
      }
    },
    {
      "cell_type": "code",
      "source": [
        "graph_feat={\n",
        "    \"Title\" : \"ROC Plot Testing\",\n",
        "    \"Title Size\":18,\n",
        "    \"Title Fontweight\":'bold',\n",
        "\n",
        "    \"legend Font Size\": 14,\n",
        "    \"legend Position\": \"lower right\",\n",
        "\n",
        "    \"X axis Label Font Size\":16,\n",
        "    \"X axis Label Fontweight\":'bold',\n",
        "\n",
        "    \"Y axis Label Font Size\":16,\n",
        "    \"Y axis Label Fontweight\":'bold',\n",
        "\n",
        "    \"Fig Height (inches)\":10.8,\n",
        "    \"Fig Width (inches)\":18.8,\n",
        "\n",
        "    \"Fig Saving Name\": \"ROC_testing.png\",\n",
        "    \"dpi\":100\n",
        "\n",
        "}\n",
        "\n",
        "mod=[]\n",
        "for i in range(len(new_keys_3)):\n",
        "  if new_keys_3[i].value ==True:\n",
        "    mod.append(models[i])\n",
        "\n",
        "ROC(mod,X_test,y_test,graph_feat)"
      ],
      "metadata": {
        "id": "hsYH7Q6fkbSh"
      },
      "execution_count": null,
      "outputs": []
    },
    {
      "cell_type": "markdown",
      "source": [
        "#Cross_val_score \n",
        "\n",
        "\n",
        "\n"
      ],
      "metadata": {
        "id": "XtgWbvJsEwMt"
      }
    },
    {
      "cell_type": "code",
      "source": [
        "from sklearn.model_selection import cross_val_score\n",
        "\n",
        "k=5\n",
        "for i in result:\n",
        "  print(i[0],\" -> Accuracy: \",result[i])\n",
        "  l=list(cross_val_score(i[0],X_new.iloc[:,1:], y_new,cv=k))\n",
        "  avg=sum(l)/k\n",
        "  print(i[0],\" -> AVG Accurecy After CV: \"+str(avg)+ \" (For \"+str(k)+\" Fold)\")\n",
        "  print(\"--------------------------------------------------------------------------\")"
      ],
      "metadata": {
        "id": "3unb_F6vE39m"
      },
      "execution_count": null,
      "outputs": []
    },
    {
      "cell_type": "markdown",
      "source": [
        "#CV ROC"
      ],
      "metadata": {
        "id": "leQ5F46f_SqM"
      }
    },
    {
      "cell_type": "code",
      "source": [
        "\n",
        "\n",
        "def CV_ROC(model,folds,graph_feat):\n",
        "  import matplotlib.pyplot as plt\n",
        "\n",
        "  from sklearn import svm\n",
        "  from sklearn.metrics import auc,roc_curve\n",
        "  from sklearn.metrics import RocCurveDisplay\n",
        "  from sklearn.model_selection import StratifiedKFold\n",
        "\n",
        "\n",
        "  cv = StratifiedKFold(n_splits=folds)\n",
        "\n",
        "\n",
        "\n",
        "  tprs = []\n",
        "  aucs = []\n",
        "  mean_fpr = np.linspace(0,1,100)\n",
        "  i = 1\n",
        "  for train,test in cv.split(X_new.iloc[:,1:], y_new.values):\n",
        "      prediction = model.fit(X_new.iloc[:,1:].values[train], y_new.values[train]).predict_proba(X_new.iloc[:,1:].values[test])\n",
        "      fpr, tpr, t = roc_curve(y_new.values[test], prediction[:, 1])\n",
        "      tprs.append(np.interp(mean_fpr, fpr, tpr))\n",
        "      roc_auc = auc(fpr, tpr)\n",
        "      aucs.append(roc_auc)\n",
        "      plt.plot(fpr, tpr, lw=2, alpha=0.3, label='ROC fold %d (AUC = %0.2f)' % (i, roc_auc))\n",
        "      i= i+1\n",
        "\n",
        "  plt.plot([0,1],[0,1],linestyle = '--',lw = 2,color = 'black')\n",
        "  mean_tpr = np.mean(tprs, axis=0)\n",
        "  mean_auc = auc(mean_fpr, mean_tpr)\n",
        "  plt.plot(mean_fpr, mean_tpr, color='blue',\n",
        "          label=r'Mean ROC (AUC = %0.2f )' % (mean_auc),lw=2, alpha=1)\n",
        "\n",
        "  plt.title('CV-ROC-> '+str(model),fontsize= graph_feat[\"Title Size\"], fontweight=graph_feat[\"Title Fontweight\"])\n",
        "  plt.xlabel('False Positive Rate',fontweight=graph_feat[\"X axis Label Fontweight\"],fontsize=graph_feat[\"X axis Label Font Size\"])\n",
        "  plt.ylabel('True Positive Rate',fontweight=graph_feat[\"Y axis Label Fontweight\"],fontsize=graph_feat[\"Y axis Label Font Size\"])\n",
        "  plt.legend( \n",
        "           prop = {'size' : graph_feat[\"legend Font Size\"]}, \n",
        "           loc = graph_feat[\"legend Position\"])\n",
        "  \n",
        "  fig = plt.gcf()\n",
        "  fig.set_size_inches(graph_feat[\"Fig Width (inches)\"], graph_feat[\"Fig Height (inches)\"])\n",
        "  fig.savefig(graph_feat[\"Fig Saving Name\"], dpi=graph_feat[\"dpi\"])\n",
        "  plt.show()"
      ],
      "metadata": {
        "id": "nndrB1Q18Ele"
      },
      "execution_count": null,
      "outputs": []
    },
    {
      "cell_type": "code",
      "source": [
        "new_keys=models_check_box(models)"
      ],
      "metadata": {
        "id": "kV7r1qnm4G9q"
      },
      "execution_count": null,
      "outputs": []
    },
    {
      "cell_type": "code",
      "source": [
        "# run this cell after selecting\n",
        "\n",
        "graph_feat={\n",
        "    \"Title Size\":18,\n",
        "    \"Title Fontweight\":'bold',\n",
        "\n",
        "    \"legend Font Size\": 14,\n",
        "    \"legend Position\": \"lower right\",\n",
        "\n",
        "    \"X axis Label Font Size\":16,\n",
        "    \"X axis Label Fontweight\":'bold',\n",
        "\n",
        "    \"Y axis Label Font Size\":16,\n",
        "    \"Y axis Label Fontweight\":'bold',\n",
        "\n",
        "    \"Fig Height (inches)\":10.8,\n",
        "    \"Fig Width (inches)\":18.8,\n",
        "\n",
        "    \"Fig Saving Name\": \"ROC_testing.png\",\n",
        "    \"dpi\":100\n",
        "\n",
        "}\n",
        "\n",
        "\n",
        "\n",
        "\n",
        "\n",
        "k_fold=5\n",
        "\n",
        "for i in range(len(new_keys)):\n",
        "  if new_keys[i].value ==True:\n",
        "    CV_ROC(models[i],5,graph_feat)\n",
        "    print(\"-----------------------------------------------------------------\")\n",
        "    print(\"-----------------------------------------------------------------\")"
      ],
      "metadata": {
        "id": "c7Mwtfbj6aPm"
      },
      "execution_count": null,
      "outputs": []
    },
    {
      "cell_type": "code",
      "source": [],
      "metadata": {
        "id": "Sm1rGioVdwNr"
      },
      "execution_count": null,
      "outputs": []
    },
    {
      "cell_type": "markdown",
      "source": [
        "#Result CSV<br>\n",
        "Predicted and Actual Row will be added at the end index"
      ],
      "metadata": {
        "id": "Wvhy6ENJf_oS"
      }
    },
    {
      "cell_type": "code",
      "source": [
        "def reverse_transfrom(my_list):\n",
        "  for i in range(len(my_list)):\n",
        "    if my_list[i] == 0:\n",
        "      my_list[i] = 'Control'\n",
        "    else:\n",
        "      my_list[i] = 'Patient'\n",
        "  return my_list"
      ],
      "metadata": {
        "id": "FA_xBniSgLzZ"
      },
      "execution_count": null,
      "outputs": []
    },
    {
      "cell_type": "code",
      "source": [
        "new_keys_4=models_check_box(models)"
      ],
      "metadata": {
        "id": "iZye8IXAAN9V"
      },
      "execution_count": null,
      "outputs": []
    },
    {
      "cell_type": "code",
      "source": [
        "for i in range(len(new_keys_4)):\n",
        "  if new_keys_4[i].value ==True:\n",
        "    temp=X_test_with_subject\n",
        "\n",
        "    prediction_cls = reverse_transfrom(list(models[i].predict(X_test[0:])))\n",
        "    actual_cls = reverse_transfrom(list(y_test[0:]))\n",
        "\n",
        "    temp[\"Actual\"] = actual_cls\n",
        "    temp[\"Predicted\"] = prediction_cls\n",
        "\n",
        "    temp.to_csv(str(models[i])+\".csv\")"
      ],
      "metadata": {
        "id": "aGw3UapChSZE"
      },
      "execution_count": null,
      "outputs": []
    }
  ]
}