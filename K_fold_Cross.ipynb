{
  "nbformat": 4,
  "nbformat_minor": 0,
  "metadata": {
    "colab": {
      "provenance": [],
      "authorship_tag": "ABX9TyMu5riuIH6IwDPpUDcy3bzU",
      "include_colab_link": true
    },
    "kernelspec": {
      "name": "python3",
      "display_name": "Python 3"
    },
    "language_info": {
      "name": "python"
    }
  },
  "cells": [
    {
      "cell_type": "markdown",
      "metadata": {
        "id": "view-in-github",
        "colab_type": "text"
      },
      "source": [
        "<a href=\"https://colab.research.google.com/github/RafsanJany-44/Research-NREM-REM/blob/main/K_fold_Cross.ipynb\" target=\"_parent\"><img src=\"https://colab.research.google.com/assets/colab-badge.svg\" alt=\"Open In Colab\"/></a>"
      ]
    },
    {
      "cell_type": "code",
      "execution_count": null,
      "metadata": {
        "colab": {
          "base_uri": "https://localhost:8080/"
        },
        "id": "zdF5ogvwBoow",
        "outputId": "b6f6021f-4506-420b-f732-3881f7ed8315"
      },
      "outputs": [
        {
          "output_type": "stream",
          "name": "stdout",
          "text": [
            "Mounted at /content/drive\n"
          ]
        }
      ],
      "source": [
        "from google.colab import drive\n",
        "drive.mount('/content/drive')"
      ]
    },
    {
      "cell_type": "code",
      "source": [
        "import numpy as np\n",
        "import pandas as pd\n",
        "\n",
        "dataset=pd.read_csv(\"https://raw.githubusercontent.com/RafsanJany-44/Research-NREM-REM/main/dataset/REM_NREM.csv\")\n",
        "\n",
        "\n",
        "target=\"Sleep_Stage\"\n",
        "\n",
        "classes = np.array(sorted(list(set(dataset[target]))))\n"
      ],
      "metadata": {
        "id": "7jNwndsNCEbl"
      },
      "execution_count": null,
      "outputs": []
    },
    {
      "cell_type": "code",
      "source": [
        "!pip install imbalanced-learn\n",
        "\n",
        "from imblearn.over_sampling import SMOTE\n",
        "\n",
        "def balance(X_temp, y_temp):\n",
        "  smote = SMOTE()\n",
        "  X_temp, y_temp= smote.fit_resample(X_temp, y_temp)\n",
        "\n",
        "  return pd.concat([pd.DataFrame(X_temp), pd.DataFrame(y_temp)], axis=1)"
      ],
      "metadata": {
        "colab": {
          "base_uri": "https://localhost:8080/"
        },
        "id": "lUyWGPNuCHHr",
        "outputId": "a83f67f3-f361-48cd-8d2b-04795c87f872"
      },
      "execution_count": null,
      "outputs": [
        {
          "output_type": "stream",
          "name": "stdout",
          "text": [
            "Looking in indexes: https://pypi.org/simple, https://us-python.pkg.dev/colab-wheels/public/simple/\n",
            "Requirement already satisfied: imbalanced-learn in /usr/local/lib/python3.7/dist-packages (0.8.1)\n",
            "Requirement already satisfied: scipy>=0.19.1 in /usr/local/lib/python3.7/dist-packages (from imbalanced-learn) (1.7.3)\n",
            "Requirement already satisfied: scikit-learn>=0.24 in /usr/local/lib/python3.7/dist-packages (from imbalanced-learn) (1.0.2)\n",
            "Requirement already satisfied: joblib>=0.11 in /usr/local/lib/python3.7/dist-packages (from imbalanced-learn) (1.1.0)\n",
            "Requirement already satisfied: numpy>=1.13.3 in /usr/local/lib/python3.7/dist-packages (from imbalanced-learn) (1.21.6)\n",
            "Requirement already satisfied: threadpoolctl>=2.0.0 in /usr/local/lib/python3.7/dist-packages (from scikit-learn>=0.24->imbalanced-learn) (3.1.0)\n"
          ]
        }
      ]
    },
    {
      "cell_type": "code",
      "source": [
        "from joblib import Parallel, delayed\n",
        "import joblib\n",
        "  \n",
        "\n",
        "def save_model(model,model_name):\n",
        " joblib.dump(model, model_name)\n",
        "  \n",
        "def load_model(model_name):\n",
        "  return joblib.load(model_name)\n",
        "\n"
      ],
      "metadata": {
        "id": "VOWYLHvzCimB"
      },
      "execution_count": null,
      "outputs": []
    },
    {
      "cell_type": "code",
      "source": [
        "from sklearn.preprocessing import LabelEncoder\n",
        "encoder=LabelEncoder()\n",
        "dataset[target]=encoder.fit_transform(dataset[target])"
      ],
      "metadata": {
        "id": "xFZfkzucCvaj"
      },
      "execution_count": null,
      "outputs": []
    },
    {
      "cell_type": "code",
      "source": [
        "X = dataset.loc[:, dataset.columns!=target]\n",
        "y = dataset[target]"
      ],
      "metadata": {
        "id": "wGqHSUyCCxRf"
      },
      "execution_count": null,
      "outputs": []
    },
    {
      "cell_type": "code",
      "source": [
        "#Splitting dataset into training and testing dataset\n",
        "from sklearn.model_selection import train_test_split\n",
        "X_train,X_test,y_train,y_test = train_test_split(X,y,test_size=0.2,random_state=0)"
      ],
      "metadata": {
        "id": "zcg_Hx1XC2al"
      },
      "execution_count": null,
      "outputs": []
    },
    {
      "cell_type": "code",
      "source": [
        "new_dataset=balance(X_train,y_train)\n",
        "\n",
        "X_train = new_dataset.loc[:, new_dataset.columns!=target]\n",
        "y_train = new_dataset[target]"
      ],
      "metadata": {
        "id": "C13d48pSC6ua"
      },
      "execution_count": null,
      "outputs": []
    },
    {
      "cell_type": "code",
      "source": [
        "import xgboost as xgb\n",
        "xgb_model =  load_model(\"/content/drive/MyDrive/MLModel_NREM_REM/XGBClassifier(max_depth=29, n_estimators=4010)\")\n",
        "\n",
        "xgb_classifier = xgb.XGBClassifier(n_estimators=4010,max_depth=29)"
      ],
      "metadata": {
        "id": "yt9OyqdiDCsd"
      },
      "execution_count": null,
      "outputs": []
    },
    {
      "cell_type": "code",
      "source": [
        "from sklearn.model_selection import cross_val_score\n",
        "from sklearn.model_selection import RepeatedStratifiedKFold\n",
        "cv = RepeatedStratifiedKFold(n_splits=5, n_repeats=3, random_state=1)\n",
        "Kfolds=15\n",
        "Kfolds_range = range (4,Kfolds+1)\n",
        "scores={}\n",
        "loop_time=[]\n",
        "scores_list = []\n",
        "for k in Kfolds_range:\n",
        "  \n",
        "  #cv = RepeatedStratifiedKFold(n_splits=k, n_repeats=3, random_state=1)\n",
        "  l=list(cross_val_score(xgb_classifier,X, y,cv=k))\n",
        "  avg=sum(l)/len(l)\n",
        "  scores[k] = avg\n",
        "  scores_list.append(avg)\n",
        "  print(str(k)+\"/\"+str(Kfolds)+\" round completed.........................AVG Accurecy: \"+str(avg))\n",
        "  "
      ],
      "metadata": {
        "id": "SYjlM9JzDRf2"
      },
      "execution_count": null,
      "outputs": []
    },
    {
      "cell_type": "code",
      "source": [
        "from sklearn.model_selection import cross_val_score\n",
        "from sklearn.model_selection import RepeatedStratifiedKFold\n",
        "cv = RepeatedStratifiedKFold(n_splits=5, n_repeats=3, random_state=1)\n",
        "Kfolds=20\n",
        "Kfolds_range = range (2,Kfolds+1)\n",
        "scores={}\n",
        "loop_time=[]\n",
        "scores_list = []\n",
        "for k in Kfolds_range:\n",
        "  \n",
        "  cv = RepeatedStratifiedKFold(n_splits=k, n_repeats=3, random_state=1)\n",
        "  l=list(cross_val_score(rf,X, y,cv=cv))\n",
        "  avg=sum(l)/len(l)\n",
        "  scores[k] = avg\n",
        "  scores_list.append(avg)\n",
        "  print(str(k)+\"/\"+str(Kfolds)+\" round completed.........................AVG Accurecy: \"+str(avg))\n",
        "  "
      ],
      "metadata": {
        "id": "mC-ABl9jDGM1"
      },
      "execution_count": null,
      "outputs": []
    },
    {
      "cell_type": "code",
      "source": [
        "from sklearn.model_selection import RepeatedStratifiedKFold\n",
        "cv = RepeatedStratifiedKFold(n_splits=5, n_repeats=3, random_state=1)\n",
        "Kfolds=20\n",
        "Kfolds_range = range (2,Kfolds+1)\n",
        "scores={}\n",
        "loop_time=[]\n",
        "scores_list = []\n",
        "for k in Kfolds_range:\n",
        "  cv = RepeatedStratifiedKFold(n_splits=3, n_repeats=k, random_state=1)\n",
        "  l=list(cross_val_score(LogisticRegression(solver='liblinear',multi_class='ovr'),X, y,cv=cv))\n",
        "  avg=sum(l)/len(l)\n",
        "  scores[k] = avg\n",
        "  scores_list.append(avg)\n",
        "  print(str(k)+\"/\"+str(Kfolds)+\" round completed.........................AVG Accurecy: \"+str(avg))\n",
        " "
      ],
      "metadata": {
        "id": "ImIiV4NhDGLO"
      },
      "execution_count": null,
      "outputs": []
    },
    {
      "cell_type": "code",
      "source": [],
      "metadata": {
        "id": "86Zaz2BtDGIC"
      },
      "execution_count": null,
      "outputs": []
    },
    {
      "cell_type": "code",
      "source": [],
      "metadata": {
        "id": "N1iYAWB8DGFa"
      },
      "execution_count": null,
      "outputs": []
    },
    {
      "cell_type": "code",
      "source": [],
      "metadata": {
        "id": "viFghyYODFzZ"
      },
      "execution_count": null,
      "outputs": []
    },
    {
      "cell_type": "markdown",
      "source": [
        "\n",
        "\n",
        "1.   Notably -> especially\n",
        "2.   immobilization -> to reduce or eliminate motion of\n",
        "3.   This paper additionality introduces explainabilty of   the machine learning models.\n",
        "4.   Evidece\n",
        "5.   structurally\n",
        "6.   deemed more novel -> novel bole gonno kora\n",
        "7.   "
      ],
      "metadata": {
        "id": "xBjRLcFPcTvz"
      }
    },
    {
      "cell_type": "code",
      "source": [
        " "
      ],
      "metadata": {
        "id": "resz6hnbc9oQ"
      },
      "execution_count": null,
      "outputs": []
    }
  ]
}