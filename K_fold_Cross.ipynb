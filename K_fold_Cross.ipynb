{
  "nbformat": 4,
  "nbformat_minor": 0,
  "metadata": {
    "colab": {
      "provenance": [],
      "authorship_tag": "ABX9TyO16cqDg9SiJ1r4CtvCVKDV",
      "include_colab_link": true
    },
    "kernelspec": {
      "name": "python3",
      "display_name": "Python 3"
    },
    "language_info": {
      "name": "python"
    }
  },
  "cells": [
    {
      "cell_type": "markdown",
      "metadata": {
        "id": "view-in-github",
        "colab_type": "text"
      },
      "source": [
        "<a href=\"https://colab.research.google.com/github/RafsanJany-44/Research-NREM-REM/blob/main/K_fold_Cross.ipynb\" target=\"_parent\"><img src=\"https://colab.research.google.com/assets/colab-badge.svg\" alt=\"Open In Colab\"/></a>"
      ]
    },
    {
      "cell_type": "code",
      "execution_count": 1,
      "metadata": {
        "colab": {
          "base_uri": "https://localhost:8080/"
        },
        "id": "zdF5ogvwBoow",
        "outputId": "bedf5170-e7bd-41f6-fba4-7a8c6a186e27"
      },
      "outputs": [
        {
          "output_type": "stream",
          "name": "stdout",
          "text": [
            "Mounted at /content/drive\n"
          ]
        }
      ],
      "source": [
        "from google.colab import drive\n",
        "drive.mount('/content/drive')"
      ]
    },
    {
      "cell_type": "code",
      "source": [
        "import numpy as np\n",
        "import pandas as pd\n",
        "\n",
        "dataset=pd.read_csv(\"https://raw.githubusercontent.com/RafsanJany-44/Research-NREM-REM/main/dataset/REM_NREM.csv\")\n",
        "\n",
        "\n",
        "target=\"Sleep_Stage\"\n",
        "\n",
        "classes = np.array(sorted(list(set(dataset[target]))))\n"
      ],
      "metadata": {
        "id": "7jNwndsNCEbl"
      },
      "execution_count": 2,
      "outputs": []
    },
    {
      "cell_type": "code",
      "source": [
        "!pip install imbalanced-learn\n",
        "\n",
        "from imblearn.over_sampling import SMOTE\n",
        "\n",
        "def balance(X_temp, y_temp):\n",
        "  smote = SMOTE()\n",
        "  X_temp, y_temp= smote.fit_resample(X_temp, y_temp)\n",
        "\n",
        "  return pd.concat([pd.DataFrame(X_temp), pd.DataFrame(y_temp)], axis=1)"
      ],
      "metadata": {
        "colab": {
          "base_uri": "https://localhost:8080/"
        },
        "id": "lUyWGPNuCHHr",
        "outputId": "759ba9eb-d499-4ddc-a5d3-479d6ccc96be"
      },
      "execution_count": 3,
      "outputs": [
        {
          "output_type": "stream",
          "name": "stdout",
          "text": [
            "Looking in indexes: https://pypi.org/simple, https://us-python.pkg.dev/colab-wheels/public/simple/\n",
            "Requirement already satisfied: imbalanced-learn in /usr/local/lib/python3.7/dist-packages (0.8.1)\n",
            "Requirement already satisfied: scikit-learn>=0.24 in /usr/local/lib/python3.7/dist-packages (from imbalanced-learn) (1.0.2)\n",
            "Requirement already satisfied: numpy>=1.13.3 in /usr/local/lib/python3.7/dist-packages (from imbalanced-learn) (1.21.6)\n",
            "Requirement already satisfied: joblib>=0.11 in /usr/local/lib/python3.7/dist-packages (from imbalanced-learn) (1.1.0)\n",
            "Requirement already satisfied: scipy>=0.19.1 in /usr/local/lib/python3.7/dist-packages (from imbalanced-learn) (1.7.3)\n",
            "Requirement already satisfied: threadpoolctl>=2.0.0 in /usr/local/lib/python3.7/dist-packages (from scikit-learn>=0.24->imbalanced-learn) (3.1.0)\n"
          ]
        }
      ]
    },
    {
      "cell_type": "code",
      "source": [
        "from joblib import Parallel, delayed\n",
        "import joblib\n",
        "  \n",
        "\n",
        "def save_model(model,model_name):\n",
        " joblib.dump(model, model_name)\n",
        "  \n",
        "def load_model(model_name):\n",
        "  return joblib.load(model_name)\n",
        "\n"
      ],
      "metadata": {
        "id": "VOWYLHvzCimB"
      },
      "execution_count": 4,
      "outputs": []
    },
    {
      "cell_type": "code",
      "source": [
        "from sklearn.preprocessing import LabelEncoder\n",
        "encoder=LabelEncoder()\n",
        "dataset[target]=encoder.fit_transform(dataset[target])"
      ],
      "metadata": {
        "id": "xFZfkzucCvaj"
      },
      "execution_count": 5,
      "outputs": []
    },
    {
      "cell_type": "code",
      "source": [
        "X = dataset.loc[:, dataset.columns!=target]\n",
        "y = dataset[target]"
      ],
      "metadata": {
        "id": "wGqHSUyCCxRf"
      },
      "execution_count": 6,
      "outputs": []
    },
    {
      "cell_type": "code",
      "source": [
        "#Splitting dataset into training and testing dataset\n",
        "from sklearn.model_selection import train_test_split\n",
        "X_train,X_test,y_train,y_test = train_test_split(X,y,test_size=0.2,random_state=0)"
      ],
      "metadata": {
        "id": "zcg_Hx1XC2al"
      },
      "execution_count": 7,
      "outputs": []
    },
    {
      "cell_type": "code",
      "source": [
        "new_dataset=balance(X_train,y_train)\n",
        "\n",
        "X_train = new_dataset.loc[:, new_dataset.columns!=target]\n",
        "y_train = new_dataset[target]"
      ],
      "metadata": {
        "id": "C13d48pSC6ua"
      },
      "execution_count": 8,
      "outputs": []
    },
    {
      "cell_type": "code",
      "source": [
        "\n",
        "rf = load_model(\"/content/drive/MyDrive/MLModel_NREM_REM/RandomForestClassifier(max_depth=39, n_estimators=450, random_state=0)\")\n",
        "\n",
        "xgb =  load_model(\"/content/drive/MyDrive/MLModel_NREM_REM/XGBClassifier(max_depth=29, n_estimators=4010)\")\n",
        "\n",
        "gb=load_model(\"/content/drive/MyDrive/MLModel_NREM_REM/GradientBoostingClassifier(max_depth=12, n_estimators=1150, random_state=0)\")\n"
      ],
      "metadata": {
        "id": "yt9OyqdiDCsd"
      },
      "execution_count": 9,
      "outputs": []
    },
    {
      "cell_type": "code",
      "source": [
        "from sklearn.model_selection import cross_val_score\n",
        "from sklearn.model_selection import RepeatedStratifiedKFold\n",
        "cv = RepeatedStratifiedKFold(n_splits=5, n_repeats=3, random_state=1)\n",
        "Kfolds=15\n",
        "Kfolds_range = range (4,Kfolds+1)\n",
        "scores={}\n",
        "loop_time=[]\n",
        "scores_list = []\n",
        "for k in Kfolds_range:\n",
        "  \n",
        "  #cv = RepeatedStratifiedKFold(n_splits=k, n_repeats=3, random_state=1)\n",
        "  l=list(cross_val_score(xgb,X, y,cv=k))\n",
        "  avg=sum(l)/len(l)\n",
        "  scores[k] = avg\n",
        "  scores_list.append(avg)\n",
        "  print(str(k)+\"/\"+str(Kfolds)+\" round completed.........................AVG Accurecy: \"+str(avg))\n",
        "  "
      ],
      "metadata": {
        "colab": {
          "base_uri": "https://localhost:8080/"
        },
        "id": "SYjlM9JzDRf2",
        "outputId": "06311595-ee38-4a6e-eb29-e55064d69970"
      },
      "execution_count": null,
      "outputs": [
        {
          "output_type": "stream",
          "name": "stdout",
          "text": [
            "4/15 round completed.........................AVG Accurecy: 0.8605212355212355\n"
          ]
        }
      ]
    },
    {
      "cell_type": "code",
      "source": [
        "from sklearn.model_selection import cross_val_score\n",
        "from sklearn.model_selection import RepeatedStratifiedKFold\n",
        "cv = RepeatedStratifiedKFold(n_splits=5, n_repeats=3, random_state=1)\n",
        "Kfolds=20\n",
        "Kfolds_range = range (2,Kfolds+1)\n",
        "scores={}\n",
        "loop_time=[]\n",
        "scores_list = []\n",
        "for k in Kfolds_range:\n",
        "  \n",
        "  cv = RepeatedStratifiedKFold(n_splits=k, n_repeats=3, random_state=1)\n",
        "  l=list(cross_val_score(rf,X, y,cv=cv))\n",
        "  avg=sum(l)/len(l)\n",
        "  scores[k] = avg\n",
        "  scores_list.append(avg)\n",
        "  print(str(k)+\"/\"+str(Kfolds)+\" round completed.........................AVG Accurecy: \"+str(avg))\n",
        "  "
      ],
      "metadata": {
        "id": "mC-ABl9jDGM1"
      },
      "execution_count": null,
      "outputs": []
    },
    {
      "cell_type": "code",
      "source": [
        "from sklearn.model_selection import RepeatedStratifiedKFold\n",
        "cv = RepeatedStratifiedKFold(n_splits=5, n_repeats=3, random_state=1)\n",
        "Kfolds=20\n",
        "Kfolds_range = range (2,Kfolds+1)\n",
        "scores={}\n",
        "loop_time=[]\n",
        "scores_list = []\n",
        "for k in Kfolds_range:\n",
        "  cv = RepeatedStratifiedKFold(n_splits=3, n_repeats=k, random_state=1)\n",
        "  l=list(cross_val_score(LogisticRegression(solver='liblinear',multi_class='ovr'),X, y,cv=cv))\n",
        "  avg=sum(l)/len(l)\n",
        "  scores[k] = avg\n",
        "  scores_list.append(avg)\n",
        "  print(str(k)+\"/\"+str(Kfolds)+\" round completed.........................AVG Accurecy: \"+str(avg))\n",
        " "
      ],
      "metadata": {
        "id": "ImIiV4NhDGLO"
      },
      "execution_count": null,
      "outputs": []
    },
    {
      "cell_type": "code",
      "source": [],
      "metadata": {
        "id": "86Zaz2BtDGIC"
      },
      "execution_count": null,
      "outputs": []
    },
    {
      "cell_type": "code",
      "source": [],
      "metadata": {
        "id": "N1iYAWB8DGFa"
      },
      "execution_count": null,
      "outputs": []
    },
    {
      "cell_type": "code",
      "source": [],
      "metadata": {
        "id": "viFghyYODFzZ"
      },
      "execution_count": null,
      "outputs": []
    }
  ]
}