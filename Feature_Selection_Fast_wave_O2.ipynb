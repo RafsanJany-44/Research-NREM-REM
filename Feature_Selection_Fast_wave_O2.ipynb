{
  "nbformat": 4,
  "nbformat_minor": 0,
  "metadata": {
    "colab": {
      "name": "Feature_Selection.ipynb",
      "provenance": [],
      "include_colab_link": true
    },
    "kernelspec": {
      "name": "python3",
      "display_name": "Python 3"
    },
    "language_info": {
      "name": "python"
    }
  },
  "cells": [
    {
      "cell_type": "markdown",
      "metadata": {
        "id": "view-in-github",
        "colab_type": "text"
      },
      "source": [
        "<a href=\"https://colab.research.google.com/github/RafsanJany-44/Research-NREM-REM/blob/main/Feature_Selection_Fast_wave_O2.ipynb\" target=\"_parent\"><img src=\"https://colab.research.google.com/assets/colab-badge.svg\" alt=\"Open In Colab\"/></a>"
      ]
    },
    {
      "cell_type": "markdown",
      "metadata": {
        "id": "NrEn0diQvJAa"
      },
      "source": [
        "https://github.com/krishnaik06/Feature-Selection-techniques/blob/master/Feature%20Selection.ipynb"
      ]
    },
    {
      "cell_type": "markdown",
      "metadata": {
        "id": "FYz29eujyH4I"
      },
      "source": [
        "https://www.youtube.com/watch?v=EqLBAmtKMnQ"
      ]
    },
    {
      "cell_type": "code",
      "metadata": {
        "id": "Pcc31csktxBi"
      },
      "source": [
        "import pandas as pd\n",
        "import numpy as np\n",
        "from sklearn.feature_selection import SelectKBest\n",
        "from sklearn.feature_selection import chi2\n",
        "data = pd.read_csv(\"https://raw.githubusercontent.com/RafsanJany-44/Research-NREM-REM/main/dataset/Fast_wave_REM_NREM_O2.csv\")\n",
        "X = data.iloc[:,1:] #independent columns\n",
        "y = data[['Sleep_Stage']]   #target column "
      ],
      "execution_count": 31,
      "outputs": []
    },
    {
      "cell_type": "code",
      "metadata": {
        "id": "R9QlKz1wuEye"
      },
      "source": [
        "#apply SelectKBest class to extract top 10 best features\n",
        "bestfeatures = SelectKBest(score_func=chi2, k=\"all\")\n",
        "fit = bestfeatures.fit(X,y)"
      ],
      "execution_count": 32,
      "outputs": []
    },
    {
      "cell_type": "code",
      "metadata": {
        "id": "zT1mQqSNuMmZ"
      },
      "source": [
        "dfscores = pd.DataFrame(fit.scores_)\n",
        "dfcolumns = pd.DataFrame(X.columns)"
      ],
      "execution_count": 33,
      "outputs": []
    },
    {
      "cell_type": "code",
      "metadata": {
        "id": "zdD3VVKkuO1Q"
      },
      "source": [
        "#concat two dataframes for better visualization \n",
        "featureScores = pd.concat([dfcolumns,dfscores],axis=1)\n",
        "featureScores.columns = ['Specs','Score']  #naming the dataframe columns"
      ],
      "execution_count": 34,
      "outputs": []
    },
    {
      "cell_type": "code",
      "metadata": {
        "colab": {
          "base_uri": "https://localhost:8080/",
          "height": 363
        },
        "id": "iS9a2ZJ1uROe",
        "outputId": "3ecab36e-12d0-417a-e118-0d0542013cd7"
      },
      "source": [
        "featureScores"
      ],
      "execution_count": 35,
      "outputs": [
        {
          "output_type": "execute_result",
          "data": {
            "text/plain": [
              "                    Specs       Score\n",
              "0          MeanP_Alpha_O2    1.913752\n",
              "1        MedianF_Alpha_O2  218.817122\n",
              "2          MeanF_Alpha_O2  333.296001\n",
              "3  Spectral Edge_Alpha_O2  400.231243\n",
              "4          PeakF_Alpha_O2  199.647720\n",
              "5           MeanP_Beta_O2    1.333761\n",
              "6         MedianF_Beta_O2   92.469710\n",
              "7           MeanF_Beta_O2   26.265081\n",
              "8   Spectral Edge_Beta_O2   16.158986\n",
              "9           PeakF_Beta_O2  742.508011"
            ],
            "text/html": [
              "\n",
              "  <div id=\"df-342f64da-7d23-46ad-b5a4-c922b41a21f9\">\n",
              "    <div class=\"colab-df-container\">\n",
              "      <div>\n",
              "<style scoped>\n",
              "    .dataframe tbody tr th:only-of-type {\n",
              "        vertical-align: middle;\n",
              "    }\n",
              "\n",
              "    .dataframe tbody tr th {\n",
              "        vertical-align: top;\n",
              "    }\n",
              "\n",
              "    .dataframe thead th {\n",
              "        text-align: right;\n",
              "    }\n",
              "</style>\n",
              "<table border=\"1\" class=\"dataframe\">\n",
              "  <thead>\n",
              "    <tr style=\"text-align: right;\">\n",
              "      <th></th>\n",
              "      <th>Specs</th>\n",
              "      <th>Score</th>\n",
              "    </tr>\n",
              "  </thead>\n",
              "  <tbody>\n",
              "    <tr>\n",
              "      <th>0</th>\n",
              "      <td>MeanP_Alpha_O2</td>\n",
              "      <td>1.913752</td>\n",
              "    </tr>\n",
              "    <tr>\n",
              "      <th>1</th>\n",
              "      <td>MedianF_Alpha_O2</td>\n",
              "      <td>218.817122</td>\n",
              "    </tr>\n",
              "    <tr>\n",
              "      <th>2</th>\n",
              "      <td>MeanF_Alpha_O2</td>\n",
              "      <td>333.296001</td>\n",
              "    </tr>\n",
              "    <tr>\n",
              "      <th>3</th>\n",
              "      <td>Spectral Edge_Alpha_O2</td>\n",
              "      <td>400.231243</td>\n",
              "    </tr>\n",
              "    <tr>\n",
              "      <th>4</th>\n",
              "      <td>PeakF_Alpha_O2</td>\n",
              "      <td>199.647720</td>\n",
              "    </tr>\n",
              "    <tr>\n",
              "      <th>5</th>\n",
              "      <td>MeanP_Beta_O2</td>\n",
              "      <td>1.333761</td>\n",
              "    </tr>\n",
              "    <tr>\n",
              "      <th>6</th>\n",
              "      <td>MedianF_Beta_O2</td>\n",
              "      <td>92.469710</td>\n",
              "    </tr>\n",
              "    <tr>\n",
              "      <th>7</th>\n",
              "      <td>MeanF_Beta_O2</td>\n",
              "      <td>26.265081</td>\n",
              "    </tr>\n",
              "    <tr>\n",
              "      <th>8</th>\n",
              "      <td>Spectral Edge_Beta_O2</td>\n",
              "      <td>16.158986</td>\n",
              "    </tr>\n",
              "    <tr>\n",
              "      <th>9</th>\n",
              "      <td>PeakF_Beta_O2</td>\n",
              "      <td>742.508011</td>\n",
              "    </tr>\n",
              "  </tbody>\n",
              "</table>\n",
              "</div>\n",
              "      <button class=\"colab-df-convert\" onclick=\"convertToInteractive('df-342f64da-7d23-46ad-b5a4-c922b41a21f9')\"\n",
              "              title=\"Convert this dataframe to an interactive table.\"\n",
              "              style=\"display:none;\">\n",
              "        \n",
              "  <svg xmlns=\"http://www.w3.org/2000/svg\" height=\"24px\"viewBox=\"0 0 24 24\"\n",
              "       width=\"24px\">\n",
              "    <path d=\"M0 0h24v24H0V0z\" fill=\"none\"/>\n",
              "    <path d=\"M18.56 5.44l.94 2.06.94-2.06 2.06-.94-2.06-.94-.94-2.06-.94 2.06-2.06.94zm-11 1L8.5 8.5l.94-2.06 2.06-.94-2.06-.94L8.5 2.5l-.94 2.06-2.06.94zm10 10l.94 2.06.94-2.06 2.06-.94-2.06-.94-.94-2.06-.94 2.06-2.06.94z\"/><path d=\"M17.41 7.96l-1.37-1.37c-.4-.4-.92-.59-1.43-.59-.52 0-1.04.2-1.43.59L10.3 9.45l-7.72 7.72c-.78.78-.78 2.05 0 2.83L4 21.41c.39.39.9.59 1.41.59.51 0 1.02-.2 1.41-.59l7.78-7.78 2.81-2.81c.8-.78.8-2.07 0-2.86zM5.41 20L4 18.59l7.72-7.72 1.47 1.35L5.41 20z\"/>\n",
              "  </svg>\n",
              "      </button>\n",
              "      \n",
              "  <style>\n",
              "    .colab-df-container {\n",
              "      display:flex;\n",
              "      flex-wrap:wrap;\n",
              "      gap: 12px;\n",
              "    }\n",
              "\n",
              "    .colab-df-convert {\n",
              "      background-color: #E8F0FE;\n",
              "      border: none;\n",
              "      border-radius: 50%;\n",
              "      cursor: pointer;\n",
              "      display: none;\n",
              "      fill: #1967D2;\n",
              "      height: 32px;\n",
              "      padding: 0 0 0 0;\n",
              "      width: 32px;\n",
              "    }\n",
              "\n",
              "    .colab-df-convert:hover {\n",
              "      background-color: #E2EBFA;\n",
              "      box-shadow: 0px 1px 2px rgba(60, 64, 67, 0.3), 0px 1px 3px 1px rgba(60, 64, 67, 0.15);\n",
              "      fill: #174EA6;\n",
              "    }\n",
              "\n",
              "    [theme=dark] .colab-df-convert {\n",
              "      background-color: #3B4455;\n",
              "      fill: #D2E3FC;\n",
              "    }\n",
              "\n",
              "    [theme=dark] .colab-df-convert:hover {\n",
              "      background-color: #434B5C;\n",
              "      box-shadow: 0px 1px 3px 1px rgba(0, 0, 0, 0.15);\n",
              "      filter: drop-shadow(0px 1px 2px rgba(0, 0, 0, 0.3));\n",
              "      fill: #FFFFFF;\n",
              "    }\n",
              "  </style>\n",
              "\n",
              "      <script>\n",
              "        const buttonEl =\n",
              "          document.querySelector('#df-342f64da-7d23-46ad-b5a4-c922b41a21f9 button.colab-df-convert');\n",
              "        buttonEl.style.display =\n",
              "          google.colab.kernel.accessAllowed ? 'block' : 'none';\n",
              "\n",
              "        async function convertToInteractive(key) {\n",
              "          const element = document.querySelector('#df-342f64da-7d23-46ad-b5a4-c922b41a21f9');\n",
              "          const dataTable =\n",
              "            await google.colab.kernel.invokeFunction('convertToInteractive',\n",
              "                                                     [key], {});\n",
              "          if (!dataTable) return;\n",
              "\n",
              "          const docLinkHtml = 'Like what you see? Visit the ' +\n",
              "            '<a target=\"_blank\" href=https://colab.research.google.com/notebooks/data_table.ipynb>data table notebook</a>'\n",
              "            + ' to learn more about interactive tables.';\n",
              "          element.innerHTML = '';\n",
              "          dataTable['output_type'] = 'display_data';\n",
              "          await google.colab.output.renderOutput(dataTable, element);\n",
              "          const docLink = document.createElement('div');\n",
              "          docLink.innerHTML = docLinkHtml;\n",
              "          element.appendChild(docLink);\n",
              "        }\n",
              "      </script>\n",
              "    </div>\n",
              "  </div>\n",
              "  "
            ]
          },
          "metadata": {},
          "execution_count": 35
        }
      ]
    },
    {
      "cell_type": "code",
      "metadata": {
        "colab": {
          "base_uri": "https://localhost:8080/"
        },
        "id": "WJQN_VMSuT-o",
        "outputId": "4a4d4b8c-3246-4cee-f7c3-aabcd55dada3"
      },
      "source": [
        "print(featureScores.nlargest(10,'Score'))  #print 10 best features"
      ],
      "execution_count": 36,
      "outputs": [
        {
          "output_type": "stream",
          "name": "stdout",
          "text": [
            "                    Specs       Score\n",
            "9           PeakF_Beta_O2  742.508011\n",
            "3  Spectral Edge_Alpha_O2  400.231243\n",
            "2          MeanF_Alpha_O2  333.296001\n",
            "1        MedianF_Alpha_O2  218.817122\n",
            "4          PeakF_Alpha_O2  199.647720\n",
            "6         MedianF_Beta_O2   92.469710\n",
            "7           MeanF_Beta_O2   26.265081\n",
            "8   Spectral Edge_Beta_O2   16.158986\n",
            "0          MeanP_Alpha_O2    1.913752\n",
            "5           MeanP_Beta_O2    1.333761\n"
          ]
        }
      ]
    },
    {
      "cell_type": "code",
      "metadata": {
        "colab": {
          "base_uri": "https://localhost:8080/"
        },
        "id": "Hqt6zY2huWvQ",
        "outputId": "a3e0e1f0-c0ef-476e-bae5-a7147b30270b"
      },
      "source": [
        "from sklearn.ensemble import ExtraTreesClassifier\n",
        "import matplotlib.pyplot as plt\n",
        "model = ExtraTreesClassifier()\n",
        "model.fit(X,y)\n",
        "print(featureScores.nlargest(10,'Score'))"
      ],
      "execution_count": 37,
      "outputs": [
        {
          "output_type": "stream",
          "name": "stderr",
          "text": [
            "/usr/local/lib/python3.7/dist-packages/ipykernel_launcher.py:4: DataConversionWarning: A column-vector y was passed when a 1d array was expected. Please change the shape of y to (n_samples,), for example using ravel().\n",
            "  after removing the cwd from sys.path.\n"
          ]
        },
        {
          "output_type": "stream",
          "name": "stdout",
          "text": [
            "                    Specs       Score\n",
            "9           PeakF_Beta_O2  742.508011\n",
            "3  Spectral Edge_Alpha_O2  400.231243\n",
            "2          MeanF_Alpha_O2  333.296001\n",
            "1        MedianF_Alpha_O2  218.817122\n",
            "4          PeakF_Alpha_O2  199.647720\n",
            "6         MedianF_Beta_O2   92.469710\n",
            "7           MeanF_Beta_O2   26.265081\n",
            "8   Spectral Edge_Beta_O2   16.158986\n",
            "0          MeanP_Alpha_O2    1.913752\n",
            "5           MeanP_Beta_O2    1.333761\n"
          ]
        }
      ]
    },
    {
      "cell_type": "code",
      "metadata": {
        "colab": {
          "base_uri": "https://localhost:8080/"
        },
        "id": "lVH5lcuouZZ_",
        "outputId": "2ffce5f8-d1b7-4986-bb35-6a37dc37ccb9"
      },
      "source": [
        "print(model.feature_importances_) #use inbuilt class feature_importances of tree based classifiers"
      ],
      "execution_count": 38,
      "outputs": [
        {
          "output_type": "stream",
          "name": "stdout",
          "text": [
            "[0.12252911 0.10143794 0.10120774 0.09430582 0.0906682  0.12419916\n",
            " 0.09918738 0.0926492  0.09271091 0.08110453]\n"
          ]
        }
      ]
    },
    {
      "cell_type": "code",
      "metadata": {
        "id": "kOTRoncfudHi"
      },
      "source": [
        "#plot graph of feature importances for better visualization\n",
        "#feat_importances = pd.Series(model.feature_importances_, index=X.columns)\n",
        "#feat_importances.nlargest(10).plot(figsize=(20,10),kind=\"bar\")\n",
        "#plt.show()\n",
        "#print(featureScores.nlargest(10,'Score'))"
      ],
      "execution_count": 39,
      "outputs": []
    },
    {
      "cell_type": "code",
      "metadata": {
        "id": "vZGh5gdIug1m"
      },
      "source": [
        "import seaborn as sns\n",
        "#get correlations of each features in dataset\n",
        "corrmat = data.corr()\n",
        "top_corr_features = corrmat.index\n",
        "plt.figure(figsize=(77,77))\n",
        "#plot heat map\n",
        "g=sns.heatmap(data[top_corr_features].corr(),annot=True,cmap=\"RdYlGn\")"
      ],
      "execution_count": null,
      "outputs": []
    },
    {
      "cell_type": "code",
      "metadata": {
        "id": "VFrhvJcPujoD"
      },
      "source": [
        ""
      ],
      "execution_count": null,
      "outputs": []
    },
    {
      "cell_type": "markdown",
      "metadata": {
        "id": "JhRg0EXagcTH"
      },
      "source": [
        "corr() is from panda and works on:\n",
        "Method of correlation:\n",
        "\n",
        "pearson : standard correlation coefficient\n",
        "\n",
        "kendall : Kendall Tau correlation coefficient\n",
        "\n",
        "spearman : Spearman rank correlation"
      ]
    }
  ]
}