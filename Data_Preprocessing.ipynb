{
  "nbformat": 4,
  "nbformat_minor": 0,
  "metadata": {
    "colab": {
      "name": "Data Preprocessing.ipynb",
      "provenance": [],
      "authorship_tag": "ABX9TyNBEmiipFoiOKnZ9F9Rdzra",
      "include_colab_link": true
    },
    "kernelspec": {
      "name": "python3",
      "display_name": "Python 3"
    },
    "language_info": {
      "name": "python"
    }
  },
  "cells": [
    {
      "cell_type": "markdown",
      "metadata": {
        "id": "view-in-github",
        "colab_type": "text"
      },
      "source": [
        "<a href=\"https://colab.research.google.com/github/RafsanJany-44/Research-NREM-REM/blob/main/Data_Preprocessing.ipynb\" target=\"_parent\"><img src=\"https://colab.research.google.com/assets/colab-badge.svg\" alt=\"Open In Colab\"/></a>"
      ]
    },
    {
      "cell_type": "markdown",
      "source": [
        "Get Frequency of a colunms, all labels, unik features\n",
        "\n",
        "---\n",
        "\n"
      ],
      "metadata": {
        "id": "8qPcKYhPvZjO"
      }
    },
    {
      "cell_type": "code",
      "source": [
        "unik_feat=list(dataset[\"Sleep_Stage\"].unique())\n",
        "all_feat_list=dataset[\"Sleep_Stage\"].values\n",
        "frequency = dataset[\"Sleep_Stage\"].value_counts()\n",
        "\n",
        "print(frequency)\n",
        "print(unik_feat)\n",
        "print(all_feat_list)"
      ],
      "metadata": {
        "colab": {
          "base_uri": "https://localhost:8080/"
        },
        "id": "tFpd3AVgvZJ1",
        "outputId": "77db145c-3a11-4549-8bb9-99e39377276f"
      },
      "execution_count": null,
      "outputs": [
        {
          "output_type": "stream",
          "name": "stdout",
          "text": [
            "NREM    72631\n",
            "REM     16465\n",
            "Name: Sleep_Stage, dtype: int64\n",
            "['NREM', 'REM']\n",
            "['NREM' 'NREM' 'NREM' ... 'NREM' 'NREM' 'NREM']\n"
          ]
        }
      ]
    },
    {
      "cell_type": "markdown",
      "source": [
        "\n",
        "\n",
        "---\n",
        "\n"
      ],
      "metadata": {
        "id": "9Cwotxqd90sC"
      }
    },
    {
      "cell_type": "markdown",
      "source": [
        "#ALL FUNCTIONS\n",
        "\n",
        "---\n",
        "\n"
      ],
      "metadata": {
        "id": "O0NRSOxXHDn1"
      }
    },
    {
      "cell_type": "markdown",
      "source": [
        "Separating to X and Y axis"
      ],
      "metadata": {
        "id": "QvZCR-YTHphk"
      }
    },
    {
      "cell_type": "code",
      "source": [
        "def sep_XY(dataset,target):\n",
        "  import numpy as np\n",
        "  import pandas as pd\n",
        "  x_col_name= list(dataset.iloc[:0,:])\n",
        "  x_col_name.remove(target)\n",
        "  return (dataset[x_col_name].values),(dataset[target].values)"
      ],
      "metadata": {
        "id": "_Rojfkb3Ht8q"
      },
      "execution_count": null,
      "outputs": []
    },
    {
      "cell_type": "markdown",
      "source": [
        "All Data encoder "
      ],
      "metadata": {
        "id": "jPZV2r62HOsF"
      }
    },
    {
      "cell_type": "code",
      "source": [
        "def encode_engine(dataset):\n",
        "  from sklearn.preprocessing import LabelEncoder\n",
        "  encoder=LabelEncoder()\n",
        "  col= list(dataset.iloc[:0,:])\n",
        "\n",
        "  for i in col:\n",
        "    if type(list(dataset[i].unique())[0])==str:\n",
        "            dataset[i]=encoder.fit_transform(dataset[i])\n",
        "  \n",
        "  return dataset"
      ],
      "metadata": {
        "id": "awdBpozrHTsl"
      },
      "execution_count": null,
      "outputs": []
    },
    {
      "cell_type": "markdown",
      "source": [
        "###Data balancing"
      ],
      "metadata": {
        "id": "aI3z9csQ-qYH"
      }
    },
    {
      "cell_type": "code",
      "source": [
        "!pip install imbalanced-learn\n",
        "\n",
        "from imblearn.over_sampling import SMOTE\n",
        "\n",
        "def balance(X_temp, y_temp):\n",
        "  smote = SMOTE()\n",
        "  X_temp, y_temp= smote.fit_resample(X_temp, y_temp)\n",
        "\n",
        "  return pd.concat([pd.DataFrame(X_temp), pd.DataFrame(y_temp)], axis=1)\n",
        "\n",
        "\n",
        "\n"
      ],
      "metadata": {
        "id": "pStACAD19wBN"
      },
      "execution_count": null,
      "outputs": []
    },
    {
      "cell_type": "markdown",
      "source": [
        "\n",
        "\n",
        "---\n",
        "\n"
      ],
      "metadata": {
        "id": "i-NBH5yX9w3e"
      }
    },
    {
      "cell_type": "markdown",
      "source": [
        "-------------------------------------------------------------------------------------------------------------------------------------------------------------------------"
      ],
      "metadata": {
        "id": "R9A08G7uG6SF"
      }
    },
    {
      "cell_type": "code",
      "execution_count": null,
      "metadata": {
        "id": "FigW9TKuDVKo"
      },
      "outputs": [],
      "source": [
        "import numpy as np\n",
        "import pandas as pd"
      ]
    },
    {
      "cell_type": "code",
      "source": [
        "\n",
        "#dataset=pd.read_csv(\"https://raw.githubusercontent.com/RafsanJany-44/Machine-School/main/datasets/Machine_readable_file_mei_march_2022.csv\")\n",
        "\n",
        "dataset=pd.read_csv(\"https://raw.githubusercontent.com/RafsanJany-44/Machine-School/main/datasets/REM_NREM_O2.csv\")\n",
        "\n"
      ],
      "metadata": {
        "id": "EUBuA08XNFXX"
      },
      "execution_count": null,
      "outputs": []
    },
    {
      "cell_type": "code",
      "source": [
        "dataset.head()"
      ],
      "metadata": {
        "colab": {
          "base_uri": "https://localhost:8080/",
          "height": 317
        },
        "id": "JtBNLDg_N0ee",
        "outputId": "a5c6714f-ebe7-4506-cfa2-6d6dff07dd05"
      },
      "execution_count": null,
      "outputs": [
        {
          "output_type": "execute_result",
          "data": {
            "text/plain": [
              "  Sleep_Stage  MeanP_Alpha_O2  MedianF_Alpha_O2  MeanF_Alpha_O2  \\\n",
              "0        NREM         0.00023          10.61463        18.48195   \n",
              "1        NREM         0.00023          10.36488        18.10732   \n",
              "2        NREM         0.00025           9.74049        17.35805   \n",
              "3        NREM         0.00027           9.49073        17.60780   \n",
              "4        NREM         0.00036           9.24098        16.48390   \n",
              "\n",
              "   Spectral Edge_Alpha_O2  PeakF_Alpha_O2  MeanP_Beta_O2  MedianF_Beta_O2  \\\n",
              "0                17.98244        10.73951        0.00034         18.23220   \n",
              "1                17.48293        10.24000        0.00032         18.10732   \n",
              "2                16.73366         9.86537        0.00031         17.23317   \n",
              "3                16.85854         8.11707        0.00033         17.73268   \n",
              "4                15.98439         8.11707        0.00039         15.98439   \n",
              "\n",
              "   MeanF_Beta_O2  Spectral Edge_Beta_O2  ...  MeanP_Delta_O2  \\\n",
              "0       25.84976               28.47220  ...         0.00112   \n",
              "1       26.22439               28.72195  ...         0.00070   \n",
              "2       26.47415               28.84683  ...         0.00077   \n",
              "3       26.47415               28.59707  ...         0.00130   \n",
              "4       24.47610               25.97463  ...         0.00123   \n",
              "\n",
              "   MedianF_Delta_O2  MeanF_Delta_O2  Spectral Edge_Delta_O2  PeakF_Delta_O2  \\\n",
              "0           0.74927         6.36878                 2.87220         0.62439   \n",
              "1           0.99902         6.86829                 3.62146         0.74927   \n",
              "2           1.49854         6.49366                 4.12098         0.74927   \n",
              "3           1.87317         6.11902                 3.74634         0.37463   \n",
              "4           1.49854         6.61854                 3.74634         0.74927   \n",
              "\n",
              "   MeanP_Gamma_O2  MedianF_Gamma_O2  MeanF_Gamma_O2  Spectral Edge_Gamma_O2  \\\n",
              "0        0.000076          32.71805        43.83220                49.95122   \n",
              "1        0.000072          32.09366        44.33171                49.95122   \n",
              "2        0.000069          33.09268        43.95707                49.95122   \n",
              "3        0.000070          31.59415        42.83317                49.95122   \n",
              "4        0.000060          29.47122        45.08098                49.95122   \n",
              "\n",
              "   PeakF_Gamma_O2  \n",
              "0        49.95122  \n",
              "1        49.95122  \n",
              "2        49.95122  \n",
              "3        49.95122  \n",
              "4        49.95122  \n",
              "\n",
              "[5 rows x 26 columns]"
            ],
            "text/html": [
              "\n",
              "  <div id=\"df-5429b818-9360-4551-9357-83898b2d2ee5\">\n",
              "    <div class=\"colab-df-container\">\n",
              "      <div>\n",
              "<style scoped>\n",
              "    .dataframe tbody tr th:only-of-type {\n",
              "        vertical-align: middle;\n",
              "    }\n",
              "\n",
              "    .dataframe tbody tr th {\n",
              "        vertical-align: top;\n",
              "    }\n",
              "\n",
              "    .dataframe thead th {\n",
              "        text-align: right;\n",
              "    }\n",
              "</style>\n",
              "<table border=\"1\" class=\"dataframe\">\n",
              "  <thead>\n",
              "    <tr style=\"text-align: right;\">\n",
              "      <th></th>\n",
              "      <th>Sleep_Stage</th>\n",
              "      <th>MeanP_Alpha_O2</th>\n",
              "      <th>MedianF_Alpha_O2</th>\n",
              "      <th>MeanF_Alpha_O2</th>\n",
              "      <th>Spectral Edge_Alpha_O2</th>\n",
              "      <th>PeakF_Alpha_O2</th>\n",
              "      <th>MeanP_Beta_O2</th>\n",
              "      <th>MedianF_Beta_O2</th>\n",
              "      <th>MeanF_Beta_O2</th>\n",
              "      <th>Spectral Edge_Beta_O2</th>\n",
              "      <th>...</th>\n",
              "      <th>MeanP_Delta_O2</th>\n",
              "      <th>MedianF_Delta_O2</th>\n",
              "      <th>MeanF_Delta_O2</th>\n",
              "      <th>Spectral Edge_Delta_O2</th>\n",
              "      <th>PeakF_Delta_O2</th>\n",
              "      <th>MeanP_Gamma_O2</th>\n",
              "      <th>MedianF_Gamma_O2</th>\n",
              "      <th>MeanF_Gamma_O2</th>\n",
              "      <th>Spectral Edge_Gamma_O2</th>\n",
              "      <th>PeakF_Gamma_O2</th>\n",
              "    </tr>\n",
              "  </thead>\n",
              "  <tbody>\n",
              "    <tr>\n",
              "      <th>0</th>\n",
              "      <td>NREM</td>\n",
              "      <td>0.00023</td>\n",
              "      <td>10.61463</td>\n",
              "      <td>18.48195</td>\n",
              "      <td>17.98244</td>\n",
              "      <td>10.73951</td>\n",
              "      <td>0.00034</td>\n",
              "      <td>18.23220</td>\n",
              "      <td>25.84976</td>\n",
              "      <td>28.47220</td>\n",
              "      <td>...</td>\n",
              "      <td>0.00112</td>\n",
              "      <td>0.74927</td>\n",
              "      <td>6.36878</td>\n",
              "      <td>2.87220</td>\n",
              "      <td>0.62439</td>\n",
              "      <td>0.000076</td>\n",
              "      <td>32.71805</td>\n",
              "      <td>43.83220</td>\n",
              "      <td>49.95122</td>\n",
              "      <td>49.95122</td>\n",
              "    </tr>\n",
              "    <tr>\n",
              "      <th>1</th>\n",
              "      <td>NREM</td>\n",
              "      <td>0.00023</td>\n",
              "      <td>10.36488</td>\n",
              "      <td>18.10732</td>\n",
              "      <td>17.48293</td>\n",
              "      <td>10.24000</td>\n",
              "      <td>0.00032</td>\n",
              "      <td>18.10732</td>\n",
              "      <td>26.22439</td>\n",
              "      <td>28.72195</td>\n",
              "      <td>...</td>\n",
              "      <td>0.00070</td>\n",
              "      <td>0.99902</td>\n",
              "      <td>6.86829</td>\n",
              "      <td>3.62146</td>\n",
              "      <td>0.74927</td>\n",
              "      <td>0.000072</td>\n",
              "      <td>32.09366</td>\n",
              "      <td>44.33171</td>\n",
              "      <td>49.95122</td>\n",
              "      <td>49.95122</td>\n",
              "    </tr>\n",
              "    <tr>\n",
              "      <th>2</th>\n",
              "      <td>NREM</td>\n",
              "      <td>0.00025</td>\n",
              "      <td>9.74049</td>\n",
              "      <td>17.35805</td>\n",
              "      <td>16.73366</td>\n",
              "      <td>9.86537</td>\n",
              "      <td>0.00031</td>\n",
              "      <td>17.23317</td>\n",
              "      <td>26.47415</td>\n",
              "      <td>28.84683</td>\n",
              "      <td>...</td>\n",
              "      <td>0.00077</td>\n",
              "      <td>1.49854</td>\n",
              "      <td>6.49366</td>\n",
              "      <td>4.12098</td>\n",
              "      <td>0.74927</td>\n",
              "      <td>0.000069</td>\n",
              "      <td>33.09268</td>\n",
              "      <td>43.95707</td>\n",
              "      <td>49.95122</td>\n",
              "      <td>49.95122</td>\n",
              "    </tr>\n",
              "    <tr>\n",
              "      <th>3</th>\n",
              "      <td>NREM</td>\n",
              "      <td>0.00027</td>\n",
              "      <td>9.49073</td>\n",
              "      <td>17.60780</td>\n",
              "      <td>16.85854</td>\n",
              "      <td>8.11707</td>\n",
              "      <td>0.00033</td>\n",
              "      <td>17.73268</td>\n",
              "      <td>26.47415</td>\n",
              "      <td>28.59707</td>\n",
              "      <td>...</td>\n",
              "      <td>0.00130</td>\n",
              "      <td>1.87317</td>\n",
              "      <td>6.11902</td>\n",
              "      <td>3.74634</td>\n",
              "      <td>0.37463</td>\n",
              "      <td>0.000070</td>\n",
              "      <td>31.59415</td>\n",
              "      <td>42.83317</td>\n",
              "      <td>49.95122</td>\n",
              "      <td>49.95122</td>\n",
              "    </tr>\n",
              "    <tr>\n",
              "      <th>4</th>\n",
              "      <td>NREM</td>\n",
              "      <td>0.00036</td>\n",
              "      <td>9.24098</td>\n",
              "      <td>16.48390</td>\n",
              "      <td>15.98439</td>\n",
              "      <td>8.11707</td>\n",
              "      <td>0.00039</td>\n",
              "      <td>15.98439</td>\n",
              "      <td>24.47610</td>\n",
              "      <td>25.97463</td>\n",
              "      <td>...</td>\n",
              "      <td>0.00123</td>\n",
              "      <td>1.49854</td>\n",
              "      <td>6.61854</td>\n",
              "      <td>3.74634</td>\n",
              "      <td>0.74927</td>\n",
              "      <td>0.000060</td>\n",
              "      <td>29.47122</td>\n",
              "      <td>45.08098</td>\n",
              "      <td>49.95122</td>\n",
              "      <td>49.95122</td>\n",
              "    </tr>\n",
              "  </tbody>\n",
              "</table>\n",
              "<p>5 rows × 26 columns</p>\n",
              "</div>\n",
              "      <button class=\"colab-df-convert\" onclick=\"convertToInteractive('df-5429b818-9360-4551-9357-83898b2d2ee5')\"\n",
              "              title=\"Convert this dataframe to an interactive table.\"\n",
              "              style=\"display:none;\">\n",
              "        \n",
              "  <svg xmlns=\"http://www.w3.org/2000/svg\" height=\"24px\"viewBox=\"0 0 24 24\"\n",
              "       width=\"24px\">\n",
              "    <path d=\"M0 0h24v24H0V0z\" fill=\"none\"/>\n",
              "    <path d=\"M18.56 5.44l.94 2.06.94-2.06 2.06-.94-2.06-.94-.94-2.06-.94 2.06-2.06.94zm-11 1L8.5 8.5l.94-2.06 2.06-.94-2.06-.94L8.5 2.5l-.94 2.06-2.06.94zm10 10l.94 2.06.94-2.06 2.06-.94-2.06-.94-.94-2.06-.94 2.06-2.06.94z\"/><path d=\"M17.41 7.96l-1.37-1.37c-.4-.4-.92-.59-1.43-.59-.52 0-1.04.2-1.43.59L10.3 9.45l-7.72 7.72c-.78.78-.78 2.05 0 2.83L4 21.41c.39.39.9.59 1.41.59.51 0 1.02-.2 1.41-.59l7.78-7.78 2.81-2.81c.8-.78.8-2.07 0-2.86zM5.41 20L4 18.59l7.72-7.72 1.47 1.35L5.41 20z\"/>\n",
              "  </svg>\n",
              "      </button>\n",
              "      \n",
              "  <style>\n",
              "    .colab-df-container {\n",
              "      display:flex;\n",
              "      flex-wrap:wrap;\n",
              "      gap: 12px;\n",
              "    }\n",
              "\n",
              "    .colab-df-convert {\n",
              "      background-color: #E8F0FE;\n",
              "      border: none;\n",
              "      border-radius: 50%;\n",
              "      cursor: pointer;\n",
              "      display: none;\n",
              "      fill: #1967D2;\n",
              "      height: 32px;\n",
              "      padding: 0 0 0 0;\n",
              "      width: 32px;\n",
              "    }\n",
              "\n",
              "    .colab-df-convert:hover {\n",
              "      background-color: #E2EBFA;\n",
              "      box-shadow: 0px 1px 2px rgba(60, 64, 67, 0.3), 0px 1px 3px 1px rgba(60, 64, 67, 0.15);\n",
              "      fill: #174EA6;\n",
              "    }\n",
              "\n",
              "    [theme=dark] .colab-df-convert {\n",
              "      background-color: #3B4455;\n",
              "      fill: #D2E3FC;\n",
              "    }\n",
              "\n",
              "    [theme=dark] .colab-df-convert:hover {\n",
              "      background-color: #434B5C;\n",
              "      box-shadow: 0px 1px 3px 1px rgba(0, 0, 0, 0.15);\n",
              "      filter: drop-shadow(0px 1px 2px rgba(0, 0, 0, 0.3));\n",
              "      fill: #FFFFFF;\n",
              "    }\n",
              "  </style>\n",
              "\n",
              "      <script>\n",
              "        const buttonEl =\n",
              "          document.querySelector('#df-5429b818-9360-4551-9357-83898b2d2ee5 button.colab-df-convert');\n",
              "        buttonEl.style.display =\n",
              "          google.colab.kernel.accessAllowed ? 'block' : 'none';\n",
              "\n",
              "        async function convertToInteractive(key) {\n",
              "          const element = document.querySelector('#df-5429b818-9360-4551-9357-83898b2d2ee5');\n",
              "          const dataTable =\n",
              "            await google.colab.kernel.invokeFunction('convertToInteractive',\n",
              "                                                     [key], {});\n",
              "          if (!dataTable) return;\n",
              "\n",
              "          const docLinkHtml = 'Like what you see? Visit the ' +\n",
              "            '<a target=\"_blank\" href=https://colab.research.google.com/notebooks/data_table.ipynb>data table notebook</a>'\n",
              "            + ' to learn more about interactive tables.';\n",
              "          element.innerHTML = '';\n",
              "          dataTable['output_type'] = 'display_data';\n",
              "          await google.colab.output.renderOutput(dataTable, element);\n",
              "          const docLink = document.createElement('div');\n",
              "          docLink.innerHTML = docLinkHtml;\n",
              "          element.appendChild(docLink);\n",
              "        }\n",
              "      </script>\n",
              "    </div>\n",
              "  </div>\n",
              "  "
            ]
          },
          "metadata": {},
          "execution_count": 5
        }
      ]
    },
    {
      "cell_type": "code",
      "source": [
        "dataset.shape"
      ],
      "metadata": {
        "colab": {
          "base_uri": "https://localhost:8080/"
        },
        "id": "zVzj0ZxZN3HG",
        "outputId": "50c68641-e576-4051-e68b-763e0705102f"
      },
      "execution_count": null,
      "outputs": [
        {
          "output_type": "execute_result",
          "data": {
            "text/plain": [
              "(89096, 26)"
            ]
          },
          "metadata": {},
          "execution_count": 76
        }
      ]
    },
    {
      "cell_type": "code",
      "source": [
        "dataset.info()"
      ],
      "metadata": {
        "colab": {
          "base_uri": "https://localhost:8080/"
        },
        "id": "9Vle43SJLoVX",
        "outputId": "452809e3-47c0-4636-b704-632a23dbda46"
      },
      "execution_count": null,
      "outputs": [
        {
          "output_type": "stream",
          "name": "stdout",
          "text": [
            "<class 'pandas.core.frame.DataFrame'>\n",
            "RangeIndex: 89096 entries, 0 to 89095\n",
            "Data columns (total 26 columns):\n",
            " #   Column                  Non-Null Count  Dtype  \n",
            "---  ------                  --------------  -----  \n",
            " 0   Sleep_Stage             89096 non-null  object \n",
            " 1   MeanP_Alpha_O2          89096 non-null  float64\n",
            " 2   MedianF_Alpha_O2        89096 non-null  float64\n",
            " 3   MeanF_Alpha_O2          89096 non-null  float64\n",
            " 4   Spectral Edge_Alpha_O2  89096 non-null  float64\n",
            " 5   PeakF_Alpha_O2          89096 non-null  float64\n",
            " 6   MeanP_Beta_O2           89096 non-null  float64\n",
            " 7   MedianF_Beta_O2         89096 non-null  float64\n",
            " 8   MeanF_Beta_O2           89096 non-null  float64\n",
            " 9   Spectral Edge_Beta_O2   89096 non-null  float64\n",
            " 10  PeakF_Beta_O2           89096 non-null  float64\n",
            " 11  MeanP_Theta_O2          89096 non-null  float64\n",
            " 12  MedianF_Theta_O2        89096 non-null  float64\n",
            " 13  MeanF_Theta_O2          89096 non-null  float64\n",
            " 14  Spectral Edge_Theta_O2  89096 non-null  float64\n",
            " 15  PeakF_Theta_O2          89096 non-null  float64\n",
            " 16  MeanP_Delta_O2          89096 non-null  float64\n",
            " 17  MedianF_Delta_O2        89096 non-null  float64\n",
            " 18  MeanF_Delta_O2          89096 non-null  float64\n",
            " 19  Spectral Edge_Delta_O2  89096 non-null  float64\n",
            " 20  PeakF_Delta_O2          89096 non-null  float64\n",
            " 21  MeanP_Gamma_O2          89096 non-null  float64\n",
            " 22  MedianF_Gamma_O2        89096 non-null  float64\n",
            " 23  MeanF_Gamma_O2          89096 non-null  float64\n",
            " 24  Spectral Edge_Gamma_O2  89096 non-null  float64\n",
            " 25  PeakF_Gamma_O2          89096 non-null  float64\n",
            "dtypes: float64(25), object(1)\n",
            "memory usage: 17.7+ MB\n"
          ]
        }
      ]
    },
    {
      "cell_type": "markdown",
      "source": [
        "#Feature Scaling"
      ],
      "metadata": {
        "id": "76z-ZxDAnvW-"
      }
    },
    {
      "cell_type": "code",
      "source": [
        "dataset.describe()"
      ],
      "metadata": {
        "colab": {
          "base_uri": "https://localhost:8080/",
          "height": 411
        },
        "id": "7KOmN8HDnz1B",
        "outputId": "87d1f73c-04c3-4998-9fa2-3225a2d79777"
      },
      "execution_count": null,
      "outputs": [
        {
          "output_type": "execute_result",
          "data": {
            "text/plain": [
              "       MeanP_Alpha_O2  MedianF_Alpha_O2  MeanF_Alpha_O2  \\\n",
              "count    8.909600e+04      89096.000000    89096.000000   \n",
              "mean     7.468544e-04          8.850398       15.683676   \n",
              "std      5.740618e-03          2.863547        5.419831   \n",
              "min      4.590000e-52          0.124880        0.874150   \n",
              "25%      2.600000e-04          7.992200       13.986340   \n",
              "50%      4.100000e-04          8.741460       14.860490   \n",
              "75%      6.400000e-04          9.490730       16.109270   \n",
              "max      7.751800e-01         49.951220       49.951220   \n",
              "\n",
              "       Spectral Edge_Alpha_O2  PeakF_Alpha_O2  MeanP_Beta_O2  MedianF_Beta_O2  \\\n",
              "count            89096.000000    89096.000000   89096.000000     89096.000000   \n",
              "mean                14.924783        9.509146       0.000948        18.012181   \n",
              "std                  5.839452        7.839750       0.005596        15.405297   \n",
              "min                  0.124880        0.124880       0.000000         6.618540   \n",
              "25%                 13.112200        6.993170       0.000210        12.987320   \n",
              "50%                 14.111220        7.992200       0.000330        14.236100   \n",
              "75%                 15.235120        9.365850       0.000520        16.109270   \n",
              "max                 50.076100       50.076100       0.569830       127.875120   \n",
              "\n",
              "       MeanF_Beta_O2  Spectral Edge_Beta_O2  PeakF_Beta_O2  ...  \\\n",
              "count   89096.000000           89096.000000   89096.000000  ...   \n",
              "mean       28.743072              30.852628      23.174315  ...   \n",
              "std        14.615821              14.946110      20.489747  ...   \n",
              "min        14.860490              14.111220       3.121950  ...   \n",
              "25%        22.478050              23.352200      10.989270  ...   \n",
              "50%        24.226340              25.724880      13.611710  ...   \n",
              "75%        27.847800              31.843900      49.951220  ...   \n",
              "max       127.875120             127.875120     127.875120  ...   \n",
              "\n",
              "       MeanP_Delta_O2  MedianF_Delta_O2  MeanF_Delta_O2  \\\n",
              "count    8.909600e+04      89096.000000    89096.000000   \n",
              "mean     1.462028e-02          1.430147        6.462812   \n",
              "std      8.398281e-02          3.633923        3.212076   \n",
              "min      2.290000e-40          0.124880        1.498540   \n",
              "25%      1.410000e-03          0.749270        5.494630   \n",
              "50%      2.800000e-03          0.999020        6.119020   \n",
              "75%      6.310000e-03          1.248780        6.868290   \n",
              "max      4.595010e+00         31.968780       31.968780   \n",
              "\n",
              "       Spectral Edge_Delta_O2  PeakF_Delta_O2  MeanP_Gamma_O2  \\\n",
              "count            89096.000000    89096.000000    89096.000000   \n",
              "mean                 3.457914        1.139120        0.001363   \n",
              "std                  3.511885        3.665482        0.013366   \n",
              "min                  0.499510        0.124880        0.000000   \n",
              "25%                  2.497560        0.499510        0.000027   \n",
              "50%                  3.121950        0.624390        0.000046   \n",
              "75%                  3.746340        0.874150        0.000120   \n",
              "max                 32.093660       31.968780        0.380020   \n",
              "\n",
              "       MedianF_Gamma_O2  MeanF_Gamma_O2  Spectral Edge_Gamma_O2  \\\n",
              "count      89096.000000    89096.000000             89096.00000   \n",
              "mean          37.160328       44.632743                50.04934   \n",
              "std           14.232307       11.318757                 9.84912   \n",
              "min           15.360000       27.098540                31.96878   \n",
              "25%           28.347320       38.837070                47.95317   \n",
              "50%           33.092680       42.958050                49.95122   \n",
              "75%           49.701460       49.826340                50.07610   \n",
              "max          127.875120      127.875120               127.87512   \n",
              "\n",
              "       PeakF_Gamma_O2  \n",
              "count    89096.000000  \n",
              "mean        43.056958  \n",
              "std         15.695022  \n",
              "min          5.369760  \n",
              "25%         32.593170  \n",
              "50%         49.951220  \n",
              "75%         49.951220  \n",
              "max        127.875120  \n",
              "\n",
              "[8 rows x 25 columns]"
            ],
            "text/html": [
              "\n",
              "  <div id=\"df-5606fd34-0180-4028-bb1d-6397d08d6cab\">\n",
              "    <div class=\"colab-df-container\">\n",
              "      <div>\n",
              "<style scoped>\n",
              "    .dataframe tbody tr th:only-of-type {\n",
              "        vertical-align: middle;\n",
              "    }\n",
              "\n",
              "    .dataframe tbody tr th {\n",
              "        vertical-align: top;\n",
              "    }\n",
              "\n",
              "    .dataframe thead th {\n",
              "        text-align: right;\n",
              "    }\n",
              "</style>\n",
              "<table border=\"1\" class=\"dataframe\">\n",
              "  <thead>\n",
              "    <tr style=\"text-align: right;\">\n",
              "      <th></th>\n",
              "      <th>MeanP_Alpha_O2</th>\n",
              "      <th>MedianF_Alpha_O2</th>\n",
              "      <th>MeanF_Alpha_O2</th>\n",
              "      <th>Spectral Edge_Alpha_O2</th>\n",
              "      <th>PeakF_Alpha_O2</th>\n",
              "      <th>MeanP_Beta_O2</th>\n",
              "      <th>MedianF_Beta_O2</th>\n",
              "      <th>MeanF_Beta_O2</th>\n",
              "      <th>Spectral Edge_Beta_O2</th>\n",
              "      <th>PeakF_Beta_O2</th>\n",
              "      <th>...</th>\n",
              "      <th>MeanP_Delta_O2</th>\n",
              "      <th>MedianF_Delta_O2</th>\n",
              "      <th>MeanF_Delta_O2</th>\n",
              "      <th>Spectral Edge_Delta_O2</th>\n",
              "      <th>PeakF_Delta_O2</th>\n",
              "      <th>MeanP_Gamma_O2</th>\n",
              "      <th>MedianF_Gamma_O2</th>\n",
              "      <th>MeanF_Gamma_O2</th>\n",
              "      <th>Spectral Edge_Gamma_O2</th>\n",
              "      <th>PeakF_Gamma_O2</th>\n",
              "    </tr>\n",
              "  </thead>\n",
              "  <tbody>\n",
              "    <tr>\n",
              "      <th>count</th>\n",
              "      <td>8.909600e+04</td>\n",
              "      <td>89096.000000</td>\n",
              "      <td>89096.000000</td>\n",
              "      <td>89096.000000</td>\n",
              "      <td>89096.000000</td>\n",
              "      <td>89096.000000</td>\n",
              "      <td>89096.000000</td>\n",
              "      <td>89096.000000</td>\n",
              "      <td>89096.000000</td>\n",
              "      <td>89096.000000</td>\n",
              "      <td>...</td>\n",
              "      <td>8.909600e+04</td>\n",
              "      <td>89096.000000</td>\n",
              "      <td>89096.000000</td>\n",
              "      <td>89096.000000</td>\n",
              "      <td>89096.000000</td>\n",
              "      <td>89096.000000</td>\n",
              "      <td>89096.000000</td>\n",
              "      <td>89096.000000</td>\n",
              "      <td>89096.00000</td>\n",
              "      <td>89096.000000</td>\n",
              "    </tr>\n",
              "    <tr>\n",
              "      <th>mean</th>\n",
              "      <td>7.468544e-04</td>\n",
              "      <td>8.850398</td>\n",
              "      <td>15.683676</td>\n",
              "      <td>14.924783</td>\n",
              "      <td>9.509146</td>\n",
              "      <td>0.000948</td>\n",
              "      <td>18.012181</td>\n",
              "      <td>28.743072</td>\n",
              "      <td>30.852628</td>\n",
              "      <td>23.174315</td>\n",
              "      <td>...</td>\n",
              "      <td>1.462028e-02</td>\n",
              "      <td>1.430147</td>\n",
              "      <td>6.462812</td>\n",
              "      <td>3.457914</td>\n",
              "      <td>1.139120</td>\n",
              "      <td>0.001363</td>\n",
              "      <td>37.160328</td>\n",
              "      <td>44.632743</td>\n",
              "      <td>50.04934</td>\n",
              "      <td>43.056958</td>\n",
              "    </tr>\n",
              "    <tr>\n",
              "      <th>std</th>\n",
              "      <td>5.740618e-03</td>\n",
              "      <td>2.863547</td>\n",
              "      <td>5.419831</td>\n",
              "      <td>5.839452</td>\n",
              "      <td>7.839750</td>\n",
              "      <td>0.005596</td>\n",
              "      <td>15.405297</td>\n",
              "      <td>14.615821</td>\n",
              "      <td>14.946110</td>\n",
              "      <td>20.489747</td>\n",
              "      <td>...</td>\n",
              "      <td>8.398281e-02</td>\n",
              "      <td>3.633923</td>\n",
              "      <td>3.212076</td>\n",
              "      <td>3.511885</td>\n",
              "      <td>3.665482</td>\n",
              "      <td>0.013366</td>\n",
              "      <td>14.232307</td>\n",
              "      <td>11.318757</td>\n",
              "      <td>9.84912</td>\n",
              "      <td>15.695022</td>\n",
              "    </tr>\n",
              "    <tr>\n",
              "      <th>min</th>\n",
              "      <td>4.590000e-52</td>\n",
              "      <td>0.124880</td>\n",
              "      <td>0.874150</td>\n",
              "      <td>0.124880</td>\n",
              "      <td>0.124880</td>\n",
              "      <td>0.000000</td>\n",
              "      <td>6.618540</td>\n",
              "      <td>14.860490</td>\n",
              "      <td>14.111220</td>\n",
              "      <td>3.121950</td>\n",
              "      <td>...</td>\n",
              "      <td>2.290000e-40</td>\n",
              "      <td>0.124880</td>\n",
              "      <td>1.498540</td>\n",
              "      <td>0.499510</td>\n",
              "      <td>0.124880</td>\n",
              "      <td>0.000000</td>\n",
              "      <td>15.360000</td>\n",
              "      <td>27.098540</td>\n",
              "      <td>31.96878</td>\n",
              "      <td>5.369760</td>\n",
              "    </tr>\n",
              "    <tr>\n",
              "      <th>25%</th>\n",
              "      <td>2.600000e-04</td>\n",
              "      <td>7.992200</td>\n",
              "      <td>13.986340</td>\n",
              "      <td>13.112200</td>\n",
              "      <td>6.993170</td>\n",
              "      <td>0.000210</td>\n",
              "      <td>12.987320</td>\n",
              "      <td>22.478050</td>\n",
              "      <td>23.352200</td>\n",
              "      <td>10.989270</td>\n",
              "      <td>...</td>\n",
              "      <td>1.410000e-03</td>\n",
              "      <td>0.749270</td>\n",
              "      <td>5.494630</td>\n",
              "      <td>2.497560</td>\n",
              "      <td>0.499510</td>\n",
              "      <td>0.000027</td>\n",
              "      <td>28.347320</td>\n",
              "      <td>38.837070</td>\n",
              "      <td>47.95317</td>\n",
              "      <td>32.593170</td>\n",
              "    </tr>\n",
              "    <tr>\n",
              "      <th>50%</th>\n",
              "      <td>4.100000e-04</td>\n",
              "      <td>8.741460</td>\n",
              "      <td>14.860490</td>\n",
              "      <td>14.111220</td>\n",
              "      <td>7.992200</td>\n",
              "      <td>0.000330</td>\n",
              "      <td>14.236100</td>\n",
              "      <td>24.226340</td>\n",
              "      <td>25.724880</td>\n",
              "      <td>13.611710</td>\n",
              "      <td>...</td>\n",
              "      <td>2.800000e-03</td>\n",
              "      <td>0.999020</td>\n",
              "      <td>6.119020</td>\n",
              "      <td>3.121950</td>\n",
              "      <td>0.624390</td>\n",
              "      <td>0.000046</td>\n",
              "      <td>33.092680</td>\n",
              "      <td>42.958050</td>\n",
              "      <td>49.95122</td>\n",
              "      <td>49.951220</td>\n",
              "    </tr>\n",
              "    <tr>\n",
              "      <th>75%</th>\n",
              "      <td>6.400000e-04</td>\n",
              "      <td>9.490730</td>\n",
              "      <td>16.109270</td>\n",
              "      <td>15.235120</td>\n",
              "      <td>9.365850</td>\n",
              "      <td>0.000520</td>\n",
              "      <td>16.109270</td>\n",
              "      <td>27.847800</td>\n",
              "      <td>31.843900</td>\n",
              "      <td>49.951220</td>\n",
              "      <td>...</td>\n",
              "      <td>6.310000e-03</td>\n",
              "      <td>1.248780</td>\n",
              "      <td>6.868290</td>\n",
              "      <td>3.746340</td>\n",
              "      <td>0.874150</td>\n",
              "      <td>0.000120</td>\n",
              "      <td>49.701460</td>\n",
              "      <td>49.826340</td>\n",
              "      <td>50.07610</td>\n",
              "      <td>49.951220</td>\n",
              "    </tr>\n",
              "    <tr>\n",
              "      <th>max</th>\n",
              "      <td>7.751800e-01</td>\n",
              "      <td>49.951220</td>\n",
              "      <td>49.951220</td>\n",
              "      <td>50.076100</td>\n",
              "      <td>50.076100</td>\n",
              "      <td>0.569830</td>\n",
              "      <td>127.875120</td>\n",
              "      <td>127.875120</td>\n",
              "      <td>127.875120</td>\n",
              "      <td>127.875120</td>\n",
              "      <td>...</td>\n",
              "      <td>4.595010e+00</td>\n",
              "      <td>31.968780</td>\n",
              "      <td>31.968780</td>\n",
              "      <td>32.093660</td>\n",
              "      <td>31.968780</td>\n",
              "      <td>0.380020</td>\n",
              "      <td>127.875120</td>\n",
              "      <td>127.875120</td>\n",
              "      <td>127.87512</td>\n",
              "      <td>127.875120</td>\n",
              "    </tr>\n",
              "  </tbody>\n",
              "</table>\n",
              "<p>8 rows × 25 columns</p>\n",
              "</div>\n",
              "      <button class=\"colab-df-convert\" onclick=\"convertToInteractive('df-5606fd34-0180-4028-bb1d-6397d08d6cab')\"\n",
              "              title=\"Convert this dataframe to an interactive table.\"\n",
              "              style=\"display:none;\">\n",
              "        \n",
              "  <svg xmlns=\"http://www.w3.org/2000/svg\" height=\"24px\"viewBox=\"0 0 24 24\"\n",
              "       width=\"24px\">\n",
              "    <path d=\"M0 0h24v24H0V0z\" fill=\"none\"/>\n",
              "    <path d=\"M18.56 5.44l.94 2.06.94-2.06 2.06-.94-2.06-.94-.94-2.06-.94 2.06-2.06.94zm-11 1L8.5 8.5l.94-2.06 2.06-.94-2.06-.94L8.5 2.5l-.94 2.06-2.06.94zm10 10l.94 2.06.94-2.06 2.06-.94-2.06-.94-.94-2.06-.94 2.06-2.06.94z\"/><path d=\"M17.41 7.96l-1.37-1.37c-.4-.4-.92-.59-1.43-.59-.52 0-1.04.2-1.43.59L10.3 9.45l-7.72 7.72c-.78.78-.78 2.05 0 2.83L4 21.41c.39.39.9.59 1.41.59.51 0 1.02-.2 1.41-.59l7.78-7.78 2.81-2.81c.8-.78.8-2.07 0-2.86zM5.41 20L4 18.59l7.72-7.72 1.47 1.35L5.41 20z\"/>\n",
              "  </svg>\n",
              "      </button>\n",
              "      \n",
              "  <style>\n",
              "    .colab-df-container {\n",
              "      display:flex;\n",
              "      flex-wrap:wrap;\n",
              "      gap: 12px;\n",
              "    }\n",
              "\n",
              "    .colab-df-convert {\n",
              "      background-color: #E8F0FE;\n",
              "      border: none;\n",
              "      border-radius: 50%;\n",
              "      cursor: pointer;\n",
              "      display: none;\n",
              "      fill: #1967D2;\n",
              "      height: 32px;\n",
              "      padding: 0 0 0 0;\n",
              "      width: 32px;\n",
              "    }\n",
              "\n",
              "    .colab-df-convert:hover {\n",
              "      background-color: #E2EBFA;\n",
              "      box-shadow: 0px 1px 2px rgba(60, 64, 67, 0.3), 0px 1px 3px 1px rgba(60, 64, 67, 0.15);\n",
              "      fill: #174EA6;\n",
              "    }\n",
              "\n",
              "    [theme=dark] .colab-df-convert {\n",
              "      background-color: #3B4455;\n",
              "      fill: #D2E3FC;\n",
              "    }\n",
              "\n",
              "    [theme=dark] .colab-df-convert:hover {\n",
              "      background-color: #434B5C;\n",
              "      box-shadow: 0px 1px 3px 1px rgba(0, 0, 0, 0.15);\n",
              "      filter: drop-shadow(0px 1px 2px rgba(0, 0, 0, 0.3));\n",
              "      fill: #FFFFFF;\n",
              "    }\n",
              "  </style>\n",
              "\n",
              "      <script>\n",
              "        const buttonEl =\n",
              "          document.querySelector('#df-5606fd34-0180-4028-bb1d-6397d08d6cab button.colab-df-convert');\n",
              "        buttonEl.style.display =\n",
              "          google.colab.kernel.accessAllowed ? 'block' : 'none';\n",
              "\n",
              "        async function convertToInteractive(key) {\n",
              "          const element = document.querySelector('#df-5606fd34-0180-4028-bb1d-6397d08d6cab');\n",
              "          const dataTable =\n",
              "            await google.colab.kernel.invokeFunction('convertToInteractive',\n",
              "                                                     [key], {});\n",
              "          if (!dataTable) return;\n",
              "\n",
              "          const docLinkHtml = 'Like what you see? Visit the ' +\n",
              "            '<a target=\"_blank\" href=https://colab.research.google.com/notebooks/data_table.ipynb>data table notebook</a>'\n",
              "            + ' to learn more about interactive tables.';\n",
              "          element.innerHTML = '';\n",
              "          dataTable['output_type'] = 'display_data';\n",
              "          await google.colab.output.renderOutput(dataTable, element);\n",
              "          const docLink = document.createElement('div');\n",
              "          docLink.innerHTML = docLinkHtml;\n",
              "          element.appendChild(docLink);\n",
              "        }\n",
              "      </script>\n",
              "    </div>\n",
              "  </div>\n",
              "  "
            ]
          },
          "metadata": {},
          "execution_count": 81
        }
      ]
    },
    {
      "cell_type": "code",
      "source": [
        "X,y=sep_XY(dataset,\"Sleep_Stage\")"
      ],
      "metadata": {
        "id": "kfzDSoPt-OKz"
      },
      "execution_count": null,
      "outputs": []
    },
    {
      "cell_type": "code",
      "source": [
        "from imblearn.over_sampling import SMOTE\n",
        "from collections import Counter"
      ],
      "metadata": {
        "id": "K_UygOFv-Xgd"
      },
      "execution_count": null,
      "outputs": []
    },
    {
      "cell_type": "code",
      "source": [
        "oversample = SMOTE()\n",
        "X, y = oversample.fit_resample(X, y)"
      ],
      "metadata": {
        "id": "bUfgAqNn-ZMU"
      },
      "execution_count": null,
      "outputs": []
    },
    {
      "cell_type": "code",
      "source": [
        "counter = Counter(y)"
      ],
      "metadata": {
        "id": "eL8Bj5Py-iEK"
      },
      "execution_count": null,
      "outputs": []
    },
    {
      "cell_type": "code",
      "source": [
        "print(counter)"
      ],
      "metadata": {
        "colab": {
          "base_uri": "https://localhost:8080/"
        },
        "id": "pwVhyuie-orD",
        "outputId": "5ec7c8d0-3dc8-4c34-db45-99e021785577"
      },
      "execution_count": null,
      "outputs": [
        {
          "output_type": "stream",
          "name": "stdout",
          "text": [
            "Counter({'NREM': 72631, 'REM': 72631})\n"
          ]
        }
      ]
    },
    {
      "cell_type": "markdown",
      "source": [
        "#Data separating for target value"
      ],
      "metadata": {
        "id": "IkYjczKGM9qX"
      }
    },
    {
      "cell_type": "markdown",
      "source": [
        "we can use both indexing and <i>.iloc</i> funtion to get access into data. But before feedin the data to the model we have to use <i>.values.</i> We can use .iloc when the colunms are too many. And we can use indexing when the target colunm is in the middle."
      ],
      "metadata": {
        "id": "wvHysSgNen73"
      }
    },
    {
      "cell_type": "code",
      "source": [
        "var=dataset[[\"Series_reference\",\"Period\",\"Data_value\"]] # call like list elements with column name"
      ],
      "metadata": {
        "id": "txwi-T9KOPHi"
      },
      "execution_count": null,
      "outputs": []
    },
    {
      "cell_type": "code",
      "source": [
        "var2=var.values #.values remove the col name and make an numpy array\n",
        "var2 #gives array"
      ],
      "metadata": {
        "id": "RKyxM7TsPtII"
      },
      "execution_count": null,
      "outputs": []
    },
    {
      "cell_type": "code",
      "source": [
        "var_type2= list(dataset.iloc[:0,:])\n",
        "var_type2"
      ],
      "metadata": {
        "id": "EQvmJAr-P-_D"
      },
      "execution_count": null,
      "outputs": []
    },
    {
      "cell_type": "markdown",
      "source": [
        "but the problem occures when there are many colunms and the target colunm is in the middle then what to do?"
      ],
      "metadata": {
        "id": "cColiSI-gl5Z"
      }
    },
    {
      "cell_type": "markdown",
      "source": [
        "So we will use a generalize function to select the y and x axis"
      ],
      "metadata": {
        "id": "7yvqCTQthQrz"
      }
    },
    {
      "cell_type": "code",
      "source": [
        "\n",
        "def sep_XY(dataset,target):\n",
        "  x_col_name= list(dataset.iloc[:0,:])\n",
        "  x_col_name.remove(target)\n",
        "  return (dataset[x_col_name].values),(dataset[target].values)\n"
      ],
      "metadata": {
        "id": "bOpfZosrf9p4"
      },
      "execution_count": null,
      "outputs": []
    },
    {
      "cell_type": "code",
      "source": [
        "X,y=sep_XY(dataset,\"STATUS\")\n",
        "print(X)\n",
        "print(y)"
      ],
      "metadata": {
        "id": "KYm06yC5cD1l"
      },
      "execution_count": null,
      "outputs": []
    },
    {
      "cell_type": "markdown",
      "source": [
        "<font color=\"green\">Testing with logistic reg</font>"
      ],
      "metadata": {
        "id": "fue9-2J9OsPN"
      }
    },
    {
      "cell_type": "markdown",
      "source": [
        "#data encoding<br>\n",
        "there could be data in string. so sometime we have to convert that to float"
      ],
      "metadata": {
        "id": "U1OhVZlUb7wz"
      }
    },
    {
      "cell_type": "code",
      "source": [
        "k=list(dataset[\"Series_reference\"].unique())\n",
        "print(k)\n",
        "if type(k[0])==str:\n",
        "  print(\"yes\")\n",
        "print(type(k[0]))"
      ],
      "metadata": {
        "id": "Kwy6kdau_g1g"
      },
      "execution_count": null,
      "outputs": []
    },
    {
      "cell_type": "code",
      "source": [
        "dataset[\"Series_reference\"].value_counts()"
      ],
      "metadata": {
        "id": "A2KOafOp_xJT"
      },
      "execution_count": null,
      "outputs": []
    },
    {
      "cell_type": "code",
      "source": [
        "from sklearn.preprocessing import LabelEncoder"
      ],
      "metadata": {
        "id": "hGHMh8BG8G6D"
      },
      "execution_count": null,
      "outputs": []
    },
    {
      "cell_type": "code",
      "source": [
        "encoder=LabelEncoder()\n",
        "dataset[\"Series_reference\"]=encoder.fit_transform(dataset[\"Series_reference\"])"
      ],
      "metadata": {
        "id": "rbtN3AlP8Zlu"
      },
      "execution_count": null,
      "outputs": []
    },
    {
      "cell_type": "code",
      "source": [
        "dataset.head()"
      ],
      "metadata": {
        "id": "O8Fcmc93_San"
      },
      "execution_count": null,
      "outputs": []
    },
    {
      "cell_type": "markdown",
      "source": [
        "make all the string contained colunm encoded"
      ],
      "metadata": {
        "id": "mjRsGfcBC1RK"
      }
    },
    {
      "cell_type": "code",
      "source": [
        "def encode_engine(dataset):\n",
        "  from sklearn.preprocessing import LabelEncoder\n",
        "  encoder=LabelEncoder()\n",
        "  col= list(dataset.iloc[:0,:])\n",
        "\n",
        "  for i in col:\n",
        "    if type(list(dataset[i].unique())[0])==str:\n",
        "            dataset[i]=encoder.fit_transform(dataset[i])\n",
        "  \n",
        "  return dataset\n",
        "            \n",
        "            "
      ],
      "metadata": {
        "id": "eQT8juVfCxZl"
      },
      "execution_count": null,
      "outputs": []
    },
    {
      "cell_type": "code",
      "source": [
        "new_dataset=encode_engine(dataset)"
      ],
      "metadata": {
        "id": "RPwwSVMqGOC0"
      },
      "execution_count": null,
      "outputs": []
    },
    {
      "cell_type": "code",
      "source": [
        "new_dataset.head()"
      ],
      "metadata": {
        "id": "krwJg866GX9j"
      },
      "execution_count": null,
      "outputs": []
    },
    {
      "cell_type": "markdown",
      "source": [
        "#Data Spliting into training and testing"
      ],
      "metadata": {
        "id": "U4GnJLaI-5hF"
      }
    },
    {
      "cell_type": "code",
      "source": [
        "X,y=sep_XY(new_dataset,\"Series_reference\")"
      ],
      "metadata": {
        "id": "JfMYT4siAnTs"
      },
      "execution_count": null,
      "outputs": []
    },
    {
      "cell_type": "code",
      "source": [
        "from sklearn.model_selection import train_test_split\n",
        "X_train, X_test, Y_train, Y_test= train_test_split(X,y, test_size=0.2,random_state=3)"
      ],
      "metadata": {
        "id": "Et3I81wX_5l6"
      },
      "execution_count": null,
      "outputs": []
    },
    {
      "cell_type": "code",
      "source": [
        "print(X_train.shape, X_test.shape, Y_train.shape, Y_test.shape)"
      ],
      "metadata": {
        "id": "RSBLWO_SBINp"
      },
      "execution_count": null,
      "outputs": []
    },
    {
      "cell_type": "markdown",
      "source": [
        "checking"
      ],
      "metadata": {
        "id": "_dn0SRm1BVrb"
      }
    },
    {
      "cell_type": "code",
      "source": [
        "from sklearn.preprocessing import StandardScaler"
      ],
      "metadata": {
        "id": "ew7WcJRDBk8E"
      },
      "execution_count": null,
      "outputs": []
    },
    {
      "cell_type": "code",
      "source": [
        "print(new_dataset.std())"
      ],
      "metadata": {
        "id": "LnrYvsNnBVWX"
      },
      "execution_count": null,
      "outputs": []
    },
    {
      "cell_type": "code",
      "source": [
        "sc=StandardScaler()\n",
        "sc.fit(X_train)"
      ],
      "metadata": {
        "id": "o12fA-YPEdJ1"
      },
      "execution_count": null,
      "outputs": []
    },
    {
      "cell_type": "code",
      "source": [
        "X_train_standardized= sc.transform(X_train)\n",
        "x_test_stacdardized= sc.transform(X_test)"
      ],
      "metadata": {
        "id": "Epn7o7M_HC5c"
      },
      "execution_count": null,
      "outputs": []
    },
    {
      "cell_type": "markdown",
      "source": [
        "#Deal with Null value"
      ],
      "metadata": {
        "id": "tM3CInOdNCHk"
      }
    },
    {
      "cell_type": "code",
      "source": [
        "dataset.info()"
      ],
      "metadata": {
        "id": "MXvn2aA7NJl9"
      },
      "execution_count": null,
      "outputs": []
    },
    {
      "cell_type": "code",
      "source": [
        "print(dataset.isnull().sum())"
      ],
      "metadata": {
        "id": "Ho-kvTUsLkR8"
      },
      "execution_count": null,
      "outputs": []
    },
    {
      "cell_type": "code",
      "source": [],
      "metadata": {
        "id": "0mt-NSrJNHpc"
      },
      "execution_count": null,
      "outputs": []
    },
    {
      "cell_type": "markdown",
      "source": [
        "<b><ul>\n",
        "<li>Deleting the columns with missing data\n",
        "<li>Deleting the rows with missing data\n",
        "<li>Filling the missing data with a value – Imputation\n",
        "<li>Imputation with an additional column\n",
        "<li>Filling with a Regression Model\n",
        "</ul></b>"
      ],
      "metadata": {
        "id": "pxBEd4f-N4Hh"
      }
    },
    {
      "cell_type": "markdown",
      "source": [
        "Deleting the columns with missing data"
      ],
      "metadata": {
        "id": "5bvSwXXzOT9c"
      }
    },
    {
      "cell_type": "markdown",
      "source": [
        "#Data Imbalence handeling"
      ],
      "metadata": {
        "id": "8TtTJoqhYcSm"
      }
    },
    {
      "cell_type": "code",
      "source": [
        "dataset.Sleep_Stage.value_counts()"
      ],
      "metadata": {
        "colab": {
          "base_uri": "https://localhost:8080/"
        },
        "id": "PdLMMwz8aQev",
        "outputId": "c9954814-d42e-4de7-f164-7fb10b5ec5f8"
      },
      "execution_count": null,
      "outputs": [
        {
          "output_type": "execute_result",
          "data": {
            "text/plain": [
              "NREM    72631\n",
              "REM     16465\n",
              "Name: Sleep_Stage, dtype: int64"
            ]
          },
          "metadata": {},
          "execution_count": 8
        }
      ]
    },
    {
      "cell_type": "code",
      "source": [
        "nrem,rem=list(dataset.Sleep_Stage.value_counts())"
      ],
      "metadata": {
        "id": "ULELfqIlNk-9"
      },
      "execution_count": null,
      "outputs": []
    },
    {
      "cell_type": "code",
      "source": [
        "print(\"Ratio:\",min(nrem,rem)/max(nrem,rem))"
      ],
      "metadata": {
        "id": "PnJ493WwNk8T",
        "colab": {
          "base_uri": "https://localhost:8080/"
        },
        "outputId": "392efddb-8f3c-4e2e-be53-31782adf7bcb"
      },
      "execution_count": null,
      "outputs": [
        {
          "output_type": "stream",
          "name": "stdout",
          "text": [
            "Ratio: 0.22669383596535914\n"
          ]
        }
      ]
    },
    {
      "cell_type": "code",
      "source": [],
      "metadata": {
        "id": "ENG_5Z4oNk2X"
      },
      "execution_count": null,
      "outputs": []
    },
    {
      "cell_type": "code",
      "source": [],
      "metadata": {
        "id": "fbSsq6VwNkt6"
      },
      "execution_count": null,
      "outputs": []
    },
    {
      "cell_type": "code",
      "source": [],
      "metadata": {
        "id": "0Go3NsRyNkp8"
      },
      "execution_count": null,
      "outputs": []
    },
    {
      "cell_type": "markdown",
      "source": [],
      "metadata": {
        "id": "iOSRwzcCYbRT"
      }
    }
  ]
}