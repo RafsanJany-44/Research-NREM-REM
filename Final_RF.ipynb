{
  "nbformat": 4,
  "nbformat_minor": 0,
  "metadata": {
    "colab": {
      "provenance": [],
      "include_colab_link": true
    },
    "kernelspec": {
      "name": "python3",
      "display_name": "Python 3"
    },
    "language_info": {
      "name": "python"
    }
  },
  "cells": [
    {
      "cell_type": "markdown",
      "metadata": {
        "id": "view-in-github",
        "colab_type": "text"
      },
      "source": [
        "<a href=\"https://colab.research.google.com/github/RafsanJany-44/Research-NREM-REM/blob/main/Final_RF.ipynb\" target=\"_parent\"><img src=\"https://colab.research.google.com/assets/colab-badge.svg\" alt=\"Open In Colab\"/></a>"
      ]
    },
    {
      "cell_type": "code",
      "execution_count": 1,
      "metadata": {
        "id": "D6pOYOiHIo-s"
      },
      "outputs": [],
      "source": [
        "import numpy as np\n",
        "import pandas as pd\n",
        "\n",
        "dataset=pd.read_csv(\"https://raw.githubusercontent.com/RafsanJany-44/Research-NREM-REM/main/dataset/REM_NREM.csv\")\n",
        "\n",
        "\n",
        "target=\"Sleep_Stage\"\n",
        "\n",
        "classes = np.array(sorted(list(set(dataset[target]))))\n"
      ]
    },
    {
      "cell_type": "code",
      "source": [
        "!pip install imbalanced-learn\n",
        "\n",
        "from imblearn.over_sampling import SMOTE\n",
        "\n",
        "def balance(X_temp, y_temp):\n",
        "  smote = SMOTE()\n",
        "  X_temp, y_temp= smote.fit_resample(X_temp, y_temp)\n",
        "\n",
        "  return pd.concat([pd.DataFrame(X_temp), pd.DataFrame(y_temp)], axis=1)"
      ],
      "metadata": {
        "colab": {
          "base_uri": "https://localhost:8080/"
        },
        "id": "0Nu1eMli0k7q",
        "outputId": "c08ad718-4da4-4833-c821-261f85e18dfc"
      },
      "execution_count": 2,
      "outputs": [
        {
          "output_type": "stream",
          "name": "stdout",
          "text": [
            "Looking in indexes: https://pypi.org/simple, https://us-python.pkg.dev/colab-wheels/public/simple/\n",
            "Requirement already satisfied: imbalanced-learn in /usr/local/lib/python3.7/dist-packages (0.8.1)\n",
            "Requirement already satisfied: numpy>=1.13.3 in /usr/local/lib/python3.7/dist-packages (from imbalanced-learn) (1.21.6)\n",
            "Requirement already satisfied: joblib>=0.11 in /usr/local/lib/python3.7/dist-packages (from imbalanced-learn) (1.1.0)\n",
            "Requirement already satisfied: scipy>=0.19.1 in /usr/local/lib/python3.7/dist-packages (from imbalanced-learn) (1.7.3)\n",
            "Requirement already satisfied: scikit-learn>=0.24 in /usr/local/lib/python3.7/dist-packages (from imbalanced-learn) (1.0.2)\n",
            "Requirement already satisfied: threadpoolctl>=2.0.0 in /usr/local/lib/python3.7/dist-packages (from scikit-learn>=0.24->imbalanced-learn) (3.1.0)\n"
          ]
        }
      ]
    },
    {
      "cell_type": "code",
      "source": [
        "dataset.head()"
      ],
      "metadata": {
        "colab": {
          "base_uri": "https://localhost:8080/",
          "height": 317
        },
        "id": "94J17AM1M7Fg",
        "outputId": "0e514d69-af69-4b67-8717-b94d4d2c91de"
      },
      "execution_count": 3,
      "outputs": [
        {
          "output_type": "execute_result",
          "data": {
            "text/plain": [
              "  Sleep_Stage  MeanP_Alpha_F4  MedianF_Alpha_F4  MeanF_Alpha_F4  \\\n",
              "0        NREM         0.00034          10.11512        17.85756   \n",
              "1        NREM         0.00035          10.73951        17.60780   \n",
              "2        NREM         0.00035           9.36585        17.60780   \n",
              "3        NREM         0.00050          10.36488        16.60878   \n",
              "4        NREM         0.00072           9.36585        15.98439   \n",
              "\n",
              "   Spectral Edge_Alpha_F4  PeakF_Alpha_F4  MeanP_Beta_F4  MedianF_Beta_F4  \\\n",
              "0                17.48293        10.24000        0.00047         17.73268   \n",
              "1                17.10829         9.11610        0.00048         16.85854   \n",
              "2                16.98341         9.24098        0.00042         17.35805   \n",
              "3                15.85951         7.99220        0.00053         15.48488   \n",
              "4                15.48488         7.99220        0.00067         15.11024   \n",
              "\n",
              "   MeanF_Beta_F4  Spectral Edge_Beta_F4  ...  MeanP_Delta_O2  \\\n",
              "0       25.35024               27.47317  ...         0.00112   \n",
              "1       25.22537               26.97366  ...         0.00070   \n",
              "2       26.09951               28.47220  ...         0.00077   \n",
              "3       24.10146               25.72488  ...         0.00130   \n",
              "4       22.22829               23.22732  ...         0.00123   \n",
              "\n",
              "   MedianF_Delta_O2  MeanF_Delta_O2  Spectral Edge_Delta_O2  PeakF_Delta_O2  \\\n",
              "0           0.74927         6.36878                 2.87220         0.62439   \n",
              "1           0.99902         6.86829                 3.62146         0.74927   \n",
              "2           1.49854         6.49366                 4.12098         0.74927   \n",
              "3           1.87317         6.11902                 3.74634         0.37463   \n",
              "4           1.49854         6.61854                 3.74634         0.74927   \n",
              "\n",
              "   MeanP_Gamma_O2  MedianF_Gamma_O2  MeanF_Gamma_O2  Spectral Edge_Gamma_O2  \\\n",
              "0        0.000076          32.71805        43.83220                49.95122   \n",
              "1        0.000072          32.09366        44.33171                49.95122   \n",
              "2        0.000069          33.09268        43.95707                49.95122   \n",
              "3        0.000070          31.59415        42.83317                49.95122   \n",
              "4        0.000060          29.47122        45.08098                49.95122   \n",
              "\n",
              "   PeakF_Gamma_O2  \n",
              "0        49.95122  \n",
              "1        49.95122  \n",
              "2        49.95122  \n",
              "3        49.95122  \n",
              "4        49.95122  \n",
              "\n",
              "[5 rows x 76 columns]"
            ],
            "text/html": [
              "\n",
              "  <div id=\"df-6002f281-9a7f-4b51-953b-cd6fc75157cd\">\n",
              "    <div class=\"colab-df-container\">\n",
              "      <div>\n",
              "<style scoped>\n",
              "    .dataframe tbody tr th:only-of-type {\n",
              "        vertical-align: middle;\n",
              "    }\n",
              "\n",
              "    .dataframe tbody tr th {\n",
              "        vertical-align: top;\n",
              "    }\n",
              "\n",
              "    .dataframe thead th {\n",
              "        text-align: right;\n",
              "    }\n",
              "</style>\n",
              "<table border=\"1\" class=\"dataframe\">\n",
              "  <thead>\n",
              "    <tr style=\"text-align: right;\">\n",
              "      <th></th>\n",
              "      <th>Sleep_Stage</th>\n",
              "      <th>MeanP_Alpha_F4</th>\n",
              "      <th>MedianF_Alpha_F4</th>\n",
              "      <th>MeanF_Alpha_F4</th>\n",
              "      <th>Spectral Edge_Alpha_F4</th>\n",
              "      <th>PeakF_Alpha_F4</th>\n",
              "      <th>MeanP_Beta_F4</th>\n",
              "      <th>MedianF_Beta_F4</th>\n",
              "      <th>MeanF_Beta_F4</th>\n",
              "      <th>Spectral Edge_Beta_F4</th>\n",
              "      <th>...</th>\n",
              "      <th>MeanP_Delta_O2</th>\n",
              "      <th>MedianF_Delta_O2</th>\n",
              "      <th>MeanF_Delta_O2</th>\n",
              "      <th>Spectral Edge_Delta_O2</th>\n",
              "      <th>PeakF_Delta_O2</th>\n",
              "      <th>MeanP_Gamma_O2</th>\n",
              "      <th>MedianF_Gamma_O2</th>\n",
              "      <th>MeanF_Gamma_O2</th>\n",
              "      <th>Spectral Edge_Gamma_O2</th>\n",
              "      <th>PeakF_Gamma_O2</th>\n",
              "    </tr>\n",
              "  </thead>\n",
              "  <tbody>\n",
              "    <tr>\n",
              "      <th>0</th>\n",
              "      <td>NREM</td>\n",
              "      <td>0.00034</td>\n",
              "      <td>10.11512</td>\n",
              "      <td>17.85756</td>\n",
              "      <td>17.48293</td>\n",
              "      <td>10.24000</td>\n",
              "      <td>0.00047</td>\n",
              "      <td>17.73268</td>\n",
              "      <td>25.35024</td>\n",
              "      <td>27.47317</td>\n",
              "      <td>...</td>\n",
              "      <td>0.00112</td>\n",
              "      <td>0.74927</td>\n",
              "      <td>6.36878</td>\n",
              "      <td>2.87220</td>\n",
              "      <td>0.62439</td>\n",
              "      <td>0.000076</td>\n",
              "      <td>32.71805</td>\n",
              "      <td>43.83220</td>\n",
              "      <td>49.95122</td>\n",
              "      <td>49.95122</td>\n",
              "    </tr>\n",
              "    <tr>\n",
              "      <th>1</th>\n",
              "      <td>NREM</td>\n",
              "      <td>0.00035</td>\n",
              "      <td>10.73951</td>\n",
              "      <td>17.60780</td>\n",
              "      <td>17.10829</td>\n",
              "      <td>9.11610</td>\n",
              "      <td>0.00048</td>\n",
              "      <td>16.85854</td>\n",
              "      <td>25.22537</td>\n",
              "      <td>26.97366</td>\n",
              "      <td>...</td>\n",
              "      <td>0.00070</td>\n",
              "      <td>0.99902</td>\n",
              "      <td>6.86829</td>\n",
              "      <td>3.62146</td>\n",
              "      <td>0.74927</td>\n",
              "      <td>0.000072</td>\n",
              "      <td>32.09366</td>\n",
              "      <td>44.33171</td>\n",
              "      <td>49.95122</td>\n",
              "      <td>49.95122</td>\n",
              "    </tr>\n",
              "    <tr>\n",
              "      <th>2</th>\n",
              "      <td>NREM</td>\n",
              "      <td>0.00035</td>\n",
              "      <td>9.36585</td>\n",
              "      <td>17.60780</td>\n",
              "      <td>16.98341</td>\n",
              "      <td>9.24098</td>\n",
              "      <td>0.00042</td>\n",
              "      <td>17.35805</td>\n",
              "      <td>26.09951</td>\n",
              "      <td>28.47220</td>\n",
              "      <td>...</td>\n",
              "      <td>0.00077</td>\n",
              "      <td>1.49854</td>\n",
              "      <td>6.49366</td>\n",
              "      <td>4.12098</td>\n",
              "      <td>0.74927</td>\n",
              "      <td>0.000069</td>\n",
              "      <td>33.09268</td>\n",
              "      <td>43.95707</td>\n",
              "      <td>49.95122</td>\n",
              "      <td>49.95122</td>\n",
              "    </tr>\n",
              "    <tr>\n",
              "      <th>3</th>\n",
              "      <td>NREM</td>\n",
              "      <td>0.00050</td>\n",
              "      <td>10.36488</td>\n",
              "      <td>16.60878</td>\n",
              "      <td>15.85951</td>\n",
              "      <td>7.99220</td>\n",
              "      <td>0.00053</td>\n",
              "      <td>15.48488</td>\n",
              "      <td>24.10146</td>\n",
              "      <td>25.72488</td>\n",
              "      <td>...</td>\n",
              "      <td>0.00130</td>\n",
              "      <td>1.87317</td>\n",
              "      <td>6.11902</td>\n",
              "      <td>3.74634</td>\n",
              "      <td>0.37463</td>\n",
              "      <td>0.000070</td>\n",
              "      <td>31.59415</td>\n",
              "      <td>42.83317</td>\n",
              "      <td>49.95122</td>\n",
              "      <td>49.95122</td>\n",
              "    </tr>\n",
              "    <tr>\n",
              "      <th>4</th>\n",
              "      <td>NREM</td>\n",
              "      <td>0.00072</td>\n",
              "      <td>9.36585</td>\n",
              "      <td>15.98439</td>\n",
              "      <td>15.48488</td>\n",
              "      <td>7.99220</td>\n",
              "      <td>0.00067</td>\n",
              "      <td>15.11024</td>\n",
              "      <td>22.22829</td>\n",
              "      <td>23.22732</td>\n",
              "      <td>...</td>\n",
              "      <td>0.00123</td>\n",
              "      <td>1.49854</td>\n",
              "      <td>6.61854</td>\n",
              "      <td>3.74634</td>\n",
              "      <td>0.74927</td>\n",
              "      <td>0.000060</td>\n",
              "      <td>29.47122</td>\n",
              "      <td>45.08098</td>\n",
              "      <td>49.95122</td>\n",
              "      <td>49.95122</td>\n",
              "    </tr>\n",
              "  </tbody>\n",
              "</table>\n",
              "<p>5 rows × 76 columns</p>\n",
              "</div>\n",
              "      <button class=\"colab-df-convert\" onclick=\"convertToInteractive('df-6002f281-9a7f-4b51-953b-cd6fc75157cd')\"\n",
              "              title=\"Convert this dataframe to an interactive table.\"\n",
              "              style=\"display:none;\">\n",
              "        \n",
              "  <svg xmlns=\"http://www.w3.org/2000/svg\" height=\"24px\"viewBox=\"0 0 24 24\"\n",
              "       width=\"24px\">\n",
              "    <path d=\"M0 0h24v24H0V0z\" fill=\"none\"/>\n",
              "    <path d=\"M18.56 5.44l.94 2.06.94-2.06 2.06-.94-2.06-.94-.94-2.06-.94 2.06-2.06.94zm-11 1L8.5 8.5l.94-2.06 2.06-.94-2.06-.94L8.5 2.5l-.94 2.06-2.06.94zm10 10l.94 2.06.94-2.06 2.06-.94-2.06-.94-.94-2.06-.94 2.06-2.06.94z\"/><path d=\"M17.41 7.96l-1.37-1.37c-.4-.4-.92-.59-1.43-.59-.52 0-1.04.2-1.43.59L10.3 9.45l-7.72 7.72c-.78.78-.78 2.05 0 2.83L4 21.41c.39.39.9.59 1.41.59.51 0 1.02-.2 1.41-.59l7.78-7.78 2.81-2.81c.8-.78.8-2.07 0-2.86zM5.41 20L4 18.59l7.72-7.72 1.47 1.35L5.41 20z\"/>\n",
              "  </svg>\n",
              "      </button>\n",
              "      \n",
              "  <style>\n",
              "    .colab-df-container {\n",
              "      display:flex;\n",
              "      flex-wrap:wrap;\n",
              "      gap: 12px;\n",
              "    }\n",
              "\n",
              "    .colab-df-convert {\n",
              "      background-color: #E8F0FE;\n",
              "      border: none;\n",
              "      border-radius: 50%;\n",
              "      cursor: pointer;\n",
              "      display: none;\n",
              "      fill: #1967D2;\n",
              "      height: 32px;\n",
              "      padding: 0 0 0 0;\n",
              "      width: 32px;\n",
              "    }\n",
              "\n",
              "    .colab-df-convert:hover {\n",
              "      background-color: #E2EBFA;\n",
              "      box-shadow: 0px 1px 2px rgba(60, 64, 67, 0.3), 0px 1px 3px 1px rgba(60, 64, 67, 0.15);\n",
              "      fill: #174EA6;\n",
              "    }\n",
              "\n",
              "    [theme=dark] .colab-df-convert {\n",
              "      background-color: #3B4455;\n",
              "      fill: #D2E3FC;\n",
              "    }\n",
              "\n",
              "    [theme=dark] .colab-df-convert:hover {\n",
              "      background-color: #434B5C;\n",
              "      box-shadow: 0px 1px 3px 1px rgba(0, 0, 0, 0.15);\n",
              "      filter: drop-shadow(0px 1px 2px rgba(0, 0, 0, 0.3));\n",
              "      fill: #FFFFFF;\n",
              "    }\n",
              "  </style>\n",
              "\n",
              "      <script>\n",
              "        const buttonEl =\n",
              "          document.querySelector('#df-6002f281-9a7f-4b51-953b-cd6fc75157cd button.colab-df-convert');\n",
              "        buttonEl.style.display =\n",
              "          google.colab.kernel.accessAllowed ? 'block' : 'none';\n",
              "\n",
              "        async function convertToInteractive(key) {\n",
              "          const element = document.querySelector('#df-6002f281-9a7f-4b51-953b-cd6fc75157cd');\n",
              "          const dataTable =\n",
              "            await google.colab.kernel.invokeFunction('convertToInteractive',\n",
              "                                                     [key], {});\n",
              "          if (!dataTable) return;\n",
              "\n",
              "          const docLinkHtml = 'Like what you see? Visit the ' +\n",
              "            '<a target=\"_blank\" href=https://colab.research.google.com/notebooks/data_table.ipynb>data table notebook</a>'\n",
              "            + ' to learn more about interactive tables.';\n",
              "          element.innerHTML = '';\n",
              "          dataTable['output_type'] = 'display_data';\n",
              "          await google.colab.output.renderOutput(dataTable, element);\n",
              "          const docLink = document.createElement('div');\n",
              "          docLink.innerHTML = docLinkHtml;\n",
              "          element.appendChild(docLink);\n",
              "        }\n",
              "      </script>\n",
              "    </div>\n",
              "  </div>\n",
              "  "
            ]
          },
          "metadata": {},
          "execution_count": 3
        }
      ]
    },
    {
      "cell_type": "code",
      "source": [
        "set(list(dataset[target]))"
      ],
      "metadata": {
        "colab": {
          "base_uri": "https://localhost:8080/"
        },
        "id": "FY14tmbOOEi8",
        "outputId": "3c438012-20fb-40ab-e11c-e3c309852105"
      },
      "execution_count": 4,
      "outputs": [
        {
          "output_type": "execute_result",
          "data": {
            "text/plain": [
              "{'NREM', 'REM'}"
            ]
          },
          "metadata": {},
          "execution_count": 4
        }
      ]
    },
    {
      "cell_type": "code",
      "source": [
        "from sklearn.preprocessing import LabelEncoder\n",
        "encoder=LabelEncoder()\n",
        "dataset[target]=encoder.fit_transform(dataset[target])"
      ],
      "metadata": {
        "id": "EzrtcUsPNmDA"
      },
      "execution_count": 5,
      "outputs": []
    },
    {
      "cell_type": "code",
      "source": [
        "\n",
        "set(list(dataset[target]))"
      ],
      "metadata": {
        "colab": {
          "base_uri": "https://localhost:8080/"
        },
        "id": "wSIwrSmLN4vw",
        "outputId": "326e3013-112a-40cb-f1b0-b750ff0a0bec"
      },
      "execution_count": 6,
      "outputs": [
        {
          "output_type": "execute_result",
          "data": {
            "text/plain": [
              "{0, 1}"
            ]
          },
          "metadata": {},
          "execution_count": 6
        }
      ]
    },
    {
      "cell_type": "code",
      "source": [
        "X = dataset.loc[:, dataset.columns!=target]\n",
        "y = dataset[target]"
      ],
      "metadata": {
        "id": "hGm7CH4EYTAl"
      },
      "execution_count": 7,
      "outputs": []
    },
    {
      "cell_type": "code",
      "source": [
        "#Splitting dataset into training and testing dataset\n",
        "from sklearn.model_selection import train_test_split\n",
        "X_train,X_test,y_train,y_test = train_test_split(X,y,test_size=0.2,random_state=0)"
      ],
      "metadata": {
        "id": "VEBtm-RmYRNQ"
      },
      "execution_count": 8,
      "outputs": []
    },
    {
      "cell_type": "code",
      "source": [
        "new_dataset=balance(X_train,y_train)\n",
        "\n",
        "X_train = new_dataset.loc[:, new_dataset.columns!=target]\n",
        "y_train = new_dataset[target]"
      ],
      "metadata": {
        "id": "TObOsgjp0ti9"
      },
      "execution_count": 9,
      "outputs": []
    },
    {
      "cell_type": "code",
      "source": [],
      "metadata": {
        "id": "3cAdRxW_2IxS"
      },
      "execution_count": 9,
      "outputs": []
    },
    {
      "cell_type": "markdown",
      "source": [
        "#Random Forest"
      ],
      "metadata": {
        "id": "E1kXStcxVNSD"
      }
    },
    {
      "cell_type": "code",
      "source": [
        "from sklearn.ensemble import RandomForestClassifier\n",
        "rf = RandomForestClassifier(n_estimators=450,max_depth=39,random_state=0)\n",
        "rf.fit(X_train, y_train)\n",
        "\n",
        "\n",
        "\n"
      ],
      "metadata": {
        "colab": {
          "base_uri": "https://localhost:8080/"
        },
        "id": "gkxRrqol1w4A",
        "outputId": "8abfe543-304d-48c5-9eaa-c8f3282a0c5a"
      },
      "execution_count": 10,
      "outputs": [
        {
          "output_type": "execute_result",
          "data": {
            "text/plain": [
              "RandomForestClassifier(max_depth=39, n_estimators=450, random_state=0)"
            ]
          },
          "metadata": {},
          "execution_count": 10
        }
      ]
    },
    {
      "cell_type": "code",
      "source": [
        "y_pred_train=rf.predict(X_train)\n",
        "\n",
        "\n",
        "from sklearn.metrics import classification_report, confusion_matrix, accuracy_score\n",
        "print(confusion_matrix(y_train, y_pred_train))\n",
        "print(classification_report(y_train,y_pred_train))\n",
        "print(\"Accurecy: \",accuracy_score(y_train, y_pred_train))"
      ],
      "metadata": {
        "colab": {
          "base_uri": "https://localhost:8080/"
        },
        "id": "8vAZfwn0NBQc",
        "outputId": "7be76e52-39af-4163-941a-c983d38f2e4e"
      },
      "execution_count": 11,
      "outputs": [
        {
          "output_type": "stream",
          "name": "stdout",
          "text": [
            "[[58171     0]\n",
            " [  603 57568]]\n",
            "              precision    recall  f1-score   support\n",
            "\n",
            "           0       0.99      1.00      0.99     58171\n",
            "           1       1.00      0.99      0.99     58171\n",
            "\n",
            "    accuracy                           0.99    116342\n",
            "   macro avg       0.99      0.99      0.99    116342\n",
            "weighted avg       0.99      0.99      0.99    116342\n",
            "\n",
            "Accurecy:  0.9948170050368741\n"
          ]
        }
      ]
    },
    {
      "cell_type": "code",
      "source": [
        "y_pred_test=rf.predict(X_test)\n",
        "\n",
        "\n",
        "from sklearn.metrics import classification_report, confusion_matrix, accuracy_score\n",
        "print(confusion_matrix(y_test, y_pred_test))\n",
        "print(classification_report(y_test,y_pred_test))\n",
        "print(\"Accurecy: \",accuracy_score(y_test, y_pred_test))"
      ],
      "metadata": {
        "colab": {
          "base_uri": "https://localhost:8080/"
        },
        "id": "MEcWK8I0NMUz",
        "outputId": "c0924fce-cb12-4876-d956-cdcb6e6ffbec"
      },
      "execution_count": 12,
      "outputs": [
        {
          "output_type": "stream",
          "name": "stdout",
          "text": [
            "[[13660   800]\n",
            " [  527  2833]]\n",
            "              precision    recall  f1-score   support\n",
            "\n",
            "           0       0.96      0.94      0.95     14460\n",
            "           1       0.78      0.84      0.81      3360\n",
            "\n",
            "    accuracy                           0.93     17820\n",
            "   macro avg       0.87      0.89      0.88     17820\n",
            "weighted avg       0.93      0.93      0.93     17820\n",
            "\n",
            "Accurecy:  0.9255331088664422\n"
          ]
        }
      ]
    },
    {
      "cell_type": "code",
      "source": [
        "from yellowbrick.classifier import ConfusionMatrix\n",
        "\n",
        "cm = ConfusionMatrix(rf, classes=classes)\n",
        "\n",
        "cm.fit(X_train, y_train)\n",
        "cm.score(X_train, y_train)\n",
        "cm.show()"
      ],
      "metadata": {
        "colab": {
          "base_uri": "https://localhost:8080/",
          "height": 0
        },
        "id": "tPHljpVfR21V",
        "outputId": "5e39f511-0584-4926-b513-76c3bb9a43b6"
      },
      "execution_count": 13,
      "outputs": [
        {
          "output_type": "stream",
          "name": "stderr",
          "text": [
            "/usr/local/lib/python3.7/dist-packages/sklearn/base.py:451: UserWarning: X does not have valid feature names, but RandomForestClassifier was fitted with feature names\n",
            "  \"X does not have valid feature names, but\"\n"
          ]
        },
        {
          "output_type": "display_data",
          "data": {
            "text/plain": [
              "<Figure size 576x396 with 1 Axes>"
            ],
            "image/png": "[encoded data removed]"
          },
          "metadata": {}
        },
        {
          "output_type": "execute_result",
          "data": {
            "text/plain": [
              "<matplotlib.axes._subplots.AxesSubplot at 0x7fea6e62a510>"
            ]
          },
          "metadata": {},
          "execution_count": 13
        }
      ]
    },
    {
      "cell_type": "code",
      "source": [
        "from yellowbrick.classifier import ConfusionMatrix\n",
        "\n",
        "cm = ConfusionMatrix(rf, classes=classes)\n",
        "\n",
        "cm.fit(X_train, y_train)\n",
        "cm.score(X_test, y_test)\n",
        "cm.show()"
      ],
      "metadata": {
        "colab": {
          "base_uri": "https://localhost:8080/",
          "height": 0
        },
        "id": "QRGUUHZmTE_E",
        "outputId": "82c2df94-f93f-4732-bd78-808f0858890f"
      },
      "execution_count": 14,
      "outputs": [
        {
          "output_type": "stream",
          "name": "stderr",
          "text": [
            "/usr/local/lib/python3.7/dist-packages/sklearn/base.py:451: UserWarning: X does not have valid feature names, but RandomForestClassifier was fitted with feature names\n",
            "  \"X does not have valid feature names, but\"\n"
          ]
        },
        {
          "output_type": "display_data",
          "data": {
            "text/plain": [
              "<Figure size 576x396 with 1 Axes>"
            ],
            "image/png": "[encoded data removed]"
          },
          "metadata": {}
        },
        {
          "output_type": "execute_result",
          "data": {
            "text/plain": [
              "<matplotlib.axes._subplots.AxesSubplot at 0x7fea6e12a950>"
            ]
          },
          "metadata": {},
          "execution_count": 14
        }
      ]
    },
    {
      "cell_type": "markdown",
      "source": [
        "#Xg Boost"
      ],
      "metadata": {
        "id": "pL6-Yu0VVQra"
      }
    },
    {
      "cell_type": "code",
      "source": [
        "import xgboost as xgb\n",
        "xgb = xgb.XGBClassifier(n_estimators=4010,max_depth=29,random_state=0)\n",
        "xgb.fit(X_train,y_train)"
      ],
      "metadata": {
        "colab": {
          "base_uri": "https://localhost:8080/"
        },
        "id": "-xjfmD6xVd2k",
        "outputId": "bda9f8df-8a7c-444f-ea60-679aa5d98582"
      },
      "execution_count": 15,
      "outputs": [
        {
          "output_type": "execute_result",
          "data": {
            "text/plain": [
              "XGBClassifier(max_depth=29, n_estimators=4010)"
            ]
          },
          "metadata": {},
          "execution_count": 15
        }
      ]
    },
    {
      "cell_type": "code",
      "source": [
        "y_pred_test = xgb.predict(X_test)\n",
        "\n",
        "from sklearn.metrics import classification_report, confusion_matrix, accuracy_score\n",
        "print(confusion_matrix(y_test, y_pred_test))\n",
        "print(classification_report(y_test,y_pred_test))\n",
        "print(\"Accurecy: \",accuracy_score(y_test, y_pred_test))"
      ],
      "metadata": {
        "colab": {
          "base_uri": "https://localhost:8080/"
        },
        "id": "qeglkzIFVgqm",
        "outputId": "81aafe4d-e53a-4cf8-e886-4634b6b42c5e"
      },
      "execution_count": 16,
      "outputs": [
        {
          "output_type": "stream",
          "name": "stdout",
          "text": [
            "[[14035   425]\n",
            " [  573  2787]]\n",
            "              precision    recall  f1-score   support\n",
            "\n",
            "           0       0.96      0.97      0.97     14460\n",
            "           1       0.87      0.83      0.85      3360\n",
            "\n",
            "    accuracy                           0.94     17820\n",
            "   macro avg       0.91      0.90      0.91     17820\n",
            "weighted avg       0.94      0.94      0.94     17820\n",
            "\n",
            "Accurecy:  0.9439955106621774\n"
          ]
        }
      ]
    },
    {
      "cell_type": "code",
      "source": [
        "y_pred_train = xgb.predict(X_train)\n",
        "\n",
        "from sklearn.metrics import classification_report, confusion_matrix, accuracy_score\n",
        "print(confusion_matrix(y_train, y_pred_train))\n",
        "print(classification_report(y_train,y_pred_train))\n",
        "print(\"Accurecy: \",accuracy_score(y_train, y_pred_train))"
      ],
      "metadata": {
        "colab": {
          "base_uri": "https://localhost:8080/"
        },
        "id": "XlQliy0OVjuw",
        "outputId": "37497632-6739-423f-a8e2-4300edd5bab2"
      },
      "execution_count": 17,
      "outputs": [
        {
          "output_type": "stream",
          "name": "stdout",
          "text": [
            "[[58171     0]\n",
            " [  603 57568]]\n",
            "              precision    recall  f1-score   support\n",
            "\n",
            "           0       0.99      1.00      0.99     58171\n",
            "           1       1.00      0.99      0.99     58171\n",
            "\n",
            "    accuracy                           0.99    116342\n",
            "   macro avg       0.99      0.99      0.99    116342\n",
            "weighted avg       0.99      0.99      0.99    116342\n",
            "\n",
            "Accurecy:  0.9948170050368741\n"
          ]
        }
      ]
    },
    {
      "cell_type": "code",
      "source": [
        "from yellowbrick.classifier import ConfusionMatrix\n",
        "\n",
        "cm = ConfusionMatrix(xgb, classes=classes)\n",
        "\n",
        "cm.fit(X_train, y_train)\n",
        "cm.score(X_train, y_train)\n",
        "cm.show()"
      ],
      "metadata": {
        "colab": {
          "base_uri": "https://localhost:8080/",
          "height": 419
        },
        "id": "dGMYrbNdVmYo",
        "outputId": "389859d2-8836-4747-ec74-ca5719920c89"
      },
      "execution_count": 18,
      "outputs": [
        {
          "output_type": "display_data",
          "data": {
            "text/plain": [
              "<Figure size 576x396 with 1 Axes>"
            ],
            "image/png": "[encoded data removed]"
          },
          "metadata": {}
        },
        {
          "output_type": "execute_result",
          "data": {
            "text/plain": [
              "<matplotlib.axes._subplots.AxesSubplot at 0x7fea65308e90>"
            ]
          },
          "metadata": {},
          "execution_count": 18
        }
      ]
    },
    {
      "cell_type": "code",
      "source": [
        "from yellowbrick.classifier import ConfusionMatrix\n",
        "\n",
        "cm = ConfusionMatrix(xgb, classes=classes)\n",
        "\n",
        "cm.fit(X_train, y_train)\n",
        "cm.score(X_test, y_test)\n",
        "cm.show()"
      ],
      "metadata": {
        "colab": {
          "base_uri": "https://localhost:8080/",
          "height": 419
        },
        "id": "zyZHttqyVob_",
        "outputId": "3791367e-6764-4ca4-d1a0-571424e21e10"
      },
      "execution_count": 19,
      "outputs": [
        {
          "output_type": "display_data",
          "data": {
            "text/plain": [
              "<Figure size 576x396 with 1 Axes>"
            ],
            "image/png": "[encoded data removed]"
          },
          "metadata": {}
        },
        {
          "output_type": "execute_result",
          "data": {
            "text/plain": [
              "<matplotlib.axes._subplots.AxesSubplot at 0x7fea652de7d0>"
            ]
          },
          "metadata": {},
          "execution_count": 19
        }
      ]
    },
    {
      "cell_type": "markdown",
      "source": [
        "#Gradient Boost"
      ],
      "metadata": {
        "id": "EgW2VelyVT44"
      }
    },
    {
      "cell_type": "markdown",
      "source": [
        "#ROC"
      ],
      "metadata": {
        "id": "N9J26SHNVYIR"
      }
    },
    {
      "cell_type": "code",
      "source": [
        "def ROC(mod,model_name,X_t,y_t,graph_feat):\n",
        "  r_probs = [0 for _ in range(len(y_t))]\n",
        "\n",
        "  model_probs = []\n",
        "\n",
        "\n",
        "  for i in mod:\n",
        "    model_probs.append(i.predict_proba(X_t))\n",
        "\n",
        "\n",
        "  model_probs2=[]\n",
        "\n",
        "  for i in model_probs:\n",
        "    model_probs2.append(i[:,1])\n",
        "\n",
        "\n",
        "  from sklearn.metrics import roc_curve, roc_auc_score\n",
        "\n",
        "  model_auc=[]\n",
        "  r_auc = roc_auc_score(y_t, r_probs)\n",
        "\n",
        "  for i in model_probs2:\n",
        "    model_auc.append(roc_auc_score(y_t,i))\n",
        "\n",
        "\n",
        "  fpr_tpr=[]\n",
        "  r_fpr, r_tpr, _ = roc_curve(y_t, r_probs)\n",
        "\n",
        "  for i in model_probs2:\n",
        "    fpr, tpr, _ = roc_curve(y_t, i)\n",
        "    fpr_tpr.append((fpr,tpr))\n",
        "\n",
        "  import matplotlib.pyplot as plt\n",
        "  plt.plot(r_fpr, r_tpr, linestyle='--', label='Random prediction (AUROC = %0.3f)' % r_auc)\n",
        "\n",
        "  for i in range(len(model_auc)):\n",
        "    plt.plot(fpr_tpr[i][0], fpr_tpr[i][1], marker='.', label=model_name[i]+' (AUROC = %0.3f)' % model_auc[i])\n",
        "\n",
        "  # Title\n",
        "  plt.title(graph_feat[\"Title\"],fontsize= graph_feat[\"Title Size\"], fontweight=graph_feat[\"Title Fontweight\"])\n",
        "  plt.xlabel('False Positive Rate',fontweight=graph_feat[\"X axis Label Fontweight\"],fontsize=graph_feat[\"X axis Label Font Size\"])\n",
        "  plt.ylabel('True Positive Rate',fontweight=graph_feat[\"Y axis Label Fontweight\"],fontsize=graph_feat[\"Y axis Label Font Size\"])\n",
        "  \n",
        "  plt.legend( \n",
        "           prop = {'size' : graph_feat[\"legend Font Size\"]}, \n",
        "           loc = graph_feat[\"legend Position\"])\n",
        "  \n",
        "  fig = plt.gcf()\n",
        "  fig.set_size_inches(graph_feat[\"Fig Width (inches)\"], graph_feat[\"Fig Height (inches)\"])\n",
        "  fig.savefig(graph_feat[\"Fig Saving Name\"], dpi=graph_feat[\"dpi\"])\n",
        "  plt.show()"
      ],
      "metadata": {
        "id": "9Gv9l7L-TdBd"
      },
      "execution_count": 20,
      "outputs": []
    },
    {
      "cell_type": "code",
      "source": [
        "graph_feat={\n",
        "    \"Title\" : \"ROC Plot Testing\",\n",
        "    \"Title Size\":18,\n",
        "    \"Title Fontweight\":'bold',\n",
        "\n",
        "    \"legend Font Size\": 14,\n",
        "    \"legend Position\": \"lower right\",\n",
        "\n",
        "    \"X axis Label Font Size\":16,\n",
        "    \"X axis Label Fontweight\":'bold',\n",
        "\n",
        "    \"Y axis Label Font Size\":16,\n",
        "    \"Y axis Label Fontweight\":'bold',\n",
        "\n",
        "    \"Fig Height (inches)\":10.8,\n",
        "    \"Fig Width (inches)\":18.8,\n",
        "\n",
        "    \"Fig Saving Name\": \"ROC_training.png\",\n",
        "    \"dpi\":100\n",
        "    \n",
        "\n",
        "}\n",
        "\n",
        "mod=[rf,xgb]\n",
        "model_name=[\"Random Forest\",\"Xgboost\",\"Gradient Boosting\"]\n",
        "\n",
        "\n",
        "ROC(mod,model_name,X_test,y_test,graph_feat)"
      ],
      "metadata": {
        "colab": {
          "base_uri": "https://localhost:8080/",
          "height": 673
        },
        "id": "JujKz9NlThsd",
        "outputId": "c49cad47-4ba7-4b40-e2b7-cc968a02a21d"
      },
      "execution_count": 21,
      "outputs": [
        {
          "output_type": "display_data",
          "data": {
            "text/plain": [
              "<Figure size 1353.6x777.6 with 1 Axes>"
            ],
            "image/png": "[encoded data removed]"
          },
          "metadata": {}
        }
      ]
    }
  ]
}