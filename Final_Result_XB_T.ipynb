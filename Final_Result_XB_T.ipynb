{
  "nbformat": 4,
  "nbformat_minor": 0,
  "metadata": {
    "colab": {
      "provenance": [],
      "authorship_tag": "ABX9TyMbNEgA+vxCPf3JbtSfVy9f",
      "include_colab_link": true
    },
    "kernelspec": {
      "name": "python3",
      "display_name": "Python 3"
    },
    "language_info": {
      "name": "python"
    }
  },
  "cells": [
    {
      "cell_type": "markdown",
      "metadata": {
        "id": "view-in-github",
        "colab_type": "text"
      },
      "source": [
        "<a href=\"https://colab.research.google.com/github/RafsanJany-44/Research-NREM-REM/blob/main/Final_Result_XB_T.ipynb\" target=\"_parent\"><img src=\"https://colab.research.google.com/assets/colab-badge.svg\" alt=\"Open In Colab\"/></a>"
      ]
    },
    {
      "cell_type": "code",
      "execution_count": 16,
      "metadata": {
        "id": "TcCV60Htj-JO"
      },
      "outputs": [],
      "source": [
        "import numpy as np\n",
        "import pandas as pd\n",
        "\n",
        "dataset=pd.read_csv(\"https://raw.githubusercontent.com/RafsanJany-44/Research-NREM-REM/main/dataset/REM_NREM.csv\")\n",
        "\n",
        "\n",
        "target=\"Sleep_Stage\"\n",
        "\n",
        "classes = np.array(sorted(list(set(dataset[target]))))\n"
      ]
    },
    {
      "cell_type": "code",
      "source": [
        "!pip install imbalanced-learn\n",
        "\n",
        "from imblearn.over_sampling import SMOTE\n",
        "\n",
        "def balance(X_temp, y_temp):\n",
        "  smote = SMOTE()\n",
        "  X_temp, y_temp= smote.fit_resample(X_temp, y_temp)\n",
        "\n",
        "  return pd.concat([pd.DataFrame(X_temp), pd.DataFrame(y_temp)], axis=1)"
      ],
      "metadata": {
        "colab": {
          "base_uri": "https://localhost:8080/"
        },
        "id": "ncpeG909TMG2",
        "outputId": "d6f427ee-09b5-4e71-f6db-38a9eb54ef6f"
      },
      "execution_count": 17,
      "outputs": [
        {
          "output_type": "stream",
          "name": "stdout",
          "text": [
            "Looking in indexes: https://pypi.org/simple, https://us-python.pkg.dev/colab-wheels/public/simple/\n",
            "Requirement already satisfied: imbalanced-learn in /usr/local/lib/python3.7/dist-packages (0.8.1)\n",
            "Requirement already satisfied: scipy>=0.19.1 in /usr/local/lib/python3.7/dist-packages (from imbalanced-learn) (1.7.3)\n",
            "Requirement already satisfied: scikit-learn>=0.24 in /usr/local/lib/python3.7/dist-packages (from imbalanced-learn) (1.0.2)\n",
            "Requirement already satisfied: numpy>=1.13.3 in /usr/local/lib/python3.7/dist-packages (from imbalanced-learn) (1.21.6)\n",
            "Requirement already satisfied: joblib>=0.11 in /usr/local/lib/python3.7/dist-packages (from imbalanced-learn) (1.1.0)\n",
            "Requirement already satisfied: threadpoolctl>=2.0.0 in /usr/local/lib/python3.7/dist-packages (from scikit-learn>=0.24->imbalanced-learn) (3.1.0)\n"
          ]
        }
      ]
    },
    {
      "cell_type": "code",
      "source": [
        "dataset.head()"
      ],
      "metadata": {
        "colab": {
          "base_uri": "https://localhost:8080/",
          "height": 317
        },
        "id": "xbnCHU0ekW_f",
        "outputId": "2619a290-021b-49d4-dc89-4885434ad0dd"
      },
      "execution_count": 18,
      "outputs": [
        {
          "output_type": "execute_result",
          "data": {
            "text/plain": [
              "  Sleep_Stage  MeanP_Alpha_F4  MedianF_Alpha_F4  MeanF_Alpha_F4  \\\n",
              "0        NREM         0.00034          10.11512        17.85756   \n",
              "1        NREM         0.00035          10.73951        17.60780   \n",
              "2        NREM         0.00035           9.36585        17.60780   \n",
              "3        NREM         0.00050          10.36488        16.60878   \n",
              "4        NREM         0.00072           9.36585        15.98439   \n",
              "\n",
              "   Spectral Edge_Alpha_F4  PeakF_Alpha_F4  MeanP_Beta_F4  MedianF_Beta_F4  \\\n",
              "0                17.48293        10.24000        0.00047         17.73268   \n",
              "1                17.10829         9.11610        0.00048         16.85854   \n",
              "2                16.98341         9.24098        0.00042         17.35805   \n",
              "3                15.85951         7.99220        0.00053         15.48488   \n",
              "4                15.48488         7.99220        0.00067         15.11024   \n",
              "\n",
              "   MeanF_Beta_F4  Spectral Edge_Beta_F4  ...  MeanP_Delta_O2  \\\n",
              "0       25.35024               27.47317  ...         0.00112   \n",
              "1       25.22537               26.97366  ...         0.00070   \n",
              "2       26.09951               28.47220  ...         0.00077   \n",
              "3       24.10146               25.72488  ...         0.00130   \n",
              "4       22.22829               23.22732  ...         0.00123   \n",
              "\n",
              "   MedianF_Delta_O2  MeanF_Delta_O2  Spectral Edge_Delta_O2  PeakF_Delta_O2  \\\n",
              "0           0.74927         6.36878                 2.87220         0.62439   \n",
              "1           0.99902         6.86829                 3.62146         0.74927   \n",
              "2           1.49854         6.49366                 4.12098         0.74927   \n",
              "3           1.87317         6.11902                 3.74634         0.37463   \n",
              "4           1.49854         6.61854                 3.74634         0.74927   \n",
              "\n",
              "   MeanP_Gamma_O2  MedianF_Gamma_O2  MeanF_Gamma_O2  Spectral Edge_Gamma_O2  \\\n",
              "0        0.000076          32.71805        43.83220                49.95122   \n",
              "1        0.000072          32.09366        44.33171                49.95122   \n",
              "2        0.000069          33.09268        43.95707                49.95122   \n",
              "3        0.000070          31.59415        42.83317                49.95122   \n",
              "4        0.000060          29.47122        45.08098                49.95122   \n",
              "\n",
              "   PeakF_Gamma_O2  \n",
              "0        49.95122  \n",
              "1        49.95122  \n",
              "2        49.95122  \n",
              "3        49.95122  \n",
              "4        49.95122  \n",
              "\n",
              "[5 rows x 76 columns]"
            ],
            "text/html": [
              "\n",
              "  <div id=\"df-fb801dc4-5691-40a3-8970-b0baad3ec58e\">\n",
              "    <div class=\"colab-df-container\">\n",
              "      <div>\n",
              "<style scoped>\n",
              "    .dataframe tbody tr th:only-of-type {\n",
              "        vertical-align: middle;\n",
              "    }\n",
              "\n",
              "    .dataframe tbody tr th {\n",
              "        vertical-align: top;\n",
              "    }\n",
              "\n",
              "    .dataframe thead th {\n",
              "        text-align: right;\n",
              "    }\n",
              "</style>\n",
              "<table border=\"1\" class=\"dataframe\">\n",
              "  <thead>\n",
              "    <tr style=\"text-align: right;\">\n",
              "      <th></th>\n",
              "      <th>Sleep_Stage</th>\n",
              "      <th>MeanP_Alpha_F4</th>\n",
              "      <th>MedianF_Alpha_F4</th>\n",
              "      <th>MeanF_Alpha_F4</th>\n",
              "      <th>Spectral Edge_Alpha_F4</th>\n",
              "      <th>PeakF_Alpha_F4</th>\n",
              "      <th>MeanP_Beta_F4</th>\n",
              "      <th>MedianF_Beta_F4</th>\n",
              "      <th>MeanF_Beta_F4</th>\n",
              "      <th>Spectral Edge_Beta_F4</th>\n",
              "      <th>...</th>\n",
              "      <th>MeanP_Delta_O2</th>\n",
              "      <th>MedianF_Delta_O2</th>\n",
              "      <th>MeanF_Delta_O2</th>\n",
              "      <th>Spectral Edge_Delta_O2</th>\n",
              "      <th>PeakF_Delta_O2</th>\n",
              "      <th>MeanP_Gamma_O2</th>\n",
              "      <th>MedianF_Gamma_O2</th>\n",
              "      <th>MeanF_Gamma_O2</th>\n",
              "      <th>Spectral Edge_Gamma_O2</th>\n",
              "      <th>PeakF_Gamma_O2</th>\n",
              "    </tr>\n",
              "  </thead>\n",
              "  <tbody>\n",
              "    <tr>\n",
              "      <th>0</th>\n",
              "      <td>NREM</td>\n",
              "      <td>0.00034</td>\n",
              "      <td>10.11512</td>\n",
              "      <td>17.85756</td>\n",
              "      <td>17.48293</td>\n",
              "      <td>10.24000</td>\n",
              "      <td>0.00047</td>\n",
              "      <td>17.73268</td>\n",
              "      <td>25.35024</td>\n",
              "      <td>27.47317</td>\n",
              "      <td>...</td>\n",
              "      <td>0.00112</td>\n",
              "      <td>0.74927</td>\n",
              "      <td>6.36878</td>\n",
              "      <td>2.87220</td>\n",
              "      <td>0.62439</td>\n",
              "      <td>0.000076</td>\n",
              "      <td>32.71805</td>\n",
              "      <td>43.83220</td>\n",
              "      <td>49.95122</td>\n",
              "      <td>49.95122</td>\n",
              "    </tr>\n",
              "    <tr>\n",
              "      <th>1</th>\n",
              "      <td>NREM</td>\n",
              "      <td>0.00035</td>\n",
              "      <td>10.73951</td>\n",
              "      <td>17.60780</td>\n",
              "      <td>17.10829</td>\n",
              "      <td>9.11610</td>\n",
              "      <td>0.00048</td>\n",
              "      <td>16.85854</td>\n",
              "      <td>25.22537</td>\n",
              "      <td>26.97366</td>\n",
              "      <td>...</td>\n",
              "      <td>0.00070</td>\n",
              "      <td>0.99902</td>\n",
              "      <td>6.86829</td>\n",
              "      <td>3.62146</td>\n",
              "      <td>0.74927</td>\n",
              "      <td>0.000072</td>\n",
              "      <td>32.09366</td>\n",
              "      <td>44.33171</td>\n",
              "      <td>49.95122</td>\n",
              "      <td>49.95122</td>\n",
              "    </tr>\n",
              "    <tr>\n",
              "      <th>2</th>\n",
              "      <td>NREM</td>\n",
              "      <td>0.00035</td>\n",
              "      <td>9.36585</td>\n",
              "      <td>17.60780</td>\n",
              "      <td>16.98341</td>\n",
              "      <td>9.24098</td>\n",
              "      <td>0.00042</td>\n",
              "      <td>17.35805</td>\n",
              "      <td>26.09951</td>\n",
              "      <td>28.47220</td>\n",
              "      <td>...</td>\n",
              "      <td>0.00077</td>\n",
              "      <td>1.49854</td>\n",
              "      <td>6.49366</td>\n",
              "      <td>4.12098</td>\n",
              "      <td>0.74927</td>\n",
              "      <td>0.000069</td>\n",
              "      <td>33.09268</td>\n",
              "      <td>43.95707</td>\n",
              "      <td>49.95122</td>\n",
              "      <td>49.95122</td>\n",
              "    </tr>\n",
              "    <tr>\n",
              "      <th>3</th>\n",
              "      <td>NREM</td>\n",
              "      <td>0.00050</td>\n",
              "      <td>10.36488</td>\n",
              "      <td>16.60878</td>\n",
              "      <td>15.85951</td>\n",
              "      <td>7.99220</td>\n",
              "      <td>0.00053</td>\n",
              "      <td>15.48488</td>\n",
              "      <td>24.10146</td>\n",
              "      <td>25.72488</td>\n",
              "      <td>...</td>\n",
              "      <td>0.00130</td>\n",
              "      <td>1.87317</td>\n",
              "      <td>6.11902</td>\n",
              "      <td>3.74634</td>\n",
              "      <td>0.37463</td>\n",
              "      <td>0.000070</td>\n",
              "      <td>31.59415</td>\n",
              "      <td>42.83317</td>\n",
              "      <td>49.95122</td>\n",
              "      <td>49.95122</td>\n",
              "    </tr>\n",
              "    <tr>\n",
              "      <th>4</th>\n",
              "      <td>NREM</td>\n",
              "      <td>0.00072</td>\n",
              "      <td>9.36585</td>\n",
              "      <td>15.98439</td>\n",
              "      <td>15.48488</td>\n",
              "      <td>7.99220</td>\n",
              "      <td>0.00067</td>\n",
              "      <td>15.11024</td>\n",
              "      <td>22.22829</td>\n",
              "      <td>23.22732</td>\n",
              "      <td>...</td>\n",
              "      <td>0.00123</td>\n",
              "      <td>1.49854</td>\n",
              "      <td>6.61854</td>\n",
              "      <td>3.74634</td>\n",
              "      <td>0.74927</td>\n",
              "      <td>0.000060</td>\n",
              "      <td>29.47122</td>\n",
              "      <td>45.08098</td>\n",
              "      <td>49.95122</td>\n",
              "      <td>49.95122</td>\n",
              "    </tr>\n",
              "  </tbody>\n",
              "</table>\n",
              "<p>5 rows × 76 columns</p>\n",
              "</div>\n",
              "      <button class=\"colab-df-convert\" onclick=\"convertToInteractive('df-fb801dc4-5691-40a3-8970-b0baad3ec58e')\"\n",
              "              title=\"Convert this dataframe to an interactive table.\"\n",
              "              style=\"display:none;\">\n",
              "        \n",
              "  <svg xmlns=\"http://www.w3.org/2000/svg\" height=\"24px\"viewBox=\"0 0 24 24\"\n",
              "       width=\"24px\">\n",
              "    <path d=\"M0 0h24v24H0V0z\" fill=\"none\"/>\n",
              "    <path d=\"M18.56 5.44l.94 2.06.94-2.06 2.06-.94-2.06-.94-.94-2.06-.94 2.06-2.06.94zm-11 1L8.5 8.5l.94-2.06 2.06-.94-2.06-.94L8.5 2.5l-.94 2.06-2.06.94zm10 10l.94 2.06.94-2.06 2.06-.94-2.06-.94-.94-2.06-.94 2.06-2.06.94z\"/><path d=\"M17.41 7.96l-1.37-1.37c-.4-.4-.92-.59-1.43-.59-.52 0-1.04.2-1.43.59L10.3 9.45l-7.72 7.72c-.78.78-.78 2.05 0 2.83L4 21.41c.39.39.9.59 1.41.59.51 0 1.02-.2 1.41-.59l7.78-7.78 2.81-2.81c.8-.78.8-2.07 0-2.86zM5.41 20L4 18.59l7.72-7.72 1.47 1.35L5.41 20z\"/>\n",
              "  </svg>\n",
              "      </button>\n",
              "      \n",
              "  <style>\n",
              "    .colab-df-container {\n",
              "      display:flex;\n",
              "      flex-wrap:wrap;\n",
              "      gap: 12px;\n",
              "    }\n",
              "\n",
              "    .colab-df-convert {\n",
              "      background-color: #E8F0FE;\n",
              "      border: none;\n",
              "      border-radius: 50%;\n",
              "      cursor: pointer;\n",
              "      display: none;\n",
              "      fill: #1967D2;\n",
              "      height: 32px;\n",
              "      padding: 0 0 0 0;\n",
              "      width: 32px;\n",
              "    }\n",
              "\n",
              "    .colab-df-convert:hover {\n",
              "      background-color: #E2EBFA;\n",
              "      box-shadow: 0px 1px 2px rgba(60, 64, 67, 0.3), 0px 1px 3px 1px rgba(60, 64, 67, 0.15);\n",
              "      fill: #174EA6;\n",
              "    }\n",
              "\n",
              "    [theme=dark] .colab-df-convert {\n",
              "      background-color: #3B4455;\n",
              "      fill: #D2E3FC;\n",
              "    }\n",
              "\n",
              "    [theme=dark] .colab-df-convert:hover {\n",
              "      background-color: #434B5C;\n",
              "      box-shadow: 0px 1px 3px 1px rgba(0, 0, 0, 0.15);\n",
              "      filter: drop-shadow(0px 1px 2px rgba(0, 0, 0, 0.3));\n",
              "      fill: #FFFFFF;\n",
              "    }\n",
              "  </style>\n",
              "\n",
              "      <script>\n",
              "        const buttonEl =\n",
              "          document.querySelector('#df-fb801dc4-5691-40a3-8970-b0baad3ec58e button.colab-df-convert');\n",
              "        buttonEl.style.display =\n",
              "          google.colab.kernel.accessAllowed ? 'block' : 'none';\n",
              "\n",
              "        async function convertToInteractive(key) {\n",
              "          const element = document.querySelector('#df-fb801dc4-5691-40a3-8970-b0baad3ec58e');\n",
              "          const dataTable =\n",
              "            await google.colab.kernel.invokeFunction('convertToInteractive',\n",
              "                                                     [key], {});\n",
              "          if (!dataTable) return;\n",
              "\n",
              "          const docLinkHtml = 'Like what you see? Visit the ' +\n",
              "            '<a target=\"_blank\" href=https://colab.research.google.com/notebooks/data_table.ipynb>data table notebook</a>'\n",
              "            + ' to learn more about interactive tables.';\n",
              "          element.innerHTML = '';\n",
              "          dataTable['output_type'] = 'display_data';\n",
              "          await google.colab.output.renderOutput(dataTable, element);\n",
              "          const docLink = document.createElement('div');\n",
              "          docLink.innerHTML = docLinkHtml;\n",
              "          element.appendChild(docLink);\n",
              "        }\n",
              "      </script>\n",
              "    </div>\n",
              "  </div>\n",
              "  "
            ]
          },
          "metadata": {},
          "execution_count": 18
        }
      ]
    },
    {
      "cell_type": "code",
      "source": [
        "set(list(dataset[target]))"
      ],
      "metadata": {
        "colab": {
          "base_uri": "https://localhost:8080/"
        },
        "id": "go3-39CdkXvK",
        "outputId": "69b8775c-b085-49bc-f36d-708160ef0419"
      },
      "execution_count": 19,
      "outputs": [
        {
          "output_type": "execute_result",
          "data": {
            "text/plain": [
              "{'NREM', 'REM'}"
            ]
          },
          "metadata": {},
          "execution_count": 19
        }
      ]
    },
    {
      "cell_type": "code",
      "source": [
        "from sklearn.preprocessing import LabelEncoder\n",
        "encoder=LabelEncoder()\n",
        "dataset[target]=encoder.fit_transform(dataset[target])"
      ],
      "metadata": {
        "id": "g4tnae6UkZrd"
      },
      "execution_count": 20,
      "outputs": []
    },
    {
      "cell_type": "code",
      "source": [
        "\n",
        "set(list(dataset[target]))"
      ],
      "metadata": {
        "colab": {
          "base_uri": "https://localhost:8080/"
        },
        "id": "V1bcgPh-kbX4",
        "outputId": "43151c1b-fbc5-46bc-bbfb-cf86b7aa8a03"
      },
      "execution_count": 21,
      "outputs": [
        {
          "output_type": "execute_result",
          "data": {
            "text/plain": [
              "{0, 1}"
            ]
          },
          "metadata": {},
          "execution_count": 21
        }
      ]
    },
    {
      "cell_type": "code",
      "source": [
        "X = dataset.loc[:, dataset.columns!=target]\n",
        "y = dataset[target]"
      ],
      "metadata": {
        "id": "9_QkN7iRkc_3"
      },
      "execution_count": 22,
      "outputs": []
    },
    {
      "cell_type": "code",
      "source": [
        "#Splitting dataset into training and testing dataset\n",
        "from sklearn.model_selection import train_test_split\n",
        "X_train,X_test,y_train,y_test = train_test_split(X,y,test_size=0.2,random_state=0)"
      ],
      "metadata": {
        "id": "3RPx7u0Qke9-"
      },
      "execution_count": 23,
      "outputs": []
    },
    {
      "cell_type": "code",
      "source": [
        "new_dataset=balance(X_test,y_test)\n",
        "\n",
        "X_test = new_dataset.loc[:, new_dataset.columns!=target]\n",
        "y_test = new_dataset[target]"
      ],
      "metadata": {
        "id": "0B1hAy76TXJn"
      },
      "execution_count": 24,
      "outputs": []
    },
    {
      "cell_type": "code",
      "source": [],
      "metadata": {
        "id": "dCRAAaplUjdZ"
      },
      "execution_count": 24,
      "outputs": []
    },
    {
      "cell_type": "code",
      "source": [
        "import xgboost as xgb\n",
        "xgb_all = xgb.XGBClassifier(n_estimators=174,max_depth=29,random_state=0)\n",
        "xgb_all.fit(X_train,y_train)\n",
        "y_pred = xgb_all.predict(X_test)\n",
        "\n",
        "\n",
        "from sklearn.metrics import classification_report, confusion_matrix, accuracy_score\n",
        "print(confusion_matrix(y_test, y_pred))\n",
        "print(classification_report(y_test,y_pred))\n",
        "print(\"Accurecy: \",accuracy_score(y_test, y_pred))"
      ],
      "metadata": {
        "colab": {
          "base_uri": "https://localhost:8080/"
        },
        "id": "afjYzT4RkhjD",
        "outputId": "d649ca19-1628-41b8-8274-2e9d5a3d6b92"
      },
      "execution_count": 25,
      "outputs": [
        {
          "output_type": "stream",
          "name": "stdout",
          "text": [
            "[[14103   357]\n",
            " [ 2746 11714]]\n",
            "              precision    recall  f1-score   support\n",
            "\n",
            "           0       0.84      0.98      0.90     14460\n",
            "           1       0.97      0.81      0.88     14460\n",
            "\n",
            "    accuracy                           0.89     28920\n",
            "   macro avg       0.90      0.89      0.89     28920\n",
            "weighted avg       0.90      0.89      0.89     28920\n",
            "\n",
            "Accurecy:  0.892704011065007\n"
          ]
        }
      ]
    },
    {
      "cell_type": "code",
      "source": [
        "import xgboost as xgb\n",
        "from sklearn.metrics import accuracy_score\n",
        "N=500\n",
        "k_range = range (298,N+1)\n",
        "scores={}\n",
        "scores_list = []\n",
        "for k in k_range:\n",
        "  xgb_classifier = xgb.XGBClassifier(n_estimators=k,random_state=0)\n",
        "  xgb_classifier.fit(X_train, y_train)\n",
        "  y_pred=xgb_classifier.predict(X_test)\n",
        "  scores[k] = accuracy_score(y_test,y_pred)\n",
        "  scores_list.append(accuracy_score(y_test,y_pred))\n",
        "  print(str(k)+\"/\"+str(N)+\" round completed......................... Accurecy: \"+str(accuracy_score(y_test,y_pred)))\n",
        "\n",
        "\n",
        "%matplotlib inline\n",
        "import matplotlib.pyplot as plt\n",
        "\n",
        "plt.figure(figsize = (25,10))\n",
        "plt.plot(k_range,scores_list)\n",
        "plt.xlabel('Value of n_estimators')\n",
        "plt.ylabel ('Testing Accuracy')\n",
        "\n",
        "\n",
        "\n",
        "print(\"The best n_estimators:\")\n",
        "best_estimator=list(scores.keys())[scores_list.index(max(scores_list))]\n",
        "print(best_estimator)"
      ],
      "metadata": {
        "colab": {
          "base_uri": "https://localhost:8080/",
          "height": 1000
        },
        "id": "OEp8A0HUUgQv",
        "outputId": "04dcea07-a52a-4b54-a3f6-941fd3a0b45c"
      },
      "execution_count": 28,
      "outputs": [
        {
          "output_type": "stream",
          "name": "stdout",
          "text": [
            "298/500 round completed......................... Accurecy: 0.8419778699861687\n",
            "299/500 round completed......................... Accurecy: 0.8419087136929461\n",
            "300/500 round completed......................... Accurecy: 0.8420124481327801\n",
            "301/500 round completed......................... Accurecy: 0.8422890733056708\n",
            "302/500 round completed......................... Accurecy: 0.8424273858921162\n",
            "303/500 round completed......................... Accurecy: 0.8426002766251729\n",
            "304/500 round completed......................... Accurecy: 0.8430843706777317\n",
            "305/500 round completed......................... Accurecy: 0.8430497925311203\n",
            "306/500 round completed......................... Accurecy: 0.8440871369294606\n",
            "307/500 round completed......................... Accurecy: 0.8439488243430152\n",
            "308/500 round completed......................... Accurecy: 0.8439142461964039\n",
            "309/500 round completed......................... Accurecy: 0.8439834024896266\n",
            "310/500 round completed......................... Accurecy: 0.8438450899031812\n",
            "311/500 round completed......................... Accurecy: 0.8441908713692946\n",
            "312/500 round completed......................... Accurecy: 0.8439834024896266\n",
            "313/500 round completed......................... Accurecy: 0.8439834024896266\n",
            "314/500 round completed......................... Accurecy: 0.8437413554633472\n",
            "315/500 round completed......................... Accurecy: 0.8439488243430152\n",
            "316/500 round completed......................... Accurecy: 0.84432918395574\n",
            "317/500 round completed......................... Accurecy: 0.84432918395574\n",
            "318/500 round completed......................... Accurecy: 0.84432918395574\n",
            "319/500 round completed......................... Accurecy: 0.8443637621023513\n",
            "320/500 round completed......................... Accurecy: 0.8447786998616874\n",
            "321/500 round completed......................... Accurecy: 0.8447441217150761\n",
            "322/500 round completed......................... Accurecy: 0.8447095435684647\n",
            "323/500 round completed......................... Accurecy: 0.8447441217150761\n",
            "324/500 round completed......................... Accurecy: 0.8451244813278008\n",
            "325/500 round completed......................... Accurecy: 0.8453319502074689\n",
            "326/500 round completed......................... Accurecy: 0.8452973720608575\n",
            "327/500 round completed......................... Accurecy: 0.8452973720608575\n",
            "328/500 round completed......................... Accurecy: 0.8455048409405256\n",
            "329/500 round completed......................... Accurecy: 0.8454702627939142\n",
            "330/500 round completed......................... Accurecy: 0.8457123098201936\n",
            "331/500 round completed......................... Accurecy: 0.845746887966805\n",
            "332/500 round completed......................... Accurecy: 0.8458852005532503\n",
            "333/500 round completed......................... Accurecy: 0.846058091286307\n",
            "334/500 round completed......................... Accurecy: 0.8459197786998617\n",
            "335/500 round completed......................... Accurecy: 0.845850622406639\n",
            "336/500 round completed......................... Accurecy: 0.8460235131396957\n",
            "337/500 round completed......................... Accurecy: 0.8463001383125864\n",
            "338/500 round completed......................... Accurecy: 0.8463347164591978\n",
            "339/500 round completed......................... Accurecy: 0.8459197786998617\n",
            "340/500 round completed......................... Accurecy: 0.8461618257261411\n",
            "341/500 round completed......................... Accurecy: 0.8458160442600277\n",
            "342/500 round completed......................... Accurecy: 0.8463692946058091\n",
            "343/500 round completed......................... Accurecy: 0.8465076071922545\n",
            "344/500 round completed......................... Accurecy: 0.8465421853388658\n",
            "345/500 round completed......................... Accurecy: 0.8465767634854772\n",
            "346/500 round completed......................... Accurecy: 0.8465767634854772\n",
            "347/500 round completed......................... Accurecy: 0.8467842323651452\n",
            "348/500 round completed......................... Accurecy: 0.847060857538036\n",
            "349/500 round completed......................... Accurecy: 0.847268326417704\n",
            "350/500 round completed......................... Accurecy: 0.847372060857538\n",
            "351/500 round completed......................... Accurecy: 0.8475795297372061\n",
            "352/500 round completed......................... Accurecy: 0.8477524204702628\n",
            "353/500 round completed......................... Accurecy: 0.8478561549100968\n",
            "354/500 round completed......................... Accurecy: 0.8483748271092669\n",
            "355/500 round completed......................... Accurecy: 0.8480636237897649\n",
            "356/500 round completed......................... Accurecy: 0.8481327800829875\n",
            "357/500 round completed......................... Accurecy: 0.8483056708160442\n",
            "358/500 round completed......................... Accurecy: 0.8483402489626556\n",
            "359/500 round completed......................... Accurecy: 0.8487551867219917\n",
            "360/500 round completed......................... Accurecy: 0.8488589211618257\n",
            "361/500 round completed......................... Accurecy: 0.848789764868603\n",
            "362/500 round completed......................... Accurecy: 0.8487206085753803\n",
            "363/500 round completed......................... Accurecy: 0.8488589211618257\n",
            "364/500 round completed......................... Accurecy: 0.8489972337482711\n",
            "365/500 round completed......................... Accurecy: 0.8491009681881051\n",
            "366/500 round completed......................... Accurecy: 0.8492392807745505\n",
            "367/500 round completed......................... Accurecy: 0.8493430152143845\n",
            "368/500 round completed......................... Accurecy: 0.8493430152143845\n",
            "369/500 round completed......................... Accurecy: 0.8493430152143845\n",
            "370/500 round completed......................... Accurecy: 0.8491355463347164\n",
            "371/500 round completed......................... Accurecy: 0.8493430152143845\n",
            "372/500 round completed......................... Accurecy: 0.8496196403872752\n",
            "373/500 round completed......................... Accurecy: 0.8502420470262794\n",
            "374/500 round completed......................... Accurecy: 0.850311203319502\n",
            "375/500 round completed......................... Accurecy: 0.8503457814661134\n",
            "376/500 round completed......................... Accurecy: 0.8502420470262794\n",
            "377/500 round completed......................... Accurecy: 0.8501728907330567\n",
            "378/500 round completed......................... Accurecy: 0.8500691562932227\n",
            "379/500 round completed......................... Accurecy: 0.8499654218533886\n",
            "380/500 round completed......................... Accurecy: 0.8501383125864453\n",
            "381/500 round completed......................... Accurecy: 0.8501728907330567\n",
            "382/500 round completed......................... Accurecy: 0.8503803596127247\n",
            "383/500 round completed......................... Accurecy: 0.8505532503457814\n",
            "384/500 round completed......................... Accurecy: 0.8510373443983402\n",
            "385/500 round completed......................... Accurecy: 0.8511410788381742\n",
            "386/500 round completed......................... Accurecy: 0.8506915629322268\n",
            "387/500 round completed......................... Accurecy: 0.8506569847856155\n",
            "388/500 round completed......................... Accurecy: 0.8508298755186722\n",
            "389/500 round completed......................... Accurecy: 0.8508298755186722\n",
            "390/500 round completed......................... Accurecy: 0.8508990318118949\n",
            "391/500 round completed......................... Accurecy: 0.8512102351313969\n",
            "392/500 round completed......................... Accurecy: 0.851313969571231\n",
            "393/500 round completed......................... Accurecy: 0.8510373443983402\n",
            "394/500 round completed......................... Accurecy: 0.8510719225449516\n",
            "395/500 round completed......................... Accurecy: 0.8512102351313969\n",
            "396/500 round completed......................... Accurecy: 0.8512448132780083\n",
            "397/500 round completed......................... Accurecy: 0.8513831258644536\n",
            "398/500 round completed......................... Accurecy: 0.8512448132780083\n",
            "399/500 round completed......................... Accurecy: 0.8513831258644536\n",
            "400/500 round completed......................... Accurecy: 0.851313969571231\n",
            "401/500 round completed......................... Accurecy: 0.8514868603042877\n",
            "402/500 round completed......................... Accurecy: 0.851625172890733\n",
            "403/500 round completed......................... Accurecy: 0.8521092669432918\n",
            "404/500 round completed......................... Accurecy: 0.8522821576763485\n",
            "405/500 round completed......................... Accurecy: 0.8523858921161825\n",
            "406/500 round completed......................... Accurecy: 0.8521784232365145\n",
            "407/500 round completed......................... Accurecy: 0.8522130013831258\n",
            "408/500 round completed......................... Accurecy: 0.8521092669432918\n",
            "409/500 round completed......................... Accurecy: 0.8521438450899032\n",
            "410/500 round completed......................... Accurecy: 0.8520746887966805\n",
            "411/500 round completed......................... Accurecy: 0.8520746887966805\n",
            "412/500 round completed......................... Accurecy: 0.8523858921161825\n",
            "413/500 round completed......................... Accurecy: 0.8524550484094052\n",
            "414/500 round completed......................... Accurecy: 0.8526625172890733\n",
            "415/500 round completed......................... Accurecy: 0.8528699861687413\n",
            "416/500 round completed......................... Accurecy: 0.852939142461964\n",
            "417/500 round completed......................... Accurecy: 0.8531120331950207\n",
            "418/500 round completed......................... Accurecy: 0.8531120331950207\n",
            "419/500 round completed......................... Accurecy: 0.8533886583679114\n",
            "420/500 round completed......................... Accurecy: 0.8533886583679114\n",
            "421/500 round completed......................... Accurecy: 0.8535615491009682\n",
            "422/500 round completed......................... Accurecy: 0.8536998616874135\n",
            "423/500 round completed......................... Accurecy: 0.8535269709543568\n",
            "424/500 round completed......................... Accurecy: 0.8539073305670816\n",
            "425/500 round completed......................... Accurecy: 0.8539419087136929\n",
            "426/500 round completed......................... Accurecy: 0.8540456431535269\n",
            "427/500 round completed......................... Accurecy: 0.8539073305670816\n",
            "428/500 round completed......................... Accurecy: 0.8538035961272475\n",
            "429/500 round completed......................... Accurecy: 0.854253112033195\n",
            "430/500 round completed......................... Accurecy: 0.854149377593361\n",
            "431/500 round completed......................... Accurecy: 0.8541839557399723\n",
            "432/500 round completed......................... Accurecy: 0.8543222683264177\n",
            "433/500 round completed......................... Accurecy: 0.8542876901798063\n",
            "434/500 round completed......................... Accurecy: 0.854253112033195\n",
            "435/500 round completed......................... Accurecy: 0.8545988934993084\n",
            "436/500 round completed......................... Accurecy: 0.8546334716459197\n",
            "437/500 round completed......................... Accurecy: 0.8547372060857538\n",
            "438/500 round completed......................... Accurecy: 0.8547372060857538\n",
            "439/500 round completed......................... Accurecy: 0.8547372060857538\n",
            "440/500 round completed......................... Accurecy: 0.8548063623789764\n",
            "441/500 round completed......................... Accurecy: 0.8548063623789764\n",
            "442/500 round completed......................... Accurecy: 0.8547372060857538\n",
            "443/500 round completed......................... Accurecy: 0.8548063623789764\n",
            "444/500 round completed......................... Accurecy: 0.8550484094052558\n",
            "445/500 round completed......................... Accurecy: 0.8554287690179806\n",
            "446/500 round completed......................... Accurecy: 0.8554287690179806\n",
            "447/500 round completed......................... Accurecy: 0.8557053941908713\n",
            "448/500 round completed......................... Accurecy: 0.8551867219917012\n",
            "449/500 round completed......................... Accurecy: 0.8556362378976486\n",
            "450/500 round completed......................... Accurecy: 0.8557053941908713\n",
            "451/500 round completed......................... Accurecy: 0.85567081604426\n",
            "452/500 round completed......................... Accurecy: 0.8557399723374827\n",
            "453/500 round completed......................... Accurecy: 0.8558437067773167\n",
            "454/500 round completed......................... Accurecy: 0.8558437067773167\n",
            "455/500 round completed......................... Accurecy: 0.855774550484094\n",
            "456/500 round completed......................... Accurecy: 0.8556362378976486\n",
            "457/500 round completed......................... Accurecy: 0.8559128630705394\n",
            "458/500 round completed......................... Accurecy: 0.8558437067773167\n",
            "459/500 round completed......................... Accurecy: 0.8560165975103734\n",
            "460/500 round completed......................... Accurecy: 0.8559128630705394\n",
            "461/500 round completed......................... Accurecy: 0.8555325034578146\n",
            "462/500 round completed......................... Accurecy: 0.855878284923928\n",
            "463/500 round completed......................... Accurecy: 0.8559128630705394\n",
            "464/500 round completed......................... Accurecy: 0.8559128630705394\n",
            "465/500 round completed......................... Accurecy: 0.8561203319502074\n",
            "466/500 round completed......................... Accurecy: 0.8561894882434301\n",
            "467/500 round completed......................... Accurecy: 0.8561203319502074\n",
            "468/500 round completed......................... Accurecy: 0.8562240663900414\n",
            "469/500 round completed......................... Accurecy: 0.8562240663900414\n",
            "470/500 round completed......................... Accurecy: 0.8563278008298755\n",
            "471/500 round completed......................... Accurecy: 0.8564315352697095\n",
            "472/500 round completed......................... Accurecy: 0.8565006915629322\n",
            "473/500 round completed......................... Accurecy: 0.8566735822959889\n",
            "474/500 round completed......................... Accurecy: 0.8569502074688796\n",
            "475/500 round completed......................... Accurecy: 0.856984785615491\n",
            "476/500 round completed......................... Accurecy: 0.8572614107883817\n",
            "477/500 round completed......................... Accurecy: 0.8574688796680497\n",
            "478/500 round completed......................... Accurecy: 0.8575726141078838\n",
            "479/500 round completed......................... Accurecy: 0.8575380359612724\n",
            "480/500 round completed......................... Accurecy: 0.8573997233748271\n",
            "481/500 round completed......................... Accurecy: 0.8571576763485477\n",
            "482/500 round completed......................... Accurecy: 0.8571576763485477\n",
            "483/500 round completed......................... Accurecy: 0.8572268326417704\n",
            "484/500 round completed......................... Accurecy: 0.8571576763485477\n",
            "485/500 round completed......................... Accurecy: 0.8571576763485477\n",
            "486/500 round completed......................... Accurecy: 0.8571230982019363\n",
            "487/500 round completed......................... Accurecy: 0.8569156293222683\n",
            "488/500 round completed......................... Accurecy: 0.8567773167358229\n",
            "489/500 round completed......................... Accurecy: 0.8571230982019363\n",
            "490/500 round completed......................... Accurecy: 0.8571230982019363\n",
            "491/500 round completed......................... Accurecy: 0.8574688796680497\n",
            "492/500 round completed......................... Accurecy: 0.8577109266943291\n",
            "493/500 round completed......................... Accurecy: 0.8578492392807745\n",
            "494/500 round completed......................... Accurecy: 0.8578146611341632\n",
            "495/500 round completed......................... Accurecy: 0.8578146611341632\n",
            "496/500 round completed......................... Accurecy: 0.8578492392807745\n",
            "497/500 round completed......................... Accurecy: 0.8578838174273858\n",
            "498/500 round completed......................... Accurecy: 0.8579183955739972\n",
            "499/500 round completed......................... Accurecy: 0.8581258644536652\n",
            "500/500 round completed......................... Accurecy: 0.8583679114799446\n",
            "The best n_estimators:\n",
            "500\n"
          ]
        },
        {
          "output_type": "display_data",
          "data": {
            "text/plain": [
              "<Figure size 1800x720 with 1 Axes>"
            ],
            "image/png": "[encoded data removed]"
          },
          "metadata": {
            "needs_background": "light"
          }
        }
      ]
    },
    {
      "cell_type": "code",
      "source": [
        "import xgboost as xgb\n",
        "from sklearn.metrics import accuracy_score\n",
        "N=30\n",
        "k_range = range (28,N+1)\n",
        "scores={}\n",
        "scores_list = []\n",
        "for k in k_range:\n",
        "  xgb_classifier = xgb.XGBClassifier(max_depth=k,random_state=0)\n",
        "  xgb_classifier.fit(X_train, y_train)\n",
        "  y_pred=xgb_classifier.predict(X_test)\n",
        "  scores[k] = accuracy_score(y_test,y_pred)\n",
        "  scores_list.append(accuracy_score(y_test,y_pred))\n",
        "  print(str(k)+\"/\"+str(N)+\" round completed......................... Accurecy: \"+str(accuracy_score(y_test,y_pred)))\n",
        "\n",
        "\n",
        "%matplotlib inline\n",
        "import matplotlib.pyplot as plt\n",
        "\n",
        "plt.figure(figsize = (25,10))\n",
        "plt.plot(k_range,scores_list)\n",
        "plt.xlabel('Value of n_estimators')\n",
        "plt.ylabel ('Testing Accuracy')\n",
        "\n",
        "\n",
        "\n",
        "print(\"The best depth:\")\n",
        "best_depth=list(scores.keys())[scores_list.index(max(scores_list))]\n",
        "print(best_depth)"
      ],
      "metadata": {
        "colab": {
          "base_uri": "https://localhost:8080/",
          "height": 698
        },
        "id": "EqINBu5iUkUa",
        "outputId": "3ca63933-d70b-47bf-fded-8ae043bd8a3f"
      },
      "execution_count": 29,
      "outputs": [
        {
          "output_type": "stream",
          "name": "stdout",
          "text": [
            "28/30 round completed......................... Accurecy: 0.8859958506224066\n",
            "29/30 round completed......................... Accurecy: 0.887551867219917\n",
            "30/30 round completed......................... Accurecy: 0.886237897648686\n",
            "The best depth:\n",
            "29\n"
          ]
        },
        {
          "output_type": "display_data",
          "data": {
            "text/plain": [
              "<Figure size 1800x720 with 1 Axes>"
            ],
            "image/png": "[encoded data removed]"
          },
          "metadata": {
            "needs_background": "light"
          }
        }
      ]
    },
    {
      "cell_type": "code",
      "source": [
        "import xgboost as xgb\n",
        "xgb_all = xgb.XGBClassifier(n_estimators=best_estimator,max_depth=best_depth,random_state=0)\n",
        "xgb_all.fit(X_train,y_train)\n",
        "y_pred = xgb_all.predict(X_test)\n",
        "\n",
        "\n",
        "from sklearn.metrics import classification_report, confusion_matrix, accuracy_score\n",
        "print(confusion_matrix(y_test, y_pred))\n",
        "print(classification_report(y_test,y_pred))\n",
        "print(\"Accurecy: \",accuracy_score(y_test, y_pred))"
      ],
      "metadata": {
        "colab": {
          "base_uri": "https://localhost:8080/"
        },
        "id": "5dJGf2FxUp9j",
        "outputId": "bdb9f690-2af7-4d52-ad68-1656cdf27c24"
      },
      "execution_count": 32,
      "outputs": [
        {
          "output_type": "stream",
          "name": "stdout",
          "text": [
            "[[14126   334]\n",
            " [ 2611 11849]]\n",
            "              precision    recall  f1-score   support\n",
            "\n",
            "           0       0.84      0.98      0.91     14460\n",
            "           1       0.97      0.82      0.89     14460\n",
            "\n",
            "    accuracy                           0.90     28920\n",
            "   macro avg       0.91      0.90      0.90     28920\n",
            "weighted avg       0.91      0.90      0.90     28920\n",
            "\n",
            "Accurecy:  0.8981673582295989\n"
          ]
        }
      ]
    }
  ]
}