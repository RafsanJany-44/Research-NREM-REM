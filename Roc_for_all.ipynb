{
  "nbformat": 4,
  "nbformat_minor": 0,
  "metadata": {
    "colab": {
      "provenance": [],
      "authorship_tag": "ABX9TyOlGwHCopLVvQSabmivDyxt",
      "include_colab_link": true
    },
    "kernelspec": {
      "name": "python3",
      "display_name": "Python 3"
    },
    "language_info": {
      "name": "python"
    }
  },
  "cells": [
    {
      "cell_type": "markdown",
      "metadata": {
        "id": "view-in-github",
        "colab_type": "text"
      },
      "source": [
        "<a href=\"https://colab.research.google.com/github/RafsanJany-44/Research-NREM-REM/blob/main/Roc_for_all.ipynb\" target=\"_parent\"><img src=\"https://colab.research.google.com/assets/colab-badge.svg\" alt=\"Open In Colab\"/></a>"
      ]
    },
    {
      "cell_type": "code",
      "execution_count": null,
      "metadata": {
        "id": "Ymf9P8GVQNnM"
      },
      "outputs": [],
      "source": [
        "from google.colab import drive\n",
        "drive.mount('/content/drive')"
      ]
    },
    {
      "cell_type": "code",
      "source": [
        "def ROC(mod,model_name,X_t,y_t,graph_feat):\n",
        "  r_probs = [0 for _ in range(len(y_t))]\n",
        "\n",
        "  model_probs = []\n",
        "\n",
        "\n",
        "  for i in mod:\n",
        "    model_probs.append(i.predict_proba(X_t))\n",
        "\n",
        "\n",
        "  model_probs2=[]\n",
        "\n",
        "  for i in model_probs:\n",
        "    model_probs2.append(i[:,1])\n",
        "\n",
        "\n",
        "  from sklearn.metrics import roc_curve, roc_auc_score\n",
        "\n",
        "  model_auc=[]\n",
        "  r_auc = roc_auc_score(y_t, r_probs)\n",
        "\n",
        "  for i in model_probs2:\n",
        "    model_auc.append(roc_auc_score(y_t,i))\n",
        "\n",
        "\n",
        "  fpr_tpr=[]\n",
        "  r_fpr, r_tpr, _ = roc_curve(y_t, r_probs)\n",
        "\n",
        "  for i in model_probs2:\n",
        "    fpr, tpr, _ = roc_curve(y_t, i)\n",
        "    fpr_tpr.append((fpr,tpr))\n",
        "\n",
        "  import matplotlib.pyplot as plt\n",
        "  plt.plot(r_fpr, r_tpr, linestyle='--', label='Random prediction (AUROC = %0.3f)' % r_auc)\n",
        "\n",
        "  for i in range(len(model_auc)):\n",
        "    plt.plot(fpr_tpr[i][0], fpr_tpr[i][1], marker='.', label=model_name[i]+' (AUROC = %0.3f)' % model_auc[i])\n",
        "\n",
        "  # Title\n",
        "  plt.title(graph_feat[\"Title\"],fontsize= graph_feat[\"Title Size\"], fontweight=graph_feat[\"Title Fontweight\"])\n",
        "  plt.xlabel('False Positive Rate',fontweight=graph_feat[\"X axis Label Fontweight\"],fontsize=graph_feat[\"X axis Label Font Size\"])\n",
        "  plt.ylabel('True Positive Rate',fontweight=graph_feat[\"Y axis Label Fontweight\"],fontsize=graph_feat[\"Y axis Label Font Size\"])\n",
        "  \n",
        "  plt.legend( \n",
        "           prop = {'size' : graph_feat[\"legend Font Size\"]}, \n",
        "           loc = graph_feat[\"legend Position\"])\n",
        "  \n",
        "  fig = plt.gcf()\n",
        "  fig.set_size_inches(graph_feat[\"Fig Width (inches)\"], graph_feat[\"Fig Height (inches)\"])\n",
        "  fig.savefig(graph_feat[\"Fig Saving Name\"], dpi=graph_feat[\"dpi\"])\n",
        "  plt.show()"
      ],
      "metadata": {
        "id": "Fk-R0EBrTMNC"
      },
      "execution_count": null,
      "outputs": []
    },
    {
      "cell_type": "code",
      "source": [
        "graph_feat={\n",
        "    \"Title\" : \"ROC Plot Testing\",\n",
        "    \"Title Size\":18,\n",
        "    \"Title Fontweight\":'bold',\n",
        "\n",
        "    \"legend Font Size\": 14,\n",
        "    \"legend Position\": \"lower right\",\n",
        "\n",
        "    \"X axis Label Font Size\":16,\n",
        "    \"X axis Label Fontweight\":'bold',\n",
        "\n",
        "    \"Y axis Label Font Size\":16,\n",
        "    \"Y axis Label Fontweight\":'bold',\n",
        "\n",
        "    \"Fig Height (inches)\":10.8,\n",
        "    \"Fig Width (inches)\":18.8,\n",
        "\n",
        "    \"Fig Saving Name\": \"ROC_training.png\",\n",
        "    \"dpi\":100\n",
        "    \n",
        "\n",
        "}\n"
      ],
      "metadata": {
        "id": "8DBc6-esTakA"
      },
      "execution_count": null,
      "outputs": []
    },
    {
      "cell_type": "code",
      "source": [
        "import numpy as np\n",
        "import pandas as pd\n",
        "\n",
        "dataset=pd.read_csv(\"https://raw.githubusercontent.com/RafsanJany-44/Research-NREM-REM/main/dataset/REM_NREM.csv\")\n",
        "\n",
        "\n",
        "target=\"Sleep_Stage\"\n",
        "\n",
        "classes = np.array(sorted(list(set(dataset[target]))))"
      ],
      "metadata": {
        "id": "jhMU7sH_RO6J"
      },
      "execution_count": null,
      "outputs": []
    },
    {
      "cell_type": "code",
      "source": [
        "!pip install imbalanced-learn\n",
        "\n",
        "from imblearn.over_sampling import SMOTE\n",
        "\n",
        "def balance(X_temp, y_temp):\n",
        "  smote = SMOTE()\n",
        "  X_temp, y_temp= smote.fit_resample(X_temp, y_temp)\n",
        "\n",
        "  return pd.concat([pd.DataFrame(X_temp), pd.DataFrame(y_temp)], axis=1)"
      ],
      "metadata": {
        "id": "TBe9YrS4RVvn"
      },
      "execution_count": null,
      "outputs": []
    },
    {
      "cell_type": "code",
      "source": [
        "from joblib import Parallel, delayed\n",
        "import joblib\n",
        "  \n",
        "\n",
        "def save_model(model,model_name):\n",
        " joblib.dump(model, model_name)\n",
        "  \n",
        "def load_model(model_name):\n",
        "  return joblib.load(model_name)"
      ],
      "metadata": {
        "id": "s2YBHalQRb13"
      },
      "execution_count": null,
      "outputs": []
    },
    {
      "cell_type": "code",
      "source": [
        "from sklearn.preprocessing import LabelEncoder\n",
        "encoder=LabelEncoder()\n",
        "dataset[target]=encoder.fit_transform(dataset[target])"
      ],
      "metadata": {
        "id": "K6_7TXrHRhxa"
      },
      "execution_count": null,
      "outputs": []
    },
    {
      "cell_type": "code",
      "source": [
        "X = dataset.loc[:, dataset.columns!=target]\n",
        "y = dataset[target]"
      ],
      "metadata": {
        "id": "DMM6y8UZRqZH"
      },
      "execution_count": null,
      "outputs": []
    },
    {
      "cell_type": "code",
      "source": [
        "#Splitting dataset into training and testing dataset\n",
        "from sklearn.model_selection import train_test_split\n",
        "X_train,X_test,y_train,y_test = train_test_split(X,y,test_size=0.2,random_state=0)"
      ],
      "metadata": {
        "id": "gGiNuQ6-RwmH"
      },
      "execution_count": null,
      "outputs": []
    },
    {
      "cell_type": "code",
      "source": [
        "new_dataset=balance(X_train,y_train)\n",
        "\n",
        "X_train = new_dataset.loc[:, new_dataset.columns!=target]\n",
        "y_train = new_dataset[target]"
      ],
      "metadata": {
        "id": "uECCTqWZR2Gh"
      },
      "execution_count": null,
      "outputs": []
    },
    {
      "cell_type": "code",
      "source": [
        "from sklearn.ensemble import RandomForestClassifier\n",
        "rf = load_model(\"/content/drive/MyDrive/MLModel_NREM_REM/RandomForestClassifier(max_depth=39, n_estimators=450, random_state=0)\")"
      ],
      "metadata": {
        "id": "WG6Y9OIdR2EA"
      },
      "execution_count": null,
      "outputs": []
    },
    {
      "cell_type": "code",
      "source": [
        "y_pred_train=rf.predict(X_train)\n",
        "\n",
        "\n",
        "from sklearn.metrics import classification_report, confusion_matrix, accuracy_score\n",
        "print(confusion_matrix(y_train, y_pred_train))\n",
        "print(classification_report(y_train,y_pred_train))\n",
        "print(\"Accurecy: \",accuracy_score(y_train, y_pred_train))"
      ],
      "metadata": {
        "id": "dvFKRVYzSC1m"
      },
      "execution_count": null,
      "outputs": []
    },
    {
      "cell_type": "code",
      "source": [
        "y_pred_test=rf.predict(X_test)\n",
        "\n",
        "\n",
        "from sklearn.metrics import classification_report, confusion_matrix, accuracy_score\n",
        "print(confusion_matrix(y_test, y_pred_test))\n",
        "print(classification_report(y_test,y_pred_test))\n",
        "print(\"Accurecy: \",accuracy_score(y_test, y_pred_test))"
      ],
      "metadata": {
        "id": "hf3IkxXJSCxX"
      },
      "execution_count": null,
      "outputs": []
    },
    {
      "cell_type": "code",
      "source": [],
      "metadata": {
        "id": "nh1GYnwSSame"
      },
      "execution_count": null,
      "outputs": []
    },
    {
      "cell_type": "code",
      "source": [
        "from sklearn.ensemble import GradientBoostingClassifier\n",
        "gb=load_model(\"/content/drive/MyDrive/MLModel_NREM_REM/GradientBoostingClassifier(max_depth=12, n_estimators=1150, random_state=0)\")"
      ],
      "metadata": {
        "id": "A5Qrd4Q0SCuQ"
      },
      "execution_count": null,
      "outputs": []
    },
    {
      "cell_type": "code",
      "source": [
        "y_pred_train=gb.predict(X_train)\n",
        "\n",
        "\n",
        "from sklearn.metrics import classification_report, confusion_matrix, accuracy_score\n",
        "print(confusion_matrix(y_train, y_pred_train))\n",
        "print(classification_report(y_train,y_pred_train))\n",
        "print(\"Accurecy: \",accuracy_score(y_train, y_pred_train))"
      ],
      "metadata": {
        "id": "Fi2Us1YySSzR"
      },
      "execution_count": null,
      "outputs": []
    },
    {
      "cell_type": "code",
      "source": [
        "y_pred_test=gb.predict(X_test)\n",
        "\n",
        "\n",
        "from sklearn.metrics import classification_report, confusion_matrix, accuracy_score\n",
        "print(confusion_matrix(y_test, y_pred_test))\n",
        "print(classification_report(y_test,y_pred_test))\n",
        "print(\"Accurecy: \",accuracy_score(y_test, y_pred_test))"
      ],
      "metadata": {
        "id": "A6mQYjzFSSwd"
      },
      "execution_count": null,
      "outputs": []
    },
    {
      "cell_type": "code",
      "source": [],
      "metadata": {
        "id": "-73LDdhySSuP"
      },
      "execution_count": null,
      "outputs": []
    },
    {
      "cell_type": "code",
      "source": [
        "import xgboost as xgb\n",
        "xgb =  load_model(\"/content/drive/MyDrive/MLModel_NREM_REM/XGBClassifier(max_depth=29, n_estimators=4010)\")"
      ],
      "metadata": {
        "id": "LjX-woZdSSoS"
      },
      "execution_count": null,
      "outputs": []
    },
    {
      "cell_type": "code",
      "source": [
        "y_pred_test = xgb.predict(X_test)\n",
        "\n",
        "from sklearn.metrics import classification_report, confusion_matrix, accuracy_score\n",
        "print(confusion_matrix(y_test, y_pred_test))\n",
        "print(classification_report(y_test,y_pred_test))\n",
        "print(\"Accurecy: \",accuracy_score(y_test, y_pred_test))"
      ],
      "metadata": {
        "id": "_a6hEvcJSSlZ"
      },
      "execution_count": null,
      "outputs": []
    },
    {
      "cell_type": "code",
      "source": [
        "y_pred_train = xgb.predict(X_train)\n",
        "\n",
        "from sklearn.metrics import classification_report, confusion_matrix, accuracy_score\n",
        "print(confusion_matrix(y_train, y_pred_train))\n",
        "print(classification_report(y_train,y_pred_train))\n",
        "print(\"Accurecy: \",accuracy_score(y_train, y_pred_train))"
      ],
      "metadata": {
        "id": "-CtOTe8kSCrr"
      },
      "execution_count": null,
      "outputs": []
    },
    {
      "cell_type": "code",
      "source": [],
      "metadata": {
        "id": "3q76Hr7ISCoZ"
      },
      "execution_count": null,
      "outputs": []
    },
    {
      "cell_type": "code",
      "source": [],
      "metadata": {
        "id": "-La8eVHcSClZ"
      },
      "execution_count": null,
      "outputs": []
    },
    {
      "cell_type": "code",
      "source": [],
      "metadata": {
        "id": "IUQlFrTsSCeT"
      },
      "execution_count": null,
      "outputs": []
    },
    {
      "cell_type": "code",
      "source": [],
      "metadata": {
        "id": "JrN-FuwrSg5A"
      },
      "execution_count": null,
      "outputs": []
    },
    {
      "cell_type": "code",
      "source": [],
      "metadata": {
        "id": "SfZm09XoSg3a"
      },
      "execution_count": null,
      "outputs": []
    },
    {
      "cell_type": "code",
      "source": [],
      "metadata": {
        "id": "K-cGM2KfSg0y"
      },
      "execution_count": null,
      "outputs": []
    },
    {
      "cell_type": "code",
      "source": [],
      "metadata": {
        "id": "R1msdBnrSgys"
      },
      "execution_count": null,
      "outputs": []
    },
    {
      "cell_type": "code",
      "source": [],
      "metadata": {
        "id": "yiSJu6VVSgvU"
      },
      "execution_count": null,
      "outputs": []
    },
    {
      "cell_type": "code",
      "source": [],
      "metadata": {
        "id": "zEe0hhzRSgsD"
      },
      "execution_count": null,
      "outputs": []
    }
  ]
}